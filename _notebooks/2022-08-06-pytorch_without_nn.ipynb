{
 "cells": [
  {
   "cell_type": "markdown",
   "id": "370bc00d",
   "metadata": {},
   "source": [
    "# DL without Pytorch nn.Module"
   ]
  },
  {
   "cell_type": "code",
   "execution_count": 1,
   "id": "a0694292-60dd-4ab0-9dff-176bacdcf20c",
   "metadata": {},
   "outputs": [],
   "source": [
    "from fastai.vision.all import *"
   ]
  },
  {
   "cell_type": "code",
   "execution_count": 2,
   "id": "2ffa3499-ef77-4687-95ed-9d68aa3a3b87",
   "metadata": {},
   "outputs": [
    {
     "data": {
      "text/plain": [
       "(#3) [Path('train'),Path('labels.csv'),Path('valid')]"
      ]
     },
     "execution_count": 2,
     "metadata": {},
     "output_type": "execute_result"
    }
   ],
   "source": [
    "path = untar_data(URLs.MNIST_SAMPLE)\n",
    "Path.BASE_PATH = path\n",
    "path.ls()"
   ]
  },
  {
   "cell_type": "code",
   "execution_count": 26,
   "id": "0ba995c9-01f9-404c-b643-f6f6271662aa",
   "metadata": {},
   "outputs": [],
   "source": [
    "def get_dls():\n",
    "    def get_ds(train_valid):\n",
    "        def get_X(train_valid, three_seven):\n",
    "            files = (path/train_valid/three_seven).ls()\n",
    "            X = torch.stack([tensor(Image.open(x)) for x in files])#.reshape(-1, 28*28)\n",
    "            return X\n",
    "        X3, X7 = get_X(train_valid, '3'), get_X(train_valid, '7')\n",
    "        X = torch.cat([X3, X7])/255.\n",
    "        y = torch.tensor([1]*len(X3) + [0]*len(X7)).reshape(-1, 1)\n",
    "        #print(X.shape, y.shape)\n",
    "        return list(zip(X, y))\n",
    "    ds1 = DataLoader(get_ds('train'), bs=256, shuffle=True)\n",
    "    ds2 = DataLoader(get_ds('valid'), bs=256)\n",
    "    return DataLoaders(ds1, ds2)\n",
    "                    \n",
    "dls = get_dls()    "
   ]
  },
  {
   "cell_type": "code",
   "execution_count": 25,
   "id": "b3bb649e-efc6-4a39-b935-b692e56ec0dd",
   "metadata": {},
   "outputs": [],
   "source": [
    "def loss_fn(y, t):\n",
    "    return torch.where(t==1, 1-y, y).mean()\n",
    "\n",
    "def batch_accuracy(y, t):\n",
    "    return ((y>0.5)==t).float().mean()\n",
    "\n",
    "def validate_epoch(model):\n",
    "    accs = [batch_accuracy(model(xb.reshape(-1, 28*28)), yb) for xb,yb in dls.valid]\n",
    "    return round(torch.stack(accs).mean().item(), 4)\n",
    "\n",
    "class BasicOptim:\n",
    "    def __init__(self,params, lr):\n",
    "        self.params = list(params)\n",
    "        self.lr = lr\n",
    "\n",
    "    def step(self, *args, **kwargs):\n",
    "        for p in self.params:\n",
    "            p.data -= p.grad.data * self.lr\n",
    "\n",
    "    def zero_grad(self, *args, **kwargs):\n",
    "        for p in self.params:\n",
    "            p.grad = None"
   ]
  },
  {
   "cell_type": "code",
   "execution_count": 23,
   "id": "db4c741b-5098-42eb-86aa-b28f1722c245",
   "metadata": {},
   "outputs": [],
   "source": [
    "W = torch.randn(28*28, 1).requires_grad_()\n",
    "b = torch.randn(1).requires_grad_()\n",
    "params = W, b\n",
    "def model(X):\n",
    "    return sigmoid(X@W + b)\n",
    "opt = BasicOptim(params, lr=0.1)\n",
    "\n",
    "acc = []\n",
    "for epoch in range(40):\n",
    "    for X, t in dls.train:\n",
    "        y = model(X.reshape(-1, 28*28))\n",
    "        loss = loss_fn(y, t)\n",
    "        loss.backward()\n",
    "        opt.step()\n",
    "        opt.zero_grad()\n",
    "        \n",
    "    acc.append(validate_epoch(model))"
   ]
  },
  {
   "cell_type": "code",
   "execution_count": 24,
   "id": "25186b80-1b2d-457d-af61-c43872e00ac7",
   "metadata": {},
   "outputs": [
    {
     "data": {
      "text/plain": [
       "<AxesSubplot:>"
      ]
     },
     "execution_count": 24,
     "metadata": {},
     "output_type": "execute_result"
    },
    {
     "data": {
      "image/png": "[encoded data removed]",
      "text/plain": [
       "<Figure size 432x288 with 1 Axes>"
      ]
     },
     "metadata": {
      "needs_background": "light"
     },
     "output_type": "display_data"
    }
   ],
   "source": [
    "import pandas as pd\n",
    "pd.DataFrame({'accuracy':acc}).plot(grid=True)"
   ]
  }
 ],
 "metadata": {
  "kernelspec": {
   "display_name": "Python 3 (ipykernel)",
   "language": "python",
   "name": "python3"
  },
  "language_info": {
   "codemirror_mode": {
    "name": "ipython",
    "version": 3
   },
   "file_extension": ".py",
   "mimetype": "text/x-python",
   "name": "python",
   "nbconvert_exporter": "python",
   "pygments_lexer": "ipython3",
   "version": "3.9.13"
  }
 },
 "nbformat": 4,
 "nbformat_minor": 5
}
