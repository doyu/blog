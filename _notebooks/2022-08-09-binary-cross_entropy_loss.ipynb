{
 "cells": [
  {
   "cell_type": "markdown",
   "id": "ba40fb46",
   "metadata": {},
   "source": [
    "# nn.BCELoss()"
   ]
  },
  {
   "cell_type": "markdown",
   "id": "6eb18cda",
   "metadata": {},
   "source": [
    "## Preparation"
   ]
  },
  {
   "cell_type": "code",
   "execution_count": 4,
   "id": "b61029eb",
   "metadata": {},
   "outputs": [],
   "source": [
    "from fastai.vision.all import *"
   ]
  },
  {
   "cell_type": "code",
   "execution_count": 6,
   "id": "8bf0fac9",
   "metadata": {},
   "outputs": [],
   "source": [
    "batch_size = 5\n",
    "n_classes = 3"
   ]
  },
  {
   "cell_type": "code",
   "execution_count": 75,
   "id": "4239dbdb",
   "metadata": {},
   "outputs": [
    {
     "data": {
      "text/plain": [
       "tensor([[0, 1, 1],\n",
       "        [1, 1, 1],\n",
       "        [0, 0, 0],\n",
       "        [1, 0, 0],\n",
       "        [0, 1, 0]])"
      ]
     },
     "execution_count": 75,
     "metadata": {},
     "output_type": "execute_result"
    }
   ],
   "source": [
    "t = [\n",
    "    [0, 1, 1],\n",
    "    [1, 1, 1],\n",
    "    [0, 0, 0],\n",
    "    [1, 0, 0],\n",
    "    [0, 1, 0],\n",
    "]\n",
    "#torch.stack([Tensor(y) for y in x] for x in t)\n",
    "t = torch.tensor(t, dtype=torch.long)\n",
    "t"
   ]
  },
  {
   "cell_type": "code",
   "execution_count": 102,
   "id": "32e6fffc",
   "metadata": {},
   "outputs": [
    {
     "data": {
      "text/plain": [
       "(torch.Size([5, 3]),\n",
       " tensor([[4.0340, 0.0000, 3.0853],\n",
       "         [3.1036, 0.0000, 0.0000],\n",
       "         [0.0000, 1.1581, 0.0000],\n",
       "         [0.0000, 0.0000, 0.0000],\n",
       "         [1.3523, 0.0000, 1.1482]]))"
      ]
     },
     "execution_count": 102,
     "metadata": {},
     "output_type": "execute_result"
    }
   ],
   "source": [
    "W = torch.randn(9, n_classes)\n",
    "b = torch.randn(1)\n",
    "X = torch.randn(batch_size, 9)\n",
    "y = F.relu(X@W + b)\n",
    "y.shape, y"
   ]
  },
  {
   "cell_type": "markdown",
   "id": "c5a142d3",
   "metadata": {},
   "source": [
    "## nn.CrossEntropyLoss()"
   ]
  },
  {
   "cell_type": "code",
   "execution_count": 103,
   "id": "831183a4",
   "metadata": {},
   "outputs": [
    {
     "data": {
      "text/plain": [
       "(torch.Size([5, 3]), torch.Size([5, 3]))"
      ]
     },
     "execution_count": 103,
     "metadata": {},
     "output_type": "execute_result"
    }
   ],
   "source": [
    "y.shape, t.shape"
   ]
  },
  {
   "cell_type": "code",
   "execution_count": 104,
   "id": "430afaae",
   "metadata": {},
   "outputs": [
    {
     "data": {
      "text/plain": [
       "tensor(0.9877)"
      ]
     },
     "execution_count": 104,
     "metadata": {},
     "output_type": "execute_result"
    }
   ],
   "source": [
    "loss = nn.BCEWithLogitsLoss()(y, t.float())\n",
    "loss"
   ]
  },
  {
   "cell_type": "code",
   "execution_count": 105,
   "id": "52c69218",
   "metadata": {},
   "outputs": [
    {
     "data": {
      "text/plain": [
       "tensor([[0.9826, 0.5000, 0.9563],\n",
       "        [0.9570, 0.5000, 0.5000],\n",
       "        [0.5000, 0.7610, 0.5000],\n",
       "        [0.5000, 0.5000, 0.5000],\n",
       "        [0.7945, 0.5000, 0.7592]])"
      ]
     },
     "execution_count": 105,
     "metadata": {},
     "output_type": "execute_result"
    }
   ],
   "source": [
    "y0 = y.sigmoid()\n",
    "y0"
   ]
  },
  {
   "cell_type": "code",
   "execution_count": 106,
   "id": "0fb25464",
   "metadata": {},
   "outputs": [
    {
     "data": {
      "text/plain": [
       "tensor([[0, 1, 1],\n",
       "        [1, 1, 1],\n",
       "        [0, 0, 0],\n",
       "        [1, 0, 0],\n",
       "        [0, 1, 0]])"
      ]
     },
     "execution_count": 106,
     "metadata": {},
     "output_type": "execute_result"
    }
   ],
   "source": [
    "t"
   ]
  },
  {
   "cell_type": "code",
   "execution_count": 108,
   "id": "b1b02779",
   "metadata": {},
   "outputs": [
    {
     "data": {
      "text/plain": [
       "tensor(0.9877)"
      ]
     },
     "execution_count": 108,
     "metadata": {},
     "output_type": "execute_result"
    }
   ],
   "source": [
    "-torch.where(t==1, y0, 1-y0).log().mean()"
   ]
  },
  {
   "cell_type": "markdown",
   "id": "85c1a260",
   "metadata": {},
   "source": [
    "# Accuracy for BCE"
   ]
  },
  {
   "cell_type": "code",
   "execution_count": 115,
   "id": "4e29791b",
   "metadata": {},
   "outputs": [],
   "source": [
    "def accum(y, tgt, thr):\n",
    "    return ((y.sigmoid()>thr)==tgt).float().mean()"
   ]
  },
  {
   "cell_type": "code",
   "execution_count": 117,
   "id": "ef74f067",
   "metadata": {},
   "outputs": [
    {
     "data": {
      "text/plain": [
       "[<matplotlib.lines.Line2D at 0x7fcbd50f42e0>]"
      ]
     },
     "execution_count": 117,
     "metadata": {},
     "output_type": "execute_result"
    },
    {
     "data": {
      "image/png": "[encoded data removed]",
      "text/plain": [
       "<Figure size 432x288 with 1 Axes>"
      ]
     },
     "metadata": {
      "needs_background": "light"
     },
     "output_type": "display_data"
    }
   ],
   "source": [
    "xs = torch.linspace(0.05,0.95,29)\n",
    "accs = [accum(y, t, thr=i) for i in xs]\n",
    "plt.plot(xs,accs)"
   ]
  }
 ],
 "metadata": {
  "kernelspec": {
   "display_name": "Python 3 (ipykernel)",
   "language": "python",
   "name": "python3"
  },
  "language_info": {
   "codemirror_mode": {
    "name": "ipython",
    "version": 3
   },
   "file_extension": ".py",
   "mimetype": "text/x-python",
   "name": "python",
   "nbconvert_exporter": "python",
   "pygments_lexer": "ipython3",
   "version": "3.9.13"
  },
  "toc": {
   "base_numbering": 1,
   "nav_menu": {},
   "number_sections": true,
   "sideBar": true,
   "skip_h1_title": false,
   "title_cell": "Table of Contents",
   "title_sidebar": "Contents",
   "toc_cell": false,
   "toc_position": {},
   "toc_section_display": true,
   "toc_window_display": false
  }
 },
 "nbformat": 4,
 "nbformat_minor": 5
}
