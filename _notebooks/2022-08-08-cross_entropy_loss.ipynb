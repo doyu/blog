{
 "cells": [
  {
   "cell_type": "markdown",
   "id": "ba40fb46",
   "metadata": {},
   "source": [
    "# nn.CrossEntropyLoss, F.softmax, F.log_softmax, F.nll_loss()"
   ]
  },
  {
   "cell_type": "code",
   "execution_count": 1,
   "id": "b61029eb",
   "metadata": {},
   "outputs": [],
   "source": [
    "from fastai.vision.all import *"
   ]
  },
  {
   "cell_type": "code",
   "execution_count": 2,
   "id": "32e6fffc",
   "metadata": {},
   "outputs": [
    {
     "data": {
      "text/plain": [
       "(torch.Size([5, 3]),\n",
       " tensor([[1.6193, 0.2690, 0.0000],\n",
       "         [0.0000, 2.2364, 0.0000],\n",
       "         [6.1974, 0.0000, 3.0223],\n",
       "         [0.0000, 0.0000, 3.4538],\n",
       "         [2.7525, 0.0000, 2.7033]]))"
      ]
     },
     "execution_count": 2,
     "metadata": {},
     "output_type": "execute_result"
    }
   ],
   "source": [
    "batch_size = 5\n",
    "n_classes = 3\n",
    "\n",
    "W = torch.randn(9, n_classes)\n",
    "b = torch.randn(1)\n",
    "X = torch.randn(batch_size, 9)\n",
    "y = F.relu(X@W + b)\n",
    "y.shape, y"
   ]
  },
  {
   "cell_type": "markdown",
   "id": "0789e632-caa5-4022-a94f-8521f2a538a8",
   "metadata": {},
   "source": [
    "target {0,1,2}"
   ]
  },
  {
   "cell_type": "code",
   "execution_count": 3,
   "id": "e2dfd3cd",
   "metadata": {},
   "outputs": [
    {
     "data": {
      "text/plain": [
       "tensor([2, 2, 2, 1, 2])"
      ]
     },
     "execution_count": 3,
     "metadata": {},
     "output_type": "execute_result"
    }
   ],
   "source": [
    "t = torch.empty(batch_size, dtype=torch.long).random_(n_classes)\n",
    "t"
   ]
  },
  {
   "cell_type": "code",
   "execution_count": 4,
   "id": "430afaae",
   "metadata": {},
   "outputs": [
    {
     "data": {
      "text/plain": [
       "tensor(2.3818)"
      ]
     },
     "execution_count": 4,
     "metadata": {},
     "output_type": "execute_result"
    }
   ],
   "source": [
    "loss = nn.CrossEntropyLoss()(y, t)\n",
    "loss"
   ]
  },
  {
   "cell_type": "code",
   "execution_count": 5,
   "id": "addf6e9a",
   "metadata": {},
   "outputs": [
    {
     "data": {
      "text/plain": [
       "tensor(2.3818)"
      ]
     },
     "execution_count": 5,
     "metadata": {},
     "output_type": "execute_result"
    }
   ],
   "source": [
    "F.nll_loss(F.log_softmax(y, dim=1), t)"
   ]
  },
  {
   "cell_type": "code",
   "execution_count": 6,
   "id": "0933dca5",
   "metadata": {},
   "outputs": [
    {
     "data": {
      "text/plain": [
       "tensor([[0.6863, 0.1778, 0.1359],\n",
       "        [0.0880, 0.8239, 0.0880],\n",
       "        [0.9580, 0.0019, 0.0400],\n",
       "        [0.0297, 0.0297, 0.9405],\n",
       "        [0.4961, 0.0316, 0.4723]])"
      ]
     },
     "execution_count": 6,
     "metadata": {},
     "output_type": "execute_result"
    }
   ],
   "source": [
    "y.softmax(dim=1)"
   ]
  },
  {
   "cell_type": "code",
   "execution_count": 7,
   "id": "26fec324",
   "metadata": {},
   "outputs": [
    {
     "data": {
      "text/plain": [
       "tensor([1.0000, 1.0000, 1.0000, 1.0000, 1.0000])"
      ]
     },
     "execution_count": 7,
     "metadata": {},
     "output_type": "execute_result"
    }
   ],
   "source": [
    "y.softmax(dim=1).sum(dim=1)"
   ]
  },
  {
   "cell_type": "code",
   "execution_count": 8,
   "id": "719e4a7f",
   "metadata": {},
   "outputs": [
    {
     "data": {
      "text/plain": [
       "tensor([-4.0992, -5.0538, -9.5012, -7.0915, -4.9047])"
      ]
     },
     "execution_count": 8,
     "metadata": {},
     "output_type": "execute_result"
    }
   ],
   "source": [
    "y.log_softmax(dim=1).sum(dim=1)"
   ]
  },
  {
   "cell_type": "code",
   "execution_count": 9,
   "id": "13d489a4",
   "metadata": {},
   "outputs": [
    {
     "data": {
      "text/plain": [
       "tensor([-4.0992, -5.0538, -9.5012, -7.0915, -4.9047])"
      ]
     },
     "execution_count": 9,
     "metadata": {},
     "output_type": "execute_result"
    }
   ],
   "source": [
    "y.softmax(dim=1).log().sum(dim=1)"
   ]
  },
  {
   "cell_type": "code",
   "execution_count": 10,
   "id": "1d11d37e",
   "metadata": {},
   "outputs": [
    {
     "data": {
      "text/plain": [
       "tensor(2.3818)"
      ]
     },
     "execution_count": 10,
     "metadata": {},
     "output_type": "execute_result"
    }
   ],
   "source": [
    "F.nll_loss(y.softmax(dim=1).log(), t)"
   ]
  },
  {
   "cell_type": "code",
   "execution_count": 11,
   "id": "1fe6ba85",
   "metadata": {},
   "outputs": [
    {
     "data": {
      "text/plain": [
       "tensor(2.3818)"
      ]
     },
     "execution_count": 11,
     "metadata": {},
     "output_type": "execute_result"
    }
   ],
   "source": [
    "y0 = y.softmax(dim=1)\n",
    "y0 = y0.log()\n",
    "y0 = y0[range(batch_size), t.tolist()]\n",
    "y0 = -y0.mean()\n",
    "y0"
   ]
  },
  {
   "cell_type": "code",
   "execution_count": 12,
   "id": "fb151c96",
   "metadata": {},
   "outputs": [
    {
     "data": {
      "text/plain": [
       "tensor(2.3818)"
      ]
     },
     "execution_count": 12,
     "metadata": {},
     "output_type": "execute_result"
    }
   ],
   "source": [
    "nn.CrossEntropyLoss()(y, t)"
   ]
  }
 ],
 "metadata": {
  "kernelspec": {
   "display_name": "Python 3 (ipykernel)",
   "language": "python",
   "name": "python3"
  },
  "language_info": {
   "codemirror_mode": {
    "name": "ipython",
    "version": 3
   },
   "file_extension": ".py",
   "mimetype": "text/x-python",
   "name": "python",
   "nbconvert_exporter": "python",
   "pygments_lexer": "ipython3",
   "version": "3.9.13"
  },
  "toc": {
   "base_numbering": 1,
   "nav_menu": {},
   "number_sections": true,
   "sideBar": true,
   "skip_h1_title": false,
   "title_cell": "Table of Contents",
   "title_sidebar": "Contents",
   "toc_cell": false,
   "toc_position": {},
   "toc_section_display": true,
   "toc_window_display": false
  }
 },
 "nbformat": 4,
 "nbformat_minor": 5
}
