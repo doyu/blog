{
 "cells": [
  {
   "cell_type": "markdown",
   "id": "ba40fb46",
   "metadata": {},
   "source": [
    "# nn.CrossEntropyLoss, F.softmax, F.log_softmax, F.nll_loss()"
   ]
  },
  {
   "cell_type": "code",
   "execution_count": 2,
   "id": "b61029eb",
   "metadata": {},
   "outputs": [],
   "source": [
    "from fastai.vision.all import *"
   ]
  },
  {
   "cell_type": "code",
   "execution_count": 52,
   "id": "32e6fffc",
   "metadata": {},
   "outputs": [
    {
     "data": {
      "text/plain": [
       "(torch.Size([5, 3]),\n",
       " tensor([[2.8238, 7.4035, 0.0000],\n",
       "         [4.0516, 1.9607, 5.3125],\n",
       "         [0.0000, 0.1175, 0.2113],\n",
       "         [1.3030, 0.0000, 5.0081],\n",
       "         [0.0000, 0.0000, 7.8666]]))"
      ]
     },
     "execution_count": 52,
     "metadata": {},
     "output_type": "execute_result"
    }
   ],
   "source": [
    "batch_size = 5\n",
    "n_classes = 3\n",
    "\n",
    "W = torch.randn(9, n_classes)\n",
    "b = torch.randn(1)\n",
    "X = torch.randn(batch_size, 9)\n",
    "y = F.relu(X@W + b)\n",
    "y.shape, y"
   ]
  },
  {
   "cell_type": "markdown",
   "id": "0789e632-caa5-4022-a94f-8521f2a538a8",
   "metadata": {},
   "source": [
    "target {0,1,2}"
   ]
  },
  {
   "cell_type": "code",
   "execution_count": 41,
   "id": "e2dfd3cd",
   "metadata": {},
   "outputs": [
    {
     "data": {
      "text/plain": [
       "tensor([0, 1, 2, 1, 2])"
      ]
     },
     "execution_count": 41,
     "metadata": {},
     "output_type": "execute_result"
    }
   ],
   "source": [
    "t = torch.empty(batch_size, dtype=torch.long).random_(n_classes)\n",
    "t"
   ]
  },
  {
   "cell_type": "code",
   "execution_count": 42,
   "id": "430afaae",
   "metadata": {},
   "outputs": [
    {
     "data": {
      "text/plain": [
       "tensor(2.5016)"
      ]
     },
     "execution_count": 42,
     "metadata": {},
     "output_type": "execute_result"
    }
   ],
   "source": [
    "loss = nn.CrossEntropyLoss()(y, t)\n",
    "loss"
   ]
  },
  {
   "cell_type": "code",
   "execution_count": 43,
   "id": "addf6e9a",
   "metadata": {},
   "outputs": [
    {
     "data": {
      "text/plain": [
       "tensor(2.5016)"
      ]
     },
     "execution_count": 43,
     "metadata": {},
     "output_type": "execute_result"
    }
   ],
   "source": [
    "F.nll_loss(F.log_softmax(y, dim=1), t)"
   ]
  },
  {
   "cell_type": "code",
   "execution_count": 44,
   "id": "0933dca5",
   "metadata": {},
   "outputs": [
    {
     "data": {
      "text/plain": [
       "tensor([[2.8882e-02, 3.4899e-01, 6.2212e-01],\n",
       "        [2.4541e-03, 8.4614e-04, 9.9670e-01],\n",
       "        [1.3856e-01, 3.2859e-02, 8.2858e-01],\n",
       "        [3.3355e-02, 9.5331e-01, 1.3336e-02],\n",
       "        [2.1736e-01, 5.9117e-01, 1.9147e-01]])"
      ]
     },
     "execution_count": 44,
     "metadata": {},
     "output_type": "execute_result"
    }
   ],
   "source": [
    "y.softmax(dim=1)"
   ]
  },
  {
   "cell_type": "code",
   "execution_count": 45,
   "id": "26fec324",
   "metadata": {},
   "outputs": [
    {
     "data": {
      "text/plain": [
       "tensor([1.0000, 1.0000, 1.0000, 1.0000, 1.0000])"
      ]
     },
     "execution_count": 45,
     "metadata": {},
     "output_type": "execute_result"
    }
   ],
   "source": [
    "y.softmax(dim=1).sum(dim=1)"
   ]
  },
  {
   "cell_type": "code",
   "execution_count": 46,
   "id": "719e4a7f",
   "metadata": {},
   "outputs": [
    {
     "data": {
      "text/plain": [
       "tensor([ -5.0719, -13.0881,  -5.5800,  -7.7657,  -3.7049])"
      ]
     },
     "execution_count": 46,
     "metadata": {},
     "output_type": "execute_result"
    }
   ],
   "source": [
    "y.log_softmax(dim=1).sum(dim=1)"
   ]
  },
  {
   "cell_type": "code",
   "execution_count": 47,
   "id": "13d489a4",
   "metadata": {},
   "outputs": [
    {
     "data": {
      "text/plain": [
       "tensor([ -5.0719, -13.0881,  -5.5800,  -7.7657,  -3.7049])"
      ]
     },
     "execution_count": 47,
     "metadata": {},
     "output_type": "execute_result"
    }
   ],
   "source": [
    "y.softmax(dim=1).log().sum(dim=1)"
   ]
  },
  {
   "cell_type": "code",
   "execution_count": 48,
   "id": "1d11d37e",
   "metadata": {},
   "outputs": [
    {
     "data": {
      "text/plain": [
       "tensor(2.5016)"
      ]
     },
     "execution_count": 48,
     "metadata": {},
     "output_type": "execute_result"
    }
   ],
   "source": [
    "F.nll_loss(y.softmax(dim=1).log(), t)"
   ]
  },
  {
   "cell_type": "code",
   "execution_count": 53,
   "id": "1fe6ba85",
   "metadata": {},
   "outputs": [
    {
     "data": {
      "text/plain": [
       "tensor(2.8518)"
      ]
     },
     "execution_count": 53,
     "metadata": {},
     "output_type": "execute_result"
    }
   ],
   "source": [
    "y0 = y.softmax(dim=1)\n",
    "y0 = y0.log()\n",
    "y0 = y0[range(batch_size), t.tolist()]\n",
    "y0 = -y0.mean()\n",
    "y0"
   ]
  },
  {
   "cell_type": "code",
   "execution_count": 54,
   "id": "fb151c96",
   "metadata": {},
   "outputs": [
    {
     "data": {
      "text/plain": [
       "tensor(2.8518)"
      ]
     },
     "execution_count": 54,
     "metadata": {},
     "output_type": "execute_result"
    }
   ],
   "source": [
    "nn.CrossEntropyLoss()(y, t)"
   ]
  }
 ],
 "metadata": {
  "kernelspec": {
   "display_name": "Python 3 (ipykernel)",
   "language": "python",
   "name": "python3"
  },
  "language_info": {
   "codemirror_mode": {
    "name": "ipython",
    "version": 3
   },
   "file_extension": ".py",
   "mimetype": "text/x-python",
   "name": "python",
   "nbconvert_exporter": "python",
   "pygments_lexer": "ipython3",
   "version": "3.9.13"
  },
  "toc": {
   "base_numbering": 1,
   "nav_menu": {},
   "number_sections": true,
   "sideBar": true,
   "skip_h1_title": false,
   "title_cell": "Table of Contents",
   "title_sidebar": "Contents",
   "toc_cell": false,
   "toc_position": {},
   "toc_section_display": true,
   "toc_window_display": false
  }
 },
 "nbformat": 4,
 "nbformat_minor": 5
}
