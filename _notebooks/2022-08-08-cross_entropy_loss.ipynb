{
 "cells": [
  {
   "cell_type": "markdown",
   "id": "ba40fb46",
   "metadata": {},
   "source": [
    "# nn.CrossEntropyLoss, F.softmax, F.log_softmax, F.nll_loss()"
   ]
  },
  {
   "cell_type": "code",
   "execution_count": 2,
   "id": "b61029eb",
   "metadata": {},
   "outputs": [],
   "source": [
    "from fastai.vision.all import *"
   ]
  },
  {
   "cell_type": "code",
   "execution_count": 91,
   "id": "32e6fffc",
   "metadata": {},
   "outputs": [
    {
     "data": {
      "text/plain": [
       "tensor([[-0.0140, -0.5906,  2.3905],\n",
       "        [ 0.9921, -0.2100, -0.8631],\n",
       "        [-0.0901, -1.0944,  0.5427],\n",
       "        [ 2.2431,  0.3458, -0.0150],\n",
       "        [-1.2485,  1.3326, -0.0441],\n",
       "        [-1.1257, -0.0526,  0.5224]])"
      ]
     },
     "execution_count": 91,
     "metadata": {},
     "output_type": "execute_result"
    }
   ],
   "source": [
    "y = torch.randn((6, 3))\n",
    "y"
   ]
  },
  {
   "cell_type": "code",
   "execution_count": 149,
   "id": "e2dfd3cd",
   "metadata": {},
   "outputs": [
    {
     "data": {
      "text/plain": [
       "tensor([1, 2, 2, 1, 1, 2])"
      ]
     },
     "execution_count": 149,
     "metadata": {},
     "output_type": "execute_result"
    }
   ],
   "source": [
    "t = torch.empty(6, dtype=torch.long).random_(3)\n",
    "t"
   ]
  },
  {
   "cell_type": "code",
   "execution_count": 193,
   "id": "430afaae",
   "metadata": {},
   "outputs": [
    {
     "data": {
      "text/plain": [
       "tensor([3.1130, 2.2316, 0.5456, 2.1240, 0.2837, 0.5626])"
      ]
     },
     "execution_count": 193,
     "metadata": {},
     "output_type": "execute_result"
    }
   ],
   "source": [
    "loss = nn.CrossEntropyLoss(reduction='none')(y, t)\n",
    "loss"
   ]
  },
  {
   "cell_type": "code",
   "execution_count": 191,
   "id": "addf6e9a",
   "metadata": {},
   "outputs": [
    {
     "data": {
      "text/plain": [
       "tensor([3.1130, 2.2316, 0.5456, 2.1240, 0.2837, 0.5626])"
      ]
     },
     "execution_count": 191,
     "metadata": {},
     "output_type": "execute_result"
    }
   ],
   "source": [
    "F.nll_loss(F.log_softmax(y, dim=1), t, reduction='none')"
   ]
  },
  {
   "cell_type": "code",
   "execution_count": 154,
   "id": "0933dca5",
   "metadata": {},
   "outputs": [
    {
     "data": {
      "text/plain": [
       "tensor([[0.0791, 0.0445, 0.8764],\n",
       "        [0.6864, 0.2063, 0.1074],\n",
       "        [0.3078, 0.1127, 0.5795],\n",
       "        [0.7971, 0.1195, 0.0833],\n",
       "        [0.0570, 0.7530, 0.1900],\n",
       "        [0.1096, 0.3206, 0.5697]])"
      ]
     },
     "execution_count": 154,
     "metadata": {},
     "output_type": "execute_result"
    }
   ],
   "source": [
    "y.softmax(dim=1)"
   ]
  },
  {
   "cell_type": "code",
   "execution_count": 155,
   "id": "26fec324",
   "metadata": {},
   "outputs": [
    {
     "data": {
      "text/plain": [
       "tensor([1.0000, 1.0000, 1.0000, 1.0000, 1.0000, 1.0000])"
      ]
     },
     "execution_count": 155,
     "metadata": {},
     "output_type": "execute_result"
    }
   ],
   "source": [
    "y.softmax(dim=1).sum(dim=1)"
   ]
  },
  {
   "cell_type": "code",
   "execution_count": 156,
   "id": "719e4a7f",
   "metadata": {},
   "outputs": [
    {
     "data": {
      "text/plain": [
       "tensor([-5.7814, -4.1864, -3.9067, -4.8356, -4.8091, -3.9107])"
      ]
     },
     "execution_count": 156,
     "metadata": {},
     "output_type": "execute_result"
    }
   ],
   "source": [
    "y.log_softmax(dim=1).sum(dim=1)"
   ]
  },
  {
   "cell_type": "code",
   "execution_count": 157,
   "id": "13d489a4",
   "metadata": {},
   "outputs": [
    {
     "data": {
      "text/plain": [
       "tensor([-5.7814, -4.1864, -3.9067, -4.8356, -4.8091, -3.9107])"
      ]
     },
     "execution_count": 157,
     "metadata": {},
     "output_type": "execute_result"
    }
   ],
   "source": [
    "y.softmax(dim=1).log().sum(dim=1)"
   ]
  },
  {
   "cell_type": "code",
   "execution_count": 194,
   "id": "1d11d37e",
   "metadata": {},
   "outputs": [
    {
     "data": {
      "text/plain": [
       "tensor([3.1130, 2.2316, 0.5456, 2.1240, 0.2837, 0.5626])"
      ]
     },
     "execution_count": 194,
     "metadata": {},
     "output_type": "execute_result"
    }
   ],
   "source": [
    "F.nll_loss(y.log_softmax(dim=1), t, reduction='none')"
   ]
  },
  {
   "cell_type": "code",
   "execution_count": 163,
   "id": "f75f9b25",
   "metadata": {},
   "outputs": [
    {
     "data": {
      "text/plain": [
       "[(0, 1), (1, 2), (2, 2), (3, 1), (4, 1), (5, 2)]"
      ]
     },
     "execution_count": 163,
     "metadata": {},
     "output_type": "execute_result"
    }
   ],
   "source": [
    "idx = list(zip(range(6), t.tolist()))\n",
    "idx"
   ]
  },
  {
   "cell_type": "code",
   "execution_count": 195,
   "id": "bedc9b50",
   "metadata": {},
   "outputs": [
    {
     "data": {
      "text/plain": [
       "[tensor(-3.1130),\n",
       " tensor(-2.2316),\n",
       " tensor(-0.5456),\n",
       " tensor(-2.1240),\n",
       " tensor(-0.2837),\n",
       " tensor(-0.5626)]"
      ]
     },
     "execution_count": 195,
     "metadata": {},
     "output_type": "execute_result"
    }
   ],
   "source": [
    "[y.log_softmax(dim=1)[i,j] for i,j in list(zip(range(6), t.tolist()))]"
   ]
  },
  {
   "cell_type": "code",
   "execution_count": 196,
   "id": "1fe6ba85",
   "metadata": {},
   "outputs": [
    {
     "data": {
      "text/plain": [
       "tensor([-3.1130, -2.2316, -0.5456, -2.1240, -0.2837, -0.5626])"
      ]
     },
     "execution_count": 196,
     "metadata": {},
     "output_type": "execute_result"
    }
   ],
   "source": [
    "y.log_softmax(dim=1)[range(6), t.tolist()]"
   ]
  },
  {
   "cell_type": "code",
   "execution_count": 201,
   "id": "161320c6",
   "metadata": {},
   "outputs": [
    {
     "data": {
      "text/plain": [
       "tensor(8.8605)"
      ]
     },
     "execution_count": 201,
     "metadata": {},
     "output_type": "execute_result"
    }
   ],
   "source": [
    "-sum(y.log_softmax(dim=1)[range(6), t.tolist()])"
   ]
  },
  {
   "cell_type": "code",
   "execution_count": 203,
   "id": "fb151c96",
   "metadata": {},
   "outputs": [
    {
     "data": {
      "text/plain": [
       "(tensor(8.8605), tensor(1.4768))"
      ]
     },
     "execution_count": 203,
     "metadata": {},
     "output_type": "execute_result"
    }
   ],
   "source": [
    "nn.CrossEntropyLoss(reduction='sum')(y, t), nn.CrossEntropyLoss(reduction='mean')(y, t)"
   ]
  }
 ],
 "metadata": {
  "kernelspec": {
   "display_name": "Python 3 (ipykernel)",
   "language": "python",
   "name": "python3"
  },
  "language_info": {
   "codemirror_mode": {
    "name": "ipython",
    "version": 3
   },
   "file_extension": ".py",
   "mimetype": "text/x-python",
   "name": "python",
   "nbconvert_exporter": "python",
   "pygments_lexer": "ipython3",
   "version": "3.9.13"
  },
  "toc": {
   "base_numbering": 1,
   "nav_menu": {},
   "number_sections": true,
   "sideBar": true,
   "skip_h1_title": false,
   "title_cell": "Table of Contents",
   "title_sidebar": "Contents",
   "toc_cell": false,
   "toc_position": {},
   "toc_section_display": true,
   "toc_window_display": false
  }
 },
 "nbformat": 4,
 "nbformat_minor": 5
}
