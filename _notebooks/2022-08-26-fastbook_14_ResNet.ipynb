{
 "cells": [
  {
   "cell_type": "markdown",
   "id": "919e2058-21ed-4f4f-84a7-fe226f537a5b",
   "metadata": {},
   "source": [
    "# fastbook 14 Implement ResNet"
   ]
  },
  {
   "cell_type": "markdown",
   "id": "8e9d130c-3ca6-4d5f-ba45-1f1c8eb3fb01",
   "metadata": {},
   "source": [
    "Modified the one is the book so that it would be easier to read"
   ]
  },
  {
   "cell_type": "code",
   "execution_count": 1,
   "id": "c916d717-8b94-4433-98f7-079c2fb6a702",
   "metadata": {},
   "outputs": [],
   "source": [
    "from fastai.vision.all import *"
   ]
  },
  {
   "cell_type": "code",
   "execution_count": 2,
   "id": "c1f55fd2-f547-4da5-92a9-135f71c72763",
   "metadata": {},
   "outputs": [],
   "source": [
    "def get_data(url, presize, resize):\n",
    "    path = untar_data(url)\n",
    "    dls = DataBlock(\n",
    "        blocks=(ImageBlock, CategoryBlock),\n",
    "        get_items=get_image_files,\n",
    "        splitter=GrandparentSplitter(valid_name='val'),\n",
    "        get_y=parent_label,\n",
    "        item_tfms=Resize(presize),\n",
    "        batch_tfms=[\n",
    "            *aug_transforms(min_scale=0.5, size=resize),\n",
    "            Normalize.from_stats(*imagenet_stats),\n",
    "        ],\n",
    "    ).dataloaders(path, bs=128)\n",
    "    return dls\n",
    "\n",
    "dls = get_data(URLs.IMAGENETTE_160, 160, 128)"
   ]
  },
  {
   "cell_type": "code",
   "execution_count": 3,
   "id": "effd9af3-9f12-427e-bf48-16d2996d1a04",
   "metadata": {},
   "outputs": [],
   "source": [
    "def _conv_block(ni,nf,stride):\n",
    "    return nn.Sequential(\n",
    "        ConvLayer(ni, nf, stride=stride),\n",
    "        ConvLayer(nf, nf, act_cls=None, norm_type=NormType.BatchZero))"
   ]
  },
  {
   "cell_type": "code",
   "execution_count": 4,
   "id": "381d6636-15c9-42f3-b249-c438c86268a8",
   "metadata": {},
   "outputs": [],
   "source": [
    "class ResBlock(Module):\n",
    "    def __init__(self, ni, nf, stride=1):\n",
    "        self.convs = _conv_block(ni,nf,stride)\n",
    "        self.idconv = noop if ni==nf else ConvLayer(ni, nf, 1, act_cls=None)\n",
    "        self.pool = noop if stride==1 else nn.AvgPool2d(2, ceil_mode=True)\n",
    "\n",
    "    def forward(self, x):\n",
    "        return F.relu(self.convs(x) + self.idconv(self.pool(x)))"
   ]
  },
  {
   "cell_type": "markdown",
   "id": "76d8333c-d747-4dc0-a8ff-1f619436e4af",
   "metadata": {},
   "source": [
    "#### Original '_resnet_stem()'"
   ]
  },
  {
   "cell_type": "code",
   "execution_count": 5,
   "id": "75a798cf-a325-432e-86c5-19d45cab1924",
   "metadata": {},
   "outputs": [],
   "source": [
    "def _resnet_stem(*sizes):\n",
    "    return [\n",
    "        ConvLayer(sizes[i], sizes[i+1], 3, stride = 2 if i==0 else 1)\n",
    "            for i in range(len(sizes)-1)\n",
    "    ] + [nn.MaxPool2d(kernel_size=3, stride=2, padding=1)]"
   ]
  },
  {
   "cell_type": "markdown",
   "id": "40f330ef-c537-4574-8861-4f9ef689f7a0",
   "metadata": {},
   "source": [
    "#### Modified '_resnet_stem()'"
   ]
  },
  {
   "cell_type": "code",
   "execution_count": 6,
   "id": "cc498dcb-1848-47c9-b9a8-baa06480cbd6",
   "metadata": {},
   "outputs": [],
   "source": [
    "def _resnet_stem(*sizes):\n",
    "    \n",
    "    # Conv Macro only within this function\n",
    "    def __C(i, s):\n",
    "        return ConvLayer(sizes[i], sizes[i+1], 3, stride=s)\n",
    "    \n",
    "    l =  [__C(i=0, s=2)]\n",
    "    l += [__C(i=i, s=1) for i in range(1, len(sizes)-1)]\n",
    "    l += [nn.MaxPool2d(kernel_size=3, stride=2, padding=1)]\n",
    "    return l \n",
    "\n",
    "#_resnet_stem(3,32,32,64)"
   ]
  },
  {
   "cell_type": "markdown",
   "id": "282be9af-c6f6-4269-a42c-f2d71c21147b",
   "metadata": {},
   "source": [
    "Modified the above '_resnet_stem' to read a little bit easier, where we deal with the 1st iteration and the rest of the others separately since only the 1st time has differenet params. The 1st iter is done out side of the loop and then the loop will do the rest."
   ]
  },
  {
   "cell_type": "markdown",
   "id": "6270b7d7-67a2-4809-bd49-12077f1056d1",
   "metadata": {},
   "source": [
    "#### Original 'ResNet()'"
   ]
  },
  {
   "cell_type": "code",
   "execution_count": 7,
   "id": "9ff13678-f8c9-47a6-af8e-c28a717b65f7",
   "metadata": {},
   "outputs": [],
   "source": [
    "class ResNet(nn.Sequential):\n",
    "    def __init__(self, n_out, layers, expansion=1):\n",
    "        stem = _resnet_stem(3,32,32,64)\n",
    "        self.block_szs = [64, 64, 128, 256, 512]\n",
    "        for i in range(1,5): self.block_szs[i] *= expansion\n",
    "        blocks = [self._make_layer(*o) for o in enumerate(layers)]\n",
    "        super().__init__(*stem, *blocks,\n",
    "                         nn.AdaptiveAvgPool2d(1), Flatten(),\n",
    "                         nn.Linear(self.block_szs[-1], n_out))\n",
    "    \n",
    "    def _make_layer(self, idx, n_layers):\n",
    "        stride = 1 if idx==0 else 2\n",
    "        ch_in,ch_out = self.block_szs[idx:idx+2]\n",
    "        return nn.Sequential(*[\n",
    "            ResBlock(ch_in if i==0 else ch_out, ch_out, stride if i==0 else 1)\n",
    "            for i in range(n_layers)\n",
    "        ])"
   ]
  },
  {
   "cell_type": "markdown",
   "id": "387ed690-2239-4918-950e-2264abc3cc9c",
   "metadata": {},
   "source": [
    "#### Modified 'ResNet()'"
   ]
  },
  {
   "cell_type": "code",
   "execution_count": 8,
   "id": "ff22d3d3-689e-4189-8802-ff1a02ca3b8c",
   "metadata": {
    "tags": []
   },
   "outputs": [],
   "source": [
    "# Modified by me\n",
    "class ResNet(nn.Sequential):\n",
    "    def __init__(self, n_out, layers, expansion=1):\n",
    "        self.block_szs = [64, 64, 128, 256, 512]\n",
    "        for i in range(1,5): self.block_szs[i] *= expansion\n",
    "        \n",
    "        l = _resnet_stem(3,32,32,64)\n",
    "        \n",
    "        l += [self._make_layer(layers[0], *self.block_szs[:2],    1)] # Do 0th\n",
    "        l += [self._make_layer(layers[i], *self.block_szs[i:i+2], 2)  # Do the rest\n",
    "              for i in range(1, len(layers))]\n",
    "        \n",
    "        # Appending the Head part\n",
    "        l += [\n",
    "            nn.AdaptiveAvgPool2d(1),\n",
    "            Flatten(),\n",
    "            nn.Linear(self.block_szs[-1], n_out)\n",
    "        ]\n",
    "        \n",
    "        super().__init__(*l)\n",
    "    \n",
    "    def _make_layer(self, n_layers, ch_in, ch_out, stride):\n",
    "        l =  [ResBlock(ch_in,  ch_out, stride)] # Do 0th\n",
    "        l += [ResBlock(ch_out, ch_out, 1)       # Do the rest\n",
    "              for i in range(1, n_layers)]\n",
    "        return nn.Sequential(*l)"
   ]
  },
  {
   "cell_type": "code",
   "execution_count": 9,
   "id": "3bfbed89-a664-49be-b538-fa98074e914b",
   "metadata": {},
   "outputs": [
    {
     "data": {
      "text/html": [
       "\n",
       "<style>\n",
       "    /* Turns off some styling */\n",
       "    progress {\n",
       "        /* gets rid of default border in Firefox and Opera. */\n",
       "        border: none;\n",
       "        /* Needs to be in here for Safari polyfill so background images work as expected. */\n",
       "        background-size: auto;\n",
       "    }\n",
       "    .progress-bar-interrupted, .progress-bar-interrupted::-webkit-progress-bar {\n",
       "        background: #F44336;\n",
       "    }\n",
       "</style>\n"
      ],
      "text/plain": [
       "<IPython.core.display.HTML object>"
      ]
     },
     "metadata": {},
     "output_type": "display_data"
    },
    {
     "data": {
      "text/html": [
       "<table border=\"1\" class=\"dataframe\">\n",
       "  <thead>\n",
       "    <tr style=\"text-align: left;\">\n",
       "      <th>epoch</th>\n",
       "      <th>train_loss</th>\n",
       "      <th>valid_loss</th>\n",
       "      <th>accuracy</th>\n",
       "      <th>time</th>\n",
       "    </tr>\n",
       "  </thead>\n",
       "  <tbody>\n",
       "    <tr>\n",
       "      <td>0</td>\n",
       "      <td>1.669369</td>\n",
       "      <td>3.107110</td>\n",
       "      <td>0.332484</td>\n",
       "      <td>00:16</td>\n",
       "    </tr>\n",
       "    <tr>\n",
       "      <td>1</td>\n",
       "      <td>1.346194</td>\n",
       "      <td>1.786952</td>\n",
       "      <td>0.458599</td>\n",
       "      <td>00:16</td>\n",
       "    </tr>\n",
       "    <tr>\n",
       "      <td>2</td>\n",
       "      <td>1.105611</td>\n",
       "      <td>1.140638</td>\n",
       "      <td>0.642293</td>\n",
       "      <td>00:16</td>\n",
       "    </tr>\n",
       "    <tr>\n",
       "      <td>3</td>\n",
       "      <td>0.897768</td>\n",
       "      <td>0.917169</td>\n",
       "      <td>0.710573</td>\n",
       "      <td>00:16</td>\n",
       "    </tr>\n",
       "    <tr>\n",
       "      <td>4</td>\n",
       "      <td>0.769690</td>\n",
       "      <td>0.756307</td>\n",
       "      <td>0.761274</td>\n",
       "      <td>00:16</td>\n",
       "    </tr>\n",
       "  </tbody>\n",
       "</table>"
      ],
      "text/plain": [
       "<IPython.core.display.HTML object>"
      ]
     },
     "metadata": {},
     "output_type": "display_data"
    }
   ],
   "source": [
    "learn = Learner(dls, ResNet(dls.c, [2,2,2,2]), loss_func=nn.CrossEntropyLoss(),\n",
    "                metrics=accuracy).to_fp16()\n",
    "learn.fit_one_cycle(5, 3e-3)"
   ]
  },
  {
   "cell_type": "markdown",
   "id": "41df5776-23c6-419d-88d8-ad3bccf76cfb",
   "metadata": {},
   "source": [
    "# Bottleneck"
   ]
  },
  {
   "cell_type": "code",
   "execution_count": 10,
   "id": "7fbfecf5-172c-4562-9012-750c8ef4bbad",
   "metadata": {},
   "outputs": [
    {
     "data": {
      "text/html": [
       "\n",
       "<style>\n",
       "    /* Turns off some styling */\n",
       "    progress {\n",
       "        /* gets rid of default border in Firefox and Opera. */\n",
       "        border: none;\n",
       "        /* Needs to be in here for Safari polyfill so background images work as expected. */\n",
       "        background-size: auto;\n",
       "    }\n",
       "    .progress-bar-interrupted, .progress-bar-interrupted::-webkit-progress-bar {\n",
       "        background: #F44336;\n",
       "    }\n",
       "</style>\n"
      ],
      "text/plain": [
       "<IPython.core.display.HTML object>"
      ]
     },
     "metadata": {},
     "output_type": "display_data"
    },
    {
     "data": {
      "text/html": [
       "<table border=\"1\" class=\"dataframe\">\n",
       "  <thead>\n",
       "    <tr style=\"text-align: left;\">\n",
       "      <th>epoch</th>\n",
       "      <th>train_loss</th>\n",
       "      <th>valid_loss</th>\n",
       "      <th>accuracy</th>\n",
       "      <th>time</th>\n",
       "    </tr>\n",
       "  </thead>\n",
       "  <tbody>\n",
       "    <tr>\n",
       "      <td>0</td>\n",
       "      <td>1.609382</td>\n",
       "      <td>1.529753</td>\n",
       "      <td>0.510318</td>\n",
       "      <td>01:30</td>\n",
       "    </tr>\n",
       "    <tr>\n",
       "      <td>1</td>\n",
       "      <td>1.383831</td>\n",
       "      <td>1.579404</td>\n",
       "      <td>0.533758</td>\n",
       "      <td>01:32</td>\n",
       "    </tr>\n",
       "    <tr>\n",
       "      <td>2</td>\n",
       "      <td>1.265062</td>\n",
       "      <td>1.538380</td>\n",
       "      <td>0.535541</td>\n",
       "      <td>01:34</td>\n",
       "    </tr>\n",
       "    <tr>\n",
       "      <td>3</td>\n",
       "      <td>1.160110</td>\n",
       "      <td>1.392963</td>\n",
       "      <td>0.538344</td>\n",
       "      <td>01:34</td>\n",
       "    </tr>\n",
       "    <tr>\n",
       "      <td>4</td>\n",
       "      <td>1.063608</td>\n",
       "      <td>2.391305</td>\n",
       "      <td>0.418853</td>\n",
       "      <td>01:34</td>\n",
       "    </tr>\n",
       "    <tr>\n",
       "      <td>5</td>\n",
       "      <td>0.950941</td>\n",
       "      <td>1.787218</td>\n",
       "      <td>0.471338</td>\n",
       "      <td>01:34</td>\n",
       "    </tr>\n",
       "    <tr>\n",
       "      <td>6</td>\n",
       "      <td>0.848306</td>\n",
       "      <td>1.497377</td>\n",
       "      <td>0.636433</td>\n",
       "      <td>01:34</td>\n",
       "    </tr>\n",
       "    <tr>\n",
       "      <td>7</td>\n",
       "      <td>0.783319</td>\n",
       "      <td>0.930480</td>\n",
       "      <td>0.701401</td>\n",
       "      <td>01:34</td>\n",
       "    </tr>\n",
       "    <tr>\n",
       "      <td>8</td>\n",
       "      <td>0.713762</td>\n",
       "      <td>1.030928</td>\n",
       "      <td>0.681783</td>\n",
       "      <td>01:34</td>\n",
       "    </tr>\n",
       "    <tr>\n",
       "      <td>9</td>\n",
       "      <td>0.639707</td>\n",
       "      <td>1.577286</td>\n",
       "      <td>0.574013</td>\n",
       "      <td>01:34</td>\n",
       "    </tr>\n",
       "    <tr>\n",
       "      <td>10</td>\n",
       "      <td>0.604874</td>\n",
       "      <td>0.995040</td>\n",
       "      <td>0.695541</td>\n",
       "      <td>01:34</td>\n",
       "    </tr>\n",
       "    <tr>\n",
       "      <td>11</td>\n",
       "      <td>0.539998</td>\n",
       "      <td>0.803806</td>\n",
       "      <td>0.754650</td>\n",
       "      <td>01:34</td>\n",
       "    </tr>\n",
       "    <tr>\n",
       "      <td>12</td>\n",
       "      <td>0.484867</td>\n",
       "      <td>0.688639</td>\n",
       "      <td>0.779618</td>\n",
       "      <td>01:34</td>\n",
       "    </tr>\n",
       "    <tr>\n",
       "      <td>13</td>\n",
       "      <td>0.459248</td>\n",
       "      <td>0.712160</td>\n",
       "      <td>0.785733</td>\n",
       "      <td>01:34</td>\n",
       "    </tr>\n",
       "    <tr>\n",
       "      <td>14</td>\n",
       "      <td>0.392319</td>\n",
       "      <td>0.468867</td>\n",
       "      <td>0.857580</td>\n",
       "      <td>01:34</td>\n",
       "    </tr>\n",
       "    <tr>\n",
       "      <td>15</td>\n",
       "      <td>0.353768</td>\n",
       "      <td>0.558457</td>\n",
       "      <td>0.837197</td>\n",
       "      <td>01:34</td>\n",
       "    </tr>\n",
       "    <tr>\n",
       "      <td>16</td>\n",
       "      <td>0.314284</td>\n",
       "      <td>0.418582</td>\n",
       "      <td>0.871338</td>\n",
       "      <td>01:34</td>\n",
       "    </tr>\n",
       "    <tr>\n",
       "      <td>17</td>\n",
       "      <td>0.287317</td>\n",
       "      <td>0.439048</td>\n",
       "      <td>0.866752</td>\n",
       "      <td>01:34</td>\n",
       "    </tr>\n",
       "    <tr>\n",
       "      <td>18</td>\n",
       "      <td>0.260283</td>\n",
       "      <td>0.403132</td>\n",
       "      <td>0.877452</td>\n",
       "      <td>01:34</td>\n",
       "    </tr>\n",
       "    <tr>\n",
       "      <td>19</td>\n",
       "      <td>0.242763</td>\n",
       "      <td>0.425505</td>\n",
       "      <td>0.871847</td>\n",
       "      <td>01:34</td>\n",
       "    </tr>\n",
       "  </tbody>\n",
       "</table>"
      ],
      "text/plain": [
       "<IPython.core.display.HTML object>"
      ]
     },
     "metadata": {},
     "output_type": "display_data"
    }
   ],
   "source": [
    "dls = get_data(URLs.IMAGENETTE_320, presize=320, resize=224)\n",
    "def _conv_block(ni,nf,stride):\n",
    "    return nn.Sequential(\n",
    "        ConvLayer(ni, nf//4, 1),\n",
    "        ConvLayer(nf//4, nf//4, stride=stride), \n",
    "        ConvLayer(nf//4, nf, 1, act_cls=None, norm_type=NormType.BatchZero))\n",
    "\n",
    "learn = Learner(dls, ResNet(dls.c, [3,4,6,3], 4), loss_func=nn.CrossEntropyLoss(),\n",
    "                metrics=accuracy).to_fp16()\n",
    "learn.fit_one_cycle(20, 3e-3)"
   ]
  }
 ],
 "metadata": {
  "kernelspec": {
   "display_name": "Python 3 (ipykernel)",
   "language": "python",
   "name": "python3"
  },
  "language_info": {
   "codemirror_mode": {
    "name": "ipython",
    "version": 3
   },
   "file_extension": ".py",
   "mimetype": "text/x-python",
   "name": "python",
   "nbconvert_exporter": "python",
   "pygments_lexer": "ipython3",
   "version": "3.9.13"
  }
 },
 "nbformat": 4,
 "nbformat_minor": 5
}
