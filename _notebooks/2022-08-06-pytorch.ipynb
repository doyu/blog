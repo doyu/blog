{
 "cells": [
  {
   "cell_type": "code",
   "execution_count": 1,
   "id": "a0694292-60dd-4ab0-9dff-176bacdcf20c",
   "metadata": {},
   "outputs": [],
   "source": [
    "from fastai.vision.all import *"
   ]
  },
  {
   "cell_type": "code",
   "execution_count": 2,
   "id": "2ffa3499-ef77-4687-95ed-9d68aa3a3b87",
   "metadata": {},
   "outputs": [
    {
     "data": {
      "text/plain": [
       "(#3) [Path('train'),Path('labels.csv'),Path('valid')]"
      ]
     },
     "execution_count": 2,
     "metadata": {},
     "output_type": "execute_result"
    }
   ],
   "source": [
    "path = untar_data(URLs.MNIST_SAMPLE)\n",
    "Path.BASE_PATH = path\n",
    "path.ls()"
   ]
  },
  {
   "cell_type": "code",
   "execution_count": 3,
   "id": "bb7df232-a92f-4211-9b32-8869191e120c",
   "metadata": {},
   "outputs": [
    {
     "data": {
      "text/plain": [
       "((#6131) [Path('train/3/55705.png'),Path('train/3/32379.png'),Path('train/3/36132.png'),Path('train/3/50201.png'),Path('train/3/39704.png'),Path('train/3/8475.png'),Path('train/3/5139.png'),Path('train/3/32610.png'),Path('train/3/7784.png'),Path('train/3/45704.png')...],\n",
       " (#6265) [Path('train/7/23645.png'),Path('train/7/13644.png'),Path('train/7/22228.png'),Path('train/7/2229.png'),Path('train/7/6064.png'),Path('train/7/24505.png'),Path('train/7/26356.png'),Path('train/7/19987.png'),Path('train/7/19592.png'),Path('train/7/49413.png')...])"
      ]
     },
     "execution_count": 3,
     "metadata": {},
     "output_type": "execute_result"
    }
   ],
   "source": [
    "L((path/'train'/'3').ls()), L((path/'train'/'7').ls())"
   ]
  },
  {
   "cell_type": "code",
   "execution_count": 4,
   "id": "7136bc33-f310-4cc5-82c4-4b0745f502f4",
   "metadata": {},
   "outputs": [
    {
     "data": {
      "image/png": "[encoded data removed]",
      "text/plain": [
       "<PIL.PngImagePlugin.PngImageFile image mode=L size=28x28>"
      ]
     },
     "execution_count": 4,
     "metadata": {},
     "output_type": "execute_result"
    }
   ],
   "source": [
    "files = (path/'train'/'3').ls()\n",
    "im = Image.open(files[0])\n",
    "im"
   ]
  },
  {
   "cell_type": "code",
   "execution_count": 5,
   "id": "3947a709-2c35-4d39-b5b6-de9bdd9d03dc",
   "metadata": {},
   "outputs": [
    {
     "data": {
      "text/plain": [
       "torch.Size([28, 28])"
      ]
     },
     "execution_count": 5,
     "metadata": {},
     "output_type": "execute_result"
    }
   ],
   "source": [
    "tens = tensor(im)\n",
    "tens.shape"
   ]
  },
  {
   "cell_type": "code",
   "execution_count": 6,
   "id": "0ba995c9-01f9-404c-b643-f6f6271662aa",
   "metadata": {},
   "outputs": [],
   "source": [
    "def get_dls():\n",
    "    def get_ds(train_valid):\n",
    "        def get_X(train_valid, three_seven):\n",
    "            files = (path/train_valid/three_seven).ls()\n",
    "            X = torch.stack([tensor(Image.open(x)) for x in files])#.reshape(-1, 28*28)\n",
    "            return X\n",
    "        X3, X7 = get_X(train_valid, '3'), get_X(train_valid, '7')\n",
    "        X = torch.cat([X3, X7])/255.\n",
    "        y = torch.tensor([1]*len(X3) + [0]*len(X7)).reshape(-1, 1)\n",
    "        #print(X.shape, y.shape)\n",
    "        return list(zip(X, y))\n",
    "    ds1 = DataLoader(get_ds('train'), bs=256, shuffle=True)\n",
    "    ds2 = DataLoader(get_ds('valid'), bs=256)\n",
    "    return DataLoaders(ds1, ds2)\n",
    "                    \n",
    "dls = get_dls()    "
   ]
  },
  {
   "cell_type": "code",
   "execution_count": 8,
   "id": "b3bb649e-efc6-4a39-b935-b692e56ec0dd",
   "metadata": {},
   "outputs": [],
   "source": [
    "def loss_fn(y, t):\n",
    "    return torch.where(t==1, 1-y, y).mean()\n",
    "\n",
    "def batch_accuracy(y, t):\n",
    "    return ((y>0.5)==t).float().mean()\n",
    "\n",
    "def validate_epoch(model):\n",
    "    accs = [batch_accuracy(model(xb), yb) for xb,yb in dls.valid]\n",
    "    return round(torch.stack(accs).mean().item(), 4)\n",
    "\n",
    "class BasicOptim:\n",
    "    def __init__(self,params, lr):\n",
    "        self.params = list(params)\n",
    "        self.lr = lr\n",
    "\n",
    "    def step(self, *args, **kwargs):\n",
    "        for p in self.params:\n",
    "            p.data -= p.grad.data * self.lr\n",
    "\n",
    "    def zero_grad(self, *args, **kwargs):\n",
    "        for p in self.params:\n",
    "            p.grad = None\n",
    "            \n",
    "opt = BasicOptim(model.parameters(), lr=0.1)"
   ]
  },
  {
   "cell_type": "code",
   "execution_count": 12,
   "id": "db4c741b-5098-42eb-86aa-b28f1722c245",
   "metadata": {},
   "outputs": [],
   "source": [
    "\n",
    "model = nn.Sequential(\n",
    "    nn.Flatten(),\n",
    "    nn.Linear(28*28,30),\n",
    "    nn.ReLU(),\n",
    "    nn.Linear(30,1),\n",
    "    nn.Sigmoid(),\n",
    ")\n",
    "\n",
    "acc = []\n",
    "for epoch in range(40):\n",
    "    for X, t in dls.train:\n",
    "        y = model(X)\n",
    "        loss = loss_fn(y, t)\n",
    "        loss.backward()\n",
    "        opt.step()\n",
    "        opt.zero_grad()\n",
    "        \n",
    "    acc.append(validate_epoch(model))"
   ]
  },
  {
   "cell_type": "code",
   "execution_count": 13,
   "id": "25186b80-1b2d-457d-af61-c43872e00ac7",
   "metadata": {},
   "outputs": [
    {
     "data": {
      "text/plain": [
       "<AxesSubplot:>"
      ]
     },
     "execution_count": 13,
     "metadata": {},
     "output_type": "execute_result"
    },
    {
     "data": {
      "image/png": "[encoded data removed]",
      "text/plain": [
       "<Figure size 432x288 with 1 Axes>"
      ]
     },
     "metadata": {
      "needs_background": "light"
     },
     "output_type": "display_data"
    }
   ],
   "source": [
    "import pandas as pd\n",
    "pd.DataFrame({'accuracy':acc}).plot(grid=True)"
   ]
  },
  {
   "cell_type": "code",
   "execution_count": null,
   "id": "ebe840b4-af26-42a9-aeb2-da5cb06820ff",
   "metadata": {},
   "outputs": [],
   "source": [
    "if False:\n",
    "    learn = Learner(dls, model, opt_func=SGD, loss_func=loss_fn, metrics=batch_accuracy)\n",
    "    learn.fit(40, 0.1)\n",
    "    plt.plot(L(learn.recorder.values).itemgot(2));"
   ]
  }
 ],
 "metadata": {
  "kernelspec": {
   "display_name": "Python 3 (ipykernel)",
   "language": "python",
   "name": "python3"
  },
  "language_info": {
   "codemirror_mode": {
    "name": "ipython",
    "version": 3
   },
   "file_extension": ".py",
   "mimetype": "text/x-python",
   "name": "python",
   "nbconvert_exporter": "python",
   "pygments_lexer": "ipython3",
   "version": "3.9.13"
  }
 },
 "nbformat": 4,
 "nbformat_minor": 5
}
