{
 "cells": [
  {
   "cell_type": "markdown",
   "id": "75c76b71-9e44-4d14-bf49-ef47826c70a1",
   "metadata": {},
   "source": [
    "# fastbook 13: Implement ResNet"
   ]
  },
  {
   "cell_type": "code",
   "execution_count": 1,
   "id": "b70d115b-5fbc-44de-ad2d-b9bded19c34e",
   "metadata": {},
   "outputs": [],
   "source": [
    "from fastai.vision.all import *"
   ]
  },
  {
   "cell_type": "markdown",
   "id": "3e0883d1-f2f1-42b5-a12a-9a08ad530d19",
   "metadata": {},
   "source": [
    "## Let's try manual convolution for MNIST_SAMPLE!"
   ]
  },
  {
   "cell_type": "code",
   "execution_count": 2,
   "id": "00b5e5d2-0638-48a0-b111-a22af62cbeb1",
   "metadata": {},
   "outputs": [],
   "source": [
    "top_edge = tensor([[-1,-1,-1],\n",
    "                   [0,0,0],\n",
    "                   [1,1,1]]).float()"
   ]
  },
  {
   "cell_type": "code",
   "execution_count": 3,
   "id": "feac79e3-29b7-43af-bc33-80071a006912",
   "metadata": {},
   "outputs": [
    {
     "data": {
      "text/plain": [
       "(#3) [Path('train'),Path('labels.csv'),Path('valid')]"
      ]
     },
     "execution_count": 3,
     "metadata": {},
     "output_type": "execute_result"
    }
   ],
   "source": [
    "path = untar_data(URLs.MNIST_SAMPLE)\n",
    "Path.BASE_PATH = path\n",
    "path.ls()"
   ]
  },
  {
   "cell_type": "code",
   "execution_count": 4,
   "id": "fa4c0f8d-60d0-49f8-9e78-81badcfaac68",
   "metadata": {},
   "outputs": [
    {
     "data": {
      "text/plain": [
       "<AxesSubplot:>"
      ]
     },
     "execution_count": 4,
     "metadata": {},
     "output_type": "execute_result"
    },
    {
     "data": {
      "image/png": "[encoded data removed]",
      "text/plain": [
       "<Figure size 72x72 with 1 Axes>"
      ]
     },
     "metadata": {
      "needs_background": "light"
     },
     "output_type": "display_data"
    }
   ],
   "source": [
    "im3 = Image.open(path/'train'/'3'/'12.png')\n",
    "show_image(im3)"
   ]
  },
  {
   "cell_type": "code",
   "execution_count": 5,
   "id": "4800d76c-c5a3-49e3-a9ae-cbf0c0d0e7fe",
   "metadata": {},
   "outputs": [
    {
     "data": {
      "text/plain": [
       "tensor([[-0., -0., -0.],\n",
       "        [0., 0., 0.],\n",
       "        [0., 0., 0.]])"
      ]
     },
     "execution_count": 5,
     "metadata": {},
     "output_type": "execute_result"
    }
   ],
   "source": [
    "im3_t = tensor(im3)\n",
    "im3_t[:3,:3] * top_edge"
   ]
  },
  {
   "cell_type": "code",
   "execution_count": 6,
   "id": "f4c5dfdd-cf69-4e49-9fe5-d6130b9303cd",
   "metadata": {},
   "outputs": [
    {
     "data": {
      "text/plain": [
       "tensor([[0., 0., 0.],\n",
       "        [0., 0., 0.],\n",
       "        [0., 0., 0.]])"
      ]
     },
     "execution_count": 6,
     "metadata": {},
     "output_type": "execute_result"
    }
   ],
   "source": [
    "im3_t[:3,:3] * top_edge.sum()"
   ]
  },
  {
   "cell_type": "code",
   "execution_count": 7,
   "id": "6ca24ab0-2ba3-41a0-acb6-7fce59d900f0",
   "metadata": {},
   "outputs": [
    {
     "data": {
      "text/html": [
       "<div>\n",
       "<style scoped>\n",
       "    .dataframe tbody tr th:only-of-type {\n",
       "        vertical-align: middle;\n",
       "    }\n",
       "\n",
       "    .dataframe tbody tr th {\n",
       "        vertical-align: top;\n",
       "    }\n",
       "\n",
       "    .dataframe thead th {\n",
       "        text-align: right;\n",
       "    }\n",
       "</style>\n",
       "<table border=\"1\" class=\"dataframe\">\n",
       "  <thead>\n",
       "    <tr style=\"text-align: right;\">\n",
       "      <th></th>\n",
       "      <th>0</th>\n",
       "      <th>1</th>\n",
       "      <th>2</th>\n",
       "      <th>3</th>\n",
       "      <th>4</th>\n",
       "      <th>5</th>\n",
       "      <th>6</th>\n",
       "      <th>7</th>\n",
       "      <th>8</th>\n",
       "      <th>9</th>\n",
       "      <th>10</th>\n",
       "      <th>11</th>\n",
       "      <th>12</th>\n",
       "      <th>13</th>\n",
       "      <th>14</th>\n",
       "      <th>15</th>\n",
       "      <th>16</th>\n",
       "      <th>17</th>\n",
       "      <th>18</th>\n",
       "      <th>19</th>\n",
       "    </tr>\n",
       "  </thead>\n",
       "  <tbody>\n",
       "    <tr>\n",
       "      <th>0</th>\n",
       "      <td>0</td>\n",
       "      <td>0</td>\n",
       "      <td>0</td>\n",
       "      <td>0</td>\n",
       "      <td>0</td>\n",
       "      <td>0</td>\n",
       "      <td>0</td>\n",
       "      <td>0</td>\n",
       "      <td>0</td>\n",
       "      <td>0</td>\n",
       "      <td>0</td>\n",
       "      <td>0</td>\n",
       "      <td>0</td>\n",
       "      <td>0</td>\n",
       "      <td>0</td>\n",
       "      <td>0</td>\n",
       "      <td>0</td>\n",
       "      <td>0</td>\n",
       "      <td>0</td>\n",
       "      <td>0</td>\n",
       "    </tr>\n",
       "    <tr>\n",
       "      <th>1</th>\n",
       "      <td>0</td>\n",
       "      <td>0</td>\n",
       "      <td>0</td>\n",
       "      <td>0</td>\n",
       "      <td>0</td>\n",
       "      <td>0</td>\n",
       "      <td>0</td>\n",
       "      <td>0</td>\n",
       "      <td>0</td>\n",
       "      <td>0</td>\n",
       "      <td>0</td>\n",
       "      <td>0</td>\n",
       "      <td>0</td>\n",
       "      <td>0</td>\n",
       "      <td>0</td>\n",
       "      <td>0</td>\n",
       "      <td>0</td>\n",
       "      <td>0</td>\n",
       "      <td>0</td>\n",
       "      <td>0</td>\n",
       "    </tr>\n",
       "    <tr>\n",
       "      <th>2</th>\n",
       "      <td>0</td>\n",
       "      <td>0</td>\n",
       "      <td>0</td>\n",
       "      <td>0</td>\n",
       "      <td>0</td>\n",
       "      <td>0</td>\n",
       "      <td>0</td>\n",
       "      <td>0</td>\n",
       "      <td>0</td>\n",
       "      <td>0</td>\n",
       "      <td>0</td>\n",
       "      <td>0</td>\n",
       "      <td>0</td>\n",
       "      <td>0</td>\n",
       "      <td>0</td>\n",
       "      <td>0</td>\n",
       "      <td>0</td>\n",
       "      <td>0</td>\n",
       "      <td>0</td>\n",
       "      <td>0</td>\n",
       "    </tr>\n",
       "    <tr>\n",
       "      <th>3</th>\n",
       "      <td>0</td>\n",
       "      <td>0</td>\n",
       "      <td>0</td>\n",
       "      <td>0</td>\n",
       "      <td>0</td>\n",
       "      <td>0</td>\n",
       "      <td>0</td>\n",
       "      <td>0</td>\n",
       "      <td>0</td>\n",
       "      <td>0</td>\n",
       "      <td>0</td>\n",
       "      <td>0</td>\n",
       "      <td>0</td>\n",
       "      <td>0</td>\n",
       "      <td>0</td>\n",
       "      <td>0</td>\n",
       "      <td>0</td>\n",
       "      <td>0</td>\n",
       "      <td>0</td>\n",
       "      <td>0</td>\n",
       "    </tr>\n",
       "    <tr>\n",
       "      <th>4</th>\n",
       "      <td>0</td>\n",
       "      <td>0</td>\n",
       "      <td>0</td>\n",
       "      <td>0</td>\n",
       "      <td>0</td>\n",
       "      <td>0</td>\n",
       "      <td>0</td>\n",
       "      <td>0</td>\n",
       "      <td>0</td>\n",
       "      <td>0</td>\n",
       "      <td>0</td>\n",
       "      <td>0</td>\n",
       "      <td>0</td>\n",
       "      <td>0</td>\n",
       "      <td>0</td>\n",
       "      <td>0</td>\n",
       "      <td>0</td>\n",
       "      <td>0</td>\n",
       "      <td>0</td>\n",
       "      <td>0</td>\n",
       "    </tr>\n",
       "    <tr>\n",
       "      <th>5</th>\n",
       "      <td>0</td>\n",
       "      <td>0</td>\n",
       "      <td>0</td>\n",
       "      <td>12</td>\n",
       "      <td>99</td>\n",
       "      <td>91</td>\n",
       "      <td>142</td>\n",
       "      <td>155</td>\n",
       "      <td>246</td>\n",
       "      <td>182</td>\n",
       "      <td>155</td>\n",
       "      <td>155</td>\n",
       "      <td>155</td>\n",
       "      <td>155</td>\n",
       "      <td>131</td>\n",
       "      <td>52</td>\n",
       "      <td>0</td>\n",
       "      <td>0</td>\n",
       "      <td>0</td>\n",
       "      <td>0</td>\n",
       "    </tr>\n",
       "    <tr>\n",
       "      <th>6</th>\n",
       "      <td>0</td>\n",
       "      <td>0</td>\n",
       "      <td>0</td>\n",
       "      <td>138</td>\n",
       "      <td>254</td>\n",
       "      <td>254</td>\n",
       "      <td>254</td>\n",
       "      <td>254</td>\n",
       "      <td>254</td>\n",
       "      <td>254</td>\n",
       "      <td>254</td>\n",
       "      <td>254</td>\n",
       "      <td>254</td>\n",
       "      <td>254</td>\n",
       "      <td>254</td>\n",
       "      <td>252</td>\n",
       "      <td>210</td>\n",
       "      <td>122</td>\n",
       "      <td>33</td>\n",
       "      <td>0</td>\n",
       "    </tr>\n",
       "    <tr>\n",
       "      <th>7</th>\n",
       "      <td>0</td>\n",
       "      <td>0</td>\n",
       "      <td>0</td>\n",
       "      <td>220</td>\n",
       "      <td>254</td>\n",
       "      <td>254</td>\n",
       "      <td>254</td>\n",
       "      <td>235</td>\n",
       "      <td>189</td>\n",
       "      <td>189</td>\n",
       "      <td>189</td>\n",
       "      <td>189</td>\n",
       "      <td>150</td>\n",
       "      <td>189</td>\n",
       "      <td>205</td>\n",
       "      <td>254</td>\n",
       "      <td>254</td>\n",
       "      <td>254</td>\n",
       "      <td>75</td>\n",
       "      <td>0</td>\n",
       "    </tr>\n",
       "    <tr>\n",
       "      <th>8</th>\n",
       "      <td>0</td>\n",
       "      <td>0</td>\n",
       "      <td>0</td>\n",
       "      <td>35</td>\n",
       "      <td>74</td>\n",
       "      <td>35</td>\n",
       "      <td>35</td>\n",
       "      <td>25</td>\n",
       "      <td>0</td>\n",
       "      <td>0</td>\n",
       "      <td>0</td>\n",
       "      <td>0</td>\n",
       "      <td>0</td>\n",
       "      <td>0</td>\n",
       "      <td>13</td>\n",
       "      <td>224</td>\n",
       "      <td>254</td>\n",
       "      <td>254</td>\n",
       "      <td>153</td>\n",
       "      <td>0</td>\n",
       "    </tr>\n",
       "    <tr>\n",
       "      <th>9</th>\n",
       "      <td>0</td>\n",
       "      <td>0</td>\n",
       "      <td>0</td>\n",
       "      <td>0</td>\n",
       "      <td>0</td>\n",
       "      <td>0</td>\n",
       "      <td>0</td>\n",
       "      <td>0</td>\n",
       "      <td>0</td>\n",
       "      <td>0</td>\n",
       "      <td>0</td>\n",
       "      <td>0</td>\n",
       "      <td>0</td>\n",
       "      <td>0</td>\n",
       "      <td>90</td>\n",
       "      <td>254</td>\n",
       "      <td>254</td>\n",
       "      <td>247</td>\n",
       "      <td>53</td>\n",
       "      <td>0</td>\n",
       "    </tr>\n",
       "  </tbody>\n",
       "</table>\n",
       "</div>"
      ],
      "text/plain": [
       "   0   1   2    3    4    5    6    7    8    9    10   11   12   13   14  \\\n",
       "0   0   0   0    0    0    0    0    0    0    0    0    0    0    0    0   \n",
       "1   0   0   0    0    0    0    0    0    0    0    0    0    0    0    0   \n",
       "2   0   0   0    0    0    0    0    0    0    0    0    0    0    0    0   \n",
       "3   0   0   0    0    0    0    0    0    0    0    0    0    0    0    0   \n",
       "4   0   0   0    0    0    0    0    0    0    0    0    0    0    0    0   \n",
       "5   0   0   0   12   99   91  142  155  246  182  155  155  155  155  131   \n",
       "6   0   0   0  138  254  254  254  254  254  254  254  254  254  254  254   \n",
       "7   0   0   0  220  254  254  254  235  189  189  189  189  150  189  205   \n",
       "8   0   0   0   35   74   35   35   25    0    0    0    0    0    0   13   \n",
       "9   0   0   0    0    0    0    0    0    0    0    0    0    0    0   90   \n",
       "\n",
       "    15   16   17   18  19  \n",
       "0    0    0    0    0   0  \n",
       "1    0    0    0    0   0  \n",
       "2    0    0    0    0   0  \n",
       "3    0    0    0    0   0  \n",
       "4    0    0    0    0   0  \n",
       "5   52    0    0    0   0  \n",
       "6  252  210  122   33   0  \n",
       "7  254  254  254   75   0  \n",
       "8  224  254  254  153   0  \n",
       "9  254  254  247   53   0  "
      ]
     },
     "execution_count": 7,
     "metadata": {},
     "output_type": "execute_result"
    }
   ],
   "source": [
    "df = pd.DataFrame(im3_t[:10,:20])\n",
    "df"
   ]
  },
  {
   "cell_type": "code",
   "execution_count": 8,
   "id": "ae6dd2dd-cadb-4ee1-a88e-29c6ebef001f",
   "metadata": {},
   "outputs": [
    {
     "data": {
      "text/html": [
       "<style type=\"text/css\">\n",
       "#T_91c3c_row0_col0, #T_91c3c_row0_col1, #T_91c3c_row0_col2, #T_91c3c_row0_col3, #T_91c3c_row0_col4, #T_91c3c_row0_col5, #T_91c3c_row0_col6, #T_91c3c_row0_col7, #T_91c3c_row0_col8, #T_91c3c_row0_col9, #T_91c3c_row0_col10, #T_91c3c_row0_col11, #T_91c3c_row0_col12, #T_91c3c_row0_col13, #T_91c3c_row0_col14, #T_91c3c_row0_col15, #T_91c3c_row0_col16, #T_91c3c_row0_col17, #T_91c3c_row0_col18, #T_91c3c_row0_col19, #T_91c3c_row1_col0, #T_91c3c_row1_col1, #T_91c3c_row1_col2, #T_91c3c_row1_col3, #T_91c3c_row1_col4, #T_91c3c_row1_col5, #T_91c3c_row1_col6, #T_91c3c_row1_col7, #T_91c3c_row1_col8, #T_91c3c_row1_col9, #T_91c3c_row1_col10, #T_91c3c_row1_col11, #T_91c3c_row1_col12, #T_91c3c_row1_col13, #T_91c3c_row1_col14, #T_91c3c_row1_col15, #T_91c3c_row1_col16, #T_91c3c_row1_col17, #T_91c3c_row1_col18, #T_91c3c_row1_col19, #T_91c3c_row2_col0, #T_91c3c_row2_col1, #T_91c3c_row2_col2, #T_91c3c_row2_col3, #T_91c3c_row2_col4, #T_91c3c_row2_col5, #T_91c3c_row2_col6, #T_91c3c_row2_col7, #T_91c3c_row2_col8, #T_91c3c_row2_col9, #T_91c3c_row2_col10, #T_91c3c_row2_col11, #T_91c3c_row2_col12, #T_91c3c_row2_col13, #T_91c3c_row2_col14, #T_91c3c_row2_col15, #T_91c3c_row2_col16, #T_91c3c_row2_col17, #T_91c3c_row2_col18, #T_91c3c_row2_col19, #T_91c3c_row3_col0, #T_91c3c_row3_col1, #T_91c3c_row3_col2, #T_91c3c_row3_col3, #T_91c3c_row3_col4, #T_91c3c_row3_col5, #T_91c3c_row3_col6, #T_91c3c_row3_col7, #T_91c3c_row3_col8, #T_91c3c_row3_col9, #T_91c3c_row3_col10, #T_91c3c_row3_col11, #T_91c3c_row3_col12, #T_91c3c_row3_col13, #T_91c3c_row3_col14, #T_91c3c_row3_col15, #T_91c3c_row3_col16, #T_91c3c_row3_col17, #T_91c3c_row3_col18, #T_91c3c_row3_col19, #T_91c3c_row4_col0, #T_91c3c_row4_col1, #T_91c3c_row4_col2, #T_91c3c_row4_col3, #T_91c3c_row4_col4, #T_91c3c_row4_col5, #T_91c3c_row4_col6, #T_91c3c_row4_col7, #T_91c3c_row4_col8, #T_91c3c_row4_col9, #T_91c3c_row4_col10, #T_91c3c_row4_col11, #T_91c3c_row4_col12, #T_91c3c_row4_col13, #T_91c3c_row4_col14, #T_91c3c_row4_col15, #T_91c3c_row4_col16, #T_91c3c_row4_col17, #T_91c3c_row4_col18, #T_91c3c_row4_col19, #T_91c3c_row5_col0, #T_91c3c_row5_col1, #T_91c3c_row5_col2, #T_91c3c_row5_col16, #T_91c3c_row5_col17, #T_91c3c_row5_col18, #T_91c3c_row5_col19, #T_91c3c_row6_col0, #T_91c3c_row6_col1, #T_91c3c_row6_col2, #T_91c3c_row6_col19, #T_91c3c_row7_col0, #T_91c3c_row7_col1, #T_91c3c_row7_col2, #T_91c3c_row7_col19, #T_91c3c_row8_col0, #T_91c3c_row8_col1, #T_91c3c_row8_col2, #T_91c3c_row8_col8, #T_91c3c_row8_col9, #T_91c3c_row8_col10, #T_91c3c_row8_col11, #T_91c3c_row8_col12, #T_91c3c_row8_col13, #T_91c3c_row8_col19, #T_91c3c_row9_col0, #T_91c3c_row9_col1, #T_91c3c_row9_col2, #T_91c3c_row9_col3, #T_91c3c_row9_col4, #T_91c3c_row9_col5, #T_91c3c_row9_col6, #T_91c3c_row9_col7, #T_91c3c_row9_col8, #T_91c3c_row9_col9, #T_91c3c_row9_col10, #T_91c3c_row9_col11, #T_91c3c_row9_col12, #T_91c3c_row9_col13, #T_91c3c_row9_col19 {\n",
       "  background-color: #ffffff;\n",
       "  color: #000000;\n",
       "}\n",
       "#T_91c3c_row5_col3, #T_91c3c_row8_col14 {\n",
       "  background-color: #f9f9f9;\n",
       "  color: #000000;\n",
       "}\n",
       "#T_91c3c_row5_col4 {\n",
       "  background-color: #b9b9b9;\n",
       "  color: #000000;\n",
       "}\n",
       "#T_91c3c_row5_col5 {\n",
       "  background-color: #c1c1c1;\n",
       "  color: #000000;\n",
       "}\n",
       "#T_91c3c_row5_col6 {\n",
       "  background-color: #858585;\n",
       "  color: #f1f1f1;\n",
       "}\n",
       "#T_91c3c_row5_col7, #T_91c3c_row5_col10, #T_91c3c_row5_col11, #T_91c3c_row5_col12, #T_91c3c_row5_col13 {\n",
       "  background-color: #777777;\n",
       "  color: #f1f1f1;\n",
       "}\n",
       "#T_91c3c_row5_col8 {\n",
       "  background-color: #090909;\n",
       "  color: #f1f1f1;\n",
       "}\n",
       "#T_91c3c_row5_col9 {\n",
       "  background-color: #5b5b5b;\n",
       "  color: #f1f1f1;\n",
       "}\n",
       "#T_91c3c_row5_col14 {\n",
       "  background-color: #919191;\n",
       "  color: #f1f1f1;\n",
       "}\n",
       "#T_91c3c_row5_col15 {\n",
       "  background-color: #e1e1e1;\n",
       "  color: #000000;\n",
       "}\n",
       "#T_91c3c_row6_col3 {\n",
       "  background-color: #727272;\n",
       "  color: #f1f1f1;\n",
       "}\n",
       "#T_91c3c_row6_col4, #T_91c3c_row6_col5, #T_91c3c_row6_col6, #T_91c3c_row6_col7, #T_91c3c_row6_col8, #T_91c3c_row6_col9, #T_91c3c_row6_col10, #T_91c3c_row6_col11, #T_91c3c_row6_col12, #T_91c3c_row6_col13, #T_91c3c_row6_col14, #T_91c3c_row7_col3, #T_91c3c_row7_col4, #T_91c3c_row7_col5, #T_91c3c_row7_col6, #T_91c3c_row7_col15, #T_91c3c_row7_col16, #T_91c3c_row7_col17, #T_91c3c_row8_col16, #T_91c3c_row8_col17, #T_91c3c_row8_col18, #T_91c3c_row9_col15, #T_91c3c_row9_col16 {\n",
       "  background-color: #000000;\n",
       "  color: #f1f1f1;\n",
       "}\n",
       "#T_91c3c_row6_col15 {\n",
       "  background-color: #020202;\n",
       "  color: #f1f1f1;\n",
       "}\n",
       "#T_91c3c_row6_col16 {\n",
       "  background-color: #363636;\n",
       "  color: #f1f1f1;\n",
       "}\n",
       "#T_91c3c_row6_col17 {\n",
       "  background-color: #9d9d9d;\n",
       "  color: #f1f1f1;\n",
       "}\n",
       "#T_91c3c_row6_col18 {\n",
       "  background-color: #dfdfdf;\n",
       "  color: #000000;\n",
       "}\n",
       "#T_91c3c_row7_col7 {\n",
       "  background-color: #161616;\n",
       "  color: #f1f1f1;\n",
       "}\n",
       "#T_91c3c_row7_col8, #T_91c3c_row7_col9, #T_91c3c_row7_col10, #T_91c3c_row7_col11, #T_91c3c_row7_col13 {\n",
       "  background-color: #535353;\n",
       "  color: #f1f1f1;\n",
       "}\n",
       "#T_91c3c_row7_col12 {\n",
       "  background-color: #7c7c7c;\n",
       "  color: #f1f1f1;\n",
       "}\n",
       "#T_91c3c_row7_col14 {\n",
       "  background-color: #3d3d3d;\n",
       "  color: #f1f1f1;\n",
       "}\n",
       "#T_91c3c_row7_col18 {\n",
       "  background-color: #999999;\n",
       "  color: #f1f1f1;\n",
       "}\n",
       "#T_91c3c_row8_col3 {\n",
       "  background-color: #eaeaea;\n",
       "  color: #000000;\n",
       "}\n",
       "#T_91c3c_row8_col4 {\n",
       "  background-color: #d0d0d0;\n",
       "  color: #000000;\n",
       "}\n",
       "#T_91c3c_row8_col5, #T_91c3c_row8_col6 {\n",
       "  background-color: #eeeeee;\n",
       "  color: #000000;\n",
       "}\n",
       "#T_91c3c_row8_col7 {\n",
       "  background-color: #f3f3f3;\n",
       "  color: #000000;\n",
       "}\n",
       "#T_91c3c_row8_col15 {\n",
       "  background-color: #232323;\n",
       "  color: #f1f1f1;\n",
       "}\n",
       "#T_91c3c_row9_col14 {\n",
       "  background-color: #c2c2c2;\n",
       "  color: #000000;\n",
       "}\n",
       "#T_91c3c_row9_col17 {\n",
       "  background-color: #080808;\n",
       "  color: #f1f1f1;\n",
       "}\n",
       "#T_91c3c_row9_col18 {\n",
       "  background-color: #c4c4c4;\n",
       "  color: #000000;\n",
       "}\n",
       "</style>\n",
       "<table id=\"T_91c3c\">\n",
       "  <thead>\n",
       "    <tr>\n",
       "      <th class=\"blank level0\" >&nbsp;</th>\n",
       "      <th id=\"T_91c3c_level0_col0\" class=\"col_heading level0 col0\" >0</th>\n",
       "      <th id=\"T_91c3c_level0_col1\" class=\"col_heading level0 col1\" >1</th>\n",
       "      <th id=\"T_91c3c_level0_col2\" class=\"col_heading level0 col2\" >2</th>\n",
       "      <th id=\"T_91c3c_level0_col3\" class=\"col_heading level0 col3\" >3</th>\n",
       "      <th id=\"T_91c3c_level0_col4\" class=\"col_heading level0 col4\" >4</th>\n",
       "      <th id=\"T_91c3c_level0_col5\" class=\"col_heading level0 col5\" >5</th>\n",
       "      <th id=\"T_91c3c_level0_col6\" class=\"col_heading level0 col6\" >6</th>\n",
       "      <th id=\"T_91c3c_level0_col7\" class=\"col_heading level0 col7\" >7</th>\n",
       "      <th id=\"T_91c3c_level0_col8\" class=\"col_heading level0 col8\" >8</th>\n",
       "      <th id=\"T_91c3c_level0_col9\" class=\"col_heading level0 col9\" >9</th>\n",
       "      <th id=\"T_91c3c_level0_col10\" class=\"col_heading level0 col10\" >10</th>\n",
       "      <th id=\"T_91c3c_level0_col11\" class=\"col_heading level0 col11\" >11</th>\n",
       "      <th id=\"T_91c3c_level0_col12\" class=\"col_heading level0 col12\" >12</th>\n",
       "      <th id=\"T_91c3c_level0_col13\" class=\"col_heading level0 col13\" >13</th>\n",
       "      <th id=\"T_91c3c_level0_col14\" class=\"col_heading level0 col14\" >14</th>\n",
       "      <th id=\"T_91c3c_level0_col15\" class=\"col_heading level0 col15\" >15</th>\n",
       "      <th id=\"T_91c3c_level0_col16\" class=\"col_heading level0 col16\" >16</th>\n",
       "      <th id=\"T_91c3c_level0_col17\" class=\"col_heading level0 col17\" >17</th>\n",
       "      <th id=\"T_91c3c_level0_col18\" class=\"col_heading level0 col18\" >18</th>\n",
       "      <th id=\"T_91c3c_level0_col19\" class=\"col_heading level0 col19\" >19</th>\n",
       "    </tr>\n",
       "  </thead>\n",
       "  <tbody>\n",
       "    <tr>\n",
       "      <th id=\"T_91c3c_level0_row0\" class=\"row_heading level0 row0\" >0</th>\n",
       "      <td id=\"T_91c3c_row0_col0\" class=\"data row0 col0\" >0</td>\n",
       "      <td id=\"T_91c3c_row0_col1\" class=\"data row0 col1\" >0</td>\n",
       "      <td id=\"T_91c3c_row0_col2\" class=\"data row0 col2\" >0</td>\n",
       "      <td id=\"T_91c3c_row0_col3\" class=\"data row0 col3\" >0</td>\n",
       "      <td id=\"T_91c3c_row0_col4\" class=\"data row0 col4\" >0</td>\n",
       "      <td id=\"T_91c3c_row0_col5\" class=\"data row0 col5\" >0</td>\n",
       "      <td id=\"T_91c3c_row0_col6\" class=\"data row0 col6\" >0</td>\n",
       "      <td id=\"T_91c3c_row0_col7\" class=\"data row0 col7\" >0</td>\n",
       "      <td id=\"T_91c3c_row0_col8\" class=\"data row0 col8\" >0</td>\n",
       "      <td id=\"T_91c3c_row0_col9\" class=\"data row0 col9\" >0</td>\n",
       "      <td id=\"T_91c3c_row0_col10\" class=\"data row0 col10\" >0</td>\n",
       "      <td id=\"T_91c3c_row0_col11\" class=\"data row0 col11\" >0</td>\n",
       "      <td id=\"T_91c3c_row0_col12\" class=\"data row0 col12\" >0</td>\n",
       "      <td id=\"T_91c3c_row0_col13\" class=\"data row0 col13\" >0</td>\n",
       "      <td id=\"T_91c3c_row0_col14\" class=\"data row0 col14\" >0</td>\n",
       "      <td id=\"T_91c3c_row0_col15\" class=\"data row0 col15\" >0</td>\n",
       "      <td id=\"T_91c3c_row0_col16\" class=\"data row0 col16\" >0</td>\n",
       "      <td id=\"T_91c3c_row0_col17\" class=\"data row0 col17\" >0</td>\n",
       "      <td id=\"T_91c3c_row0_col18\" class=\"data row0 col18\" >0</td>\n",
       "      <td id=\"T_91c3c_row0_col19\" class=\"data row0 col19\" >0</td>\n",
       "    </tr>\n",
       "    <tr>\n",
       "      <th id=\"T_91c3c_level0_row1\" class=\"row_heading level0 row1\" >1</th>\n",
       "      <td id=\"T_91c3c_row1_col0\" class=\"data row1 col0\" >0</td>\n",
       "      <td id=\"T_91c3c_row1_col1\" class=\"data row1 col1\" >0</td>\n",
       "      <td id=\"T_91c3c_row1_col2\" class=\"data row1 col2\" >0</td>\n",
       "      <td id=\"T_91c3c_row1_col3\" class=\"data row1 col3\" >0</td>\n",
       "      <td id=\"T_91c3c_row1_col4\" class=\"data row1 col4\" >0</td>\n",
       "      <td id=\"T_91c3c_row1_col5\" class=\"data row1 col5\" >0</td>\n",
       "      <td id=\"T_91c3c_row1_col6\" class=\"data row1 col6\" >0</td>\n",
       "      <td id=\"T_91c3c_row1_col7\" class=\"data row1 col7\" >0</td>\n",
       "      <td id=\"T_91c3c_row1_col8\" class=\"data row1 col8\" >0</td>\n",
       "      <td id=\"T_91c3c_row1_col9\" class=\"data row1 col9\" >0</td>\n",
       "      <td id=\"T_91c3c_row1_col10\" class=\"data row1 col10\" >0</td>\n",
       "      <td id=\"T_91c3c_row1_col11\" class=\"data row1 col11\" >0</td>\n",
       "      <td id=\"T_91c3c_row1_col12\" class=\"data row1 col12\" >0</td>\n",
       "      <td id=\"T_91c3c_row1_col13\" class=\"data row1 col13\" >0</td>\n",
       "      <td id=\"T_91c3c_row1_col14\" class=\"data row1 col14\" >0</td>\n",
       "      <td id=\"T_91c3c_row1_col15\" class=\"data row1 col15\" >0</td>\n",
       "      <td id=\"T_91c3c_row1_col16\" class=\"data row1 col16\" >0</td>\n",
       "      <td id=\"T_91c3c_row1_col17\" class=\"data row1 col17\" >0</td>\n",
       "      <td id=\"T_91c3c_row1_col18\" class=\"data row1 col18\" >0</td>\n",
       "      <td id=\"T_91c3c_row1_col19\" class=\"data row1 col19\" >0</td>\n",
       "    </tr>\n",
       "    <tr>\n",
       "      <th id=\"T_91c3c_level0_row2\" class=\"row_heading level0 row2\" >2</th>\n",
       "      <td id=\"T_91c3c_row2_col0\" class=\"data row2 col0\" >0</td>\n",
       "      <td id=\"T_91c3c_row2_col1\" class=\"data row2 col1\" >0</td>\n",
       "      <td id=\"T_91c3c_row2_col2\" class=\"data row2 col2\" >0</td>\n",
       "      <td id=\"T_91c3c_row2_col3\" class=\"data row2 col3\" >0</td>\n",
       "      <td id=\"T_91c3c_row2_col4\" class=\"data row2 col4\" >0</td>\n",
       "      <td id=\"T_91c3c_row2_col5\" class=\"data row2 col5\" >0</td>\n",
       "      <td id=\"T_91c3c_row2_col6\" class=\"data row2 col6\" >0</td>\n",
       "      <td id=\"T_91c3c_row2_col7\" class=\"data row2 col7\" >0</td>\n",
       "      <td id=\"T_91c3c_row2_col8\" class=\"data row2 col8\" >0</td>\n",
       "      <td id=\"T_91c3c_row2_col9\" class=\"data row2 col9\" >0</td>\n",
       "      <td id=\"T_91c3c_row2_col10\" class=\"data row2 col10\" >0</td>\n",
       "      <td id=\"T_91c3c_row2_col11\" class=\"data row2 col11\" >0</td>\n",
       "      <td id=\"T_91c3c_row2_col12\" class=\"data row2 col12\" >0</td>\n",
       "      <td id=\"T_91c3c_row2_col13\" class=\"data row2 col13\" >0</td>\n",
       "      <td id=\"T_91c3c_row2_col14\" class=\"data row2 col14\" >0</td>\n",
       "      <td id=\"T_91c3c_row2_col15\" class=\"data row2 col15\" >0</td>\n",
       "      <td id=\"T_91c3c_row2_col16\" class=\"data row2 col16\" >0</td>\n",
       "      <td id=\"T_91c3c_row2_col17\" class=\"data row2 col17\" >0</td>\n",
       "      <td id=\"T_91c3c_row2_col18\" class=\"data row2 col18\" >0</td>\n",
       "      <td id=\"T_91c3c_row2_col19\" class=\"data row2 col19\" >0</td>\n",
       "    </tr>\n",
       "    <tr>\n",
       "      <th id=\"T_91c3c_level0_row3\" class=\"row_heading level0 row3\" >3</th>\n",
       "      <td id=\"T_91c3c_row3_col0\" class=\"data row3 col0\" >0</td>\n",
       "      <td id=\"T_91c3c_row3_col1\" class=\"data row3 col1\" >0</td>\n",
       "      <td id=\"T_91c3c_row3_col2\" class=\"data row3 col2\" >0</td>\n",
       "      <td id=\"T_91c3c_row3_col3\" class=\"data row3 col3\" >0</td>\n",
       "      <td id=\"T_91c3c_row3_col4\" class=\"data row3 col4\" >0</td>\n",
       "      <td id=\"T_91c3c_row3_col5\" class=\"data row3 col5\" >0</td>\n",
       "      <td id=\"T_91c3c_row3_col6\" class=\"data row3 col6\" >0</td>\n",
       "      <td id=\"T_91c3c_row3_col7\" class=\"data row3 col7\" >0</td>\n",
       "      <td id=\"T_91c3c_row3_col8\" class=\"data row3 col8\" >0</td>\n",
       "      <td id=\"T_91c3c_row3_col9\" class=\"data row3 col9\" >0</td>\n",
       "      <td id=\"T_91c3c_row3_col10\" class=\"data row3 col10\" >0</td>\n",
       "      <td id=\"T_91c3c_row3_col11\" class=\"data row3 col11\" >0</td>\n",
       "      <td id=\"T_91c3c_row3_col12\" class=\"data row3 col12\" >0</td>\n",
       "      <td id=\"T_91c3c_row3_col13\" class=\"data row3 col13\" >0</td>\n",
       "      <td id=\"T_91c3c_row3_col14\" class=\"data row3 col14\" >0</td>\n",
       "      <td id=\"T_91c3c_row3_col15\" class=\"data row3 col15\" >0</td>\n",
       "      <td id=\"T_91c3c_row3_col16\" class=\"data row3 col16\" >0</td>\n",
       "      <td id=\"T_91c3c_row3_col17\" class=\"data row3 col17\" >0</td>\n",
       "      <td id=\"T_91c3c_row3_col18\" class=\"data row3 col18\" >0</td>\n",
       "      <td id=\"T_91c3c_row3_col19\" class=\"data row3 col19\" >0</td>\n",
       "    </tr>\n",
       "    <tr>\n",
       "      <th id=\"T_91c3c_level0_row4\" class=\"row_heading level0 row4\" >4</th>\n",
       "      <td id=\"T_91c3c_row4_col0\" class=\"data row4 col0\" >0</td>\n",
       "      <td id=\"T_91c3c_row4_col1\" class=\"data row4 col1\" >0</td>\n",
       "      <td id=\"T_91c3c_row4_col2\" class=\"data row4 col2\" >0</td>\n",
       "      <td id=\"T_91c3c_row4_col3\" class=\"data row4 col3\" >0</td>\n",
       "      <td id=\"T_91c3c_row4_col4\" class=\"data row4 col4\" >0</td>\n",
       "      <td id=\"T_91c3c_row4_col5\" class=\"data row4 col5\" >0</td>\n",
       "      <td id=\"T_91c3c_row4_col6\" class=\"data row4 col6\" >0</td>\n",
       "      <td id=\"T_91c3c_row4_col7\" class=\"data row4 col7\" >0</td>\n",
       "      <td id=\"T_91c3c_row4_col8\" class=\"data row4 col8\" >0</td>\n",
       "      <td id=\"T_91c3c_row4_col9\" class=\"data row4 col9\" >0</td>\n",
       "      <td id=\"T_91c3c_row4_col10\" class=\"data row4 col10\" >0</td>\n",
       "      <td id=\"T_91c3c_row4_col11\" class=\"data row4 col11\" >0</td>\n",
       "      <td id=\"T_91c3c_row4_col12\" class=\"data row4 col12\" >0</td>\n",
       "      <td id=\"T_91c3c_row4_col13\" class=\"data row4 col13\" >0</td>\n",
       "      <td id=\"T_91c3c_row4_col14\" class=\"data row4 col14\" >0</td>\n",
       "      <td id=\"T_91c3c_row4_col15\" class=\"data row4 col15\" >0</td>\n",
       "      <td id=\"T_91c3c_row4_col16\" class=\"data row4 col16\" >0</td>\n",
       "      <td id=\"T_91c3c_row4_col17\" class=\"data row4 col17\" >0</td>\n",
       "      <td id=\"T_91c3c_row4_col18\" class=\"data row4 col18\" >0</td>\n",
       "      <td id=\"T_91c3c_row4_col19\" class=\"data row4 col19\" >0</td>\n",
       "    </tr>\n",
       "    <tr>\n",
       "      <th id=\"T_91c3c_level0_row5\" class=\"row_heading level0 row5\" >5</th>\n",
       "      <td id=\"T_91c3c_row5_col0\" class=\"data row5 col0\" >0</td>\n",
       "      <td id=\"T_91c3c_row5_col1\" class=\"data row5 col1\" >0</td>\n",
       "      <td id=\"T_91c3c_row5_col2\" class=\"data row5 col2\" >0</td>\n",
       "      <td id=\"T_91c3c_row5_col3\" class=\"data row5 col3\" >12</td>\n",
       "      <td id=\"T_91c3c_row5_col4\" class=\"data row5 col4\" >99</td>\n",
       "      <td id=\"T_91c3c_row5_col5\" class=\"data row5 col5\" >91</td>\n",
       "      <td id=\"T_91c3c_row5_col6\" class=\"data row5 col6\" >142</td>\n",
       "      <td id=\"T_91c3c_row5_col7\" class=\"data row5 col7\" >155</td>\n",
       "      <td id=\"T_91c3c_row5_col8\" class=\"data row5 col8\" >246</td>\n",
       "      <td id=\"T_91c3c_row5_col9\" class=\"data row5 col9\" >182</td>\n",
       "      <td id=\"T_91c3c_row5_col10\" class=\"data row5 col10\" >155</td>\n",
       "      <td id=\"T_91c3c_row5_col11\" class=\"data row5 col11\" >155</td>\n",
       "      <td id=\"T_91c3c_row5_col12\" class=\"data row5 col12\" >155</td>\n",
       "      <td id=\"T_91c3c_row5_col13\" class=\"data row5 col13\" >155</td>\n",
       "      <td id=\"T_91c3c_row5_col14\" class=\"data row5 col14\" >131</td>\n",
       "      <td id=\"T_91c3c_row5_col15\" class=\"data row5 col15\" >52</td>\n",
       "      <td id=\"T_91c3c_row5_col16\" class=\"data row5 col16\" >0</td>\n",
       "      <td id=\"T_91c3c_row5_col17\" class=\"data row5 col17\" >0</td>\n",
       "      <td id=\"T_91c3c_row5_col18\" class=\"data row5 col18\" >0</td>\n",
       "      <td id=\"T_91c3c_row5_col19\" class=\"data row5 col19\" >0</td>\n",
       "    </tr>\n",
       "    <tr>\n",
       "      <th id=\"T_91c3c_level0_row6\" class=\"row_heading level0 row6\" >6</th>\n",
       "      <td id=\"T_91c3c_row6_col0\" class=\"data row6 col0\" >0</td>\n",
       "      <td id=\"T_91c3c_row6_col1\" class=\"data row6 col1\" >0</td>\n",
       "      <td id=\"T_91c3c_row6_col2\" class=\"data row6 col2\" >0</td>\n",
       "      <td id=\"T_91c3c_row6_col3\" class=\"data row6 col3\" >138</td>\n",
       "      <td id=\"T_91c3c_row6_col4\" class=\"data row6 col4\" >254</td>\n",
       "      <td id=\"T_91c3c_row6_col5\" class=\"data row6 col5\" >254</td>\n",
       "      <td id=\"T_91c3c_row6_col6\" class=\"data row6 col6\" >254</td>\n",
       "      <td id=\"T_91c3c_row6_col7\" class=\"data row6 col7\" >254</td>\n",
       "      <td id=\"T_91c3c_row6_col8\" class=\"data row6 col8\" >254</td>\n",
       "      <td id=\"T_91c3c_row6_col9\" class=\"data row6 col9\" >254</td>\n",
       "      <td id=\"T_91c3c_row6_col10\" class=\"data row6 col10\" >254</td>\n",
       "      <td id=\"T_91c3c_row6_col11\" class=\"data row6 col11\" >254</td>\n",
       "      <td id=\"T_91c3c_row6_col12\" class=\"data row6 col12\" >254</td>\n",
       "      <td id=\"T_91c3c_row6_col13\" class=\"data row6 col13\" >254</td>\n",
       "      <td id=\"T_91c3c_row6_col14\" class=\"data row6 col14\" >254</td>\n",
       "      <td id=\"T_91c3c_row6_col15\" class=\"data row6 col15\" >252</td>\n",
       "      <td id=\"T_91c3c_row6_col16\" class=\"data row6 col16\" >210</td>\n",
       "      <td id=\"T_91c3c_row6_col17\" class=\"data row6 col17\" >122</td>\n",
       "      <td id=\"T_91c3c_row6_col18\" class=\"data row6 col18\" >33</td>\n",
       "      <td id=\"T_91c3c_row6_col19\" class=\"data row6 col19\" >0</td>\n",
       "    </tr>\n",
       "    <tr>\n",
       "      <th id=\"T_91c3c_level0_row7\" class=\"row_heading level0 row7\" >7</th>\n",
       "      <td id=\"T_91c3c_row7_col0\" class=\"data row7 col0\" >0</td>\n",
       "      <td id=\"T_91c3c_row7_col1\" class=\"data row7 col1\" >0</td>\n",
       "      <td id=\"T_91c3c_row7_col2\" class=\"data row7 col2\" >0</td>\n",
       "      <td id=\"T_91c3c_row7_col3\" class=\"data row7 col3\" >220</td>\n",
       "      <td id=\"T_91c3c_row7_col4\" class=\"data row7 col4\" >254</td>\n",
       "      <td id=\"T_91c3c_row7_col5\" class=\"data row7 col5\" >254</td>\n",
       "      <td id=\"T_91c3c_row7_col6\" class=\"data row7 col6\" >254</td>\n",
       "      <td id=\"T_91c3c_row7_col7\" class=\"data row7 col7\" >235</td>\n",
       "      <td id=\"T_91c3c_row7_col8\" class=\"data row7 col8\" >189</td>\n",
       "      <td id=\"T_91c3c_row7_col9\" class=\"data row7 col9\" >189</td>\n",
       "      <td id=\"T_91c3c_row7_col10\" class=\"data row7 col10\" >189</td>\n",
       "      <td id=\"T_91c3c_row7_col11\" class=\"data row7 col11\" >189</td>\n",
       "      <td id=\"T_91c3c_row7_col12\" class=\"data row7 col12\" >150</td>\n",
       "      <td id=\"T_91c3c_row7_col13\" class=\"data row7 col13\" >189</td>\n",
       "      <td id=\"T_91c3c_row7_col14\" class=\"data row7 col14\" >205</td>\n",
       "      <td id=\"T_91c3c_row7_col15\" class=\"data row7 col15\" >254</td>\n",
       "      <td id=\"T_91c3c_row7_col16\" class=\"data row7 col16\" >254</td>\n",
       "      <td id=\"T_91c3c_row7_col17\" class=\"data row7 col17\" >254</td>\n",
       "      <td id=\"T_91c3c_row7_col18\" class=\"data row7 col18\" >75</td>\n",
       "      <td id=\"T_91c3c_row7_col19\" class=\"data row7 col19\" >0</td>\n",
       "    </tr>\n",
       "    <tr>\n",
       "      <th id=\"T_91c3c_level0_row8\" class=\"row_heading level0 row8\" >8</th>\n",
       "      <td id=\"T_91c3c_row8_col0\" class=\"data row8 col0\" >0</td>\n",
       "      <td id=\"T_91c3c_row8_col1\" class=\"data row8 col1\" >0</td>\n",
       "      <td id=\"T_91c3c_row8_col2\" class=\"data row8 col2\" >0</td>\n",
       "      <td id=\"T_91c3c_row8_col3\" class=\"data row8 col3\" >35</td>\n",
       "      <td id=\"T_91c3c_row8_col4\" class=\"data row8 col4\" >74</td>\n",
       "      <td id=\"T_91c3c_row8_col5\" class=\"data row8 col5\" >35</td>\n",
       "      <td id=\"T_91c3c_row8_col6\" class=\"data row8 col6\" >35</td>\n",
       "      <td id=\"T_91c3c_row8_col7\" class=\"data row8 col7\" >25</td>\n",
       "      <td id=\"T_91c3c_row8_col8\" class=\"data row8 col8\" >0</td>\n",
       "      <td id=\"T_91c3c_row8_col9\" class=\"data row8 col9\" >0</td>\n",
       "      <td id=\"T_91c3c_row8_col10\" class=\"data row8 col10\" >0</td>\n",
       "      <td id=\"T_91c3c_row8_col11\" class=\"data row8 col11\" >0</td>\n",
       "      <td id=\"T_91c3c_row8_col12\" class=\"data row8 col12\" >0</td>\n",
       "      <td id=\"T_91c3c_row8_col13\" class=\"data row8 col13\" >0</td>\n",
       "      <td id=\"T_91c3c_row8_col14\" class=\"data row8 col14\" >13</td>\n",
       "      <td id=\"T_91c3c_row8_col15\" class=\"data row8 col15\" >224</td>\n",
       "      <td id=\"T_91c3c_row8_col16\" class=\"data row8 col16\" >254</td>\n",
       "      <td id=\"T_91c3c_row8_col17\" class=\"data row8 col17\" >254</td>\n",
       "      <td id=\"T_91c3c_row8_col18\" class=\"data row8 col18\" >153</td>\n",
       "      <td id=\"T_91c3c_row8_col19\" class=\"data row8 col19\" >0</td>\n",
       "    </tr>\n",
       "    <tr>\n",
       "      <th id=\"T_91c3c_level0_row9\" class=\"row_heading level0 row9\" >9</th>\n",
       "      <td id=\"T_91c3c_row9_col0\" class=\"data row9 col0\" >0</td>\n",
       "      <td id=\"T_91c3c_row9_col1\" class=\"data row9 col1\" >0</td>\n",
       "      <td id=\"T_91c3c_row9_col2\" class=\"data row9 col2\" >0</td>\n",
       "      <td id=\"T_91c3c_row9_col3\" class=\"data row9 col3\" >0</td>\n",
       "      <td id=\"T_91c3c_row9_col4\" class=\"data row9 col4\" >0</td>\n",
       "      <td id=\"T_91c3c_row9_col5\" class=\"data row9 col5\" >0</td>\n",
       "      <td id=\"T_91c3c_row9_col6\" class=\"data row9 col6\" >0</td>\n",
       "      <td id=\"T_91c3c_row9_col7\" class=\"data row9 col7\" >0</td>\n",
       "      <td id=\"T_91c3c_row9_col8\" class=\"data row9 col8\" >0</td>\n",
       "      <td id=\"T_91c3c_row9_col9\" class=\"data row9 col9\" >0</td>\n",
       "      <td id=\"T_91c3c_row9_col10\" class=\"data row9 col10\" >0</td>\n",
       "      <td id=\"T_91c3c_row9_col11\" class=\"data row9 col11\" >0</td>\n",
       "      <td id=\"T_91c3c_row9_col12\" class=\"data row9 col12\" >0</td>\n",
       "      <td id=\"T_91c3c_row9_col13\" class=\"data row9 col13\" >0</td>\n",
       "      <td id=\"T_91c3c_row9_col14\" class=\"data row9 col14\" >90</td>\n",
       "      <td id=\"T_91c3c_row9_col15\" class=\"data row9 col15\" >254</td>\n",
       "      <td id=\"T_91c3c_row9_col16\" class=\"data row9 col16\" >254</td>\n",
       "      <td id=\"T_91c3c_row9_col17\" class=\"data row9 col17\" >247</td>\n",
       "      <td id=\"T_91c3c_row9_col18\" class=\"data row9 col18\" >53</td>\n",
       "      <td id=\"T_91c3c_row9_col19\" class=\"data row9 col19\" >0</td>\n",
       "    </tr>\n",
       "  </tbody>\n",
       "</table>\n"
      ],
      "text/plain": [
       "<pandas.io.formats.style.Styler at 0x7f0cf8f95730>"
      ]
     },
     "execution_count": 8,
     "metadata": {},
     "output_type": "execute_result"
    }
   ],
   "source": [
    "df.style.background_gradient('Greys')"
   ]
  },
  {
   "cell_type": "code",
   "execution_count": 9,
   "id": "a8bbe81d-1555-45f2-808a-85f6a14cb0a6",
   "metadata": {},
   "outputs": [
    {
     "data": {
      "text/html": [
       "<style type=\"text/css\">\n",
       "#T_31eae_row0_col0, #T_31eae_row0_col1, #T_31eae_row0_col2, #T_31eae_row0_col3, #T_31eae_row0_col4, #T_31eae_row0_col5, #T_31eae_row0_col6, #T_31eae_row0_col7, #T_31eae_row0_col8, #T_31eae_row0_col9, #T_31eae_row0_col10, #T_31eae_row0_col11, #T_31eae_row0_col12, #T_31eae_row0_col13, #T_31eae_row0_col14, #T_31eae_row0_col15, #T_31eae_row0_col16, #T_31eae_row0_col17, #T_31eae_row0_col18, #T_31eae_row0_col19, #T_31eae_row1_col0, #T_31eae_row1_col1, #T_31eae_row1_col2, #T_31eae_row1_col3, #T_31eae_row1_col4, #T_31eae_row1_col5, #T_31eae_row1_col6, #T_31eae_row1_col7, #T_31eae_row1_col8, #T_31eae_row1_col9, #T_31eae_row1_col10, #T_31eae_row1_col11, #T_31eae_row1_col12, #T_31eae_row1_col13, #T_31eae_row1_col14, #T_31eae_row1_col15, #T_31eae_row1_col16, #T_31eae_row1_col17, #T_31eae_row1_col18, #T_31eae_row1_col19, #T_31eae_row2_col0, #T_31eae_row2_col1, #T_31eae_row2_col2, #T_31eae_row2_col3, #T_31eae_row2_col4, #T_31eae_row2_col5, #T_31eae_row2_col6, #T_31eae_row2_col7, #T_31eae_row2_col8, #T_31eae_row2_col9, #T_31eae_row2_col10, #T_31eae_row2_col11, #T_31eae_row2_col12, #T_31eae_row2_col13, #T_31eae_row2_col14, #T_31eae_row2_col15, #T_31eae_row2_col16, #T_31eae_row2_col17, #T_31eae_row2_col18, #T_31eae_row2_col19, #T_31eae_row3_col0, #T_31eae_row3_col1, #T_31eae_row3_col2, #T_31eae_row3_col3, #T_31eae_row3_col4, #T_31eae_row3_col5, #T_31eae_row3_col6, #T_31eae_row3_col7, #T_31eae_row3_col8, #T_31eae_row3_col9, #T_31eae_row3_col10, #T_31eae_row3_col11, #T_31eae_row3_col12, #T_31eae_row3_col13, #T_31eae_row3_col14, #T_31eae_row3_col15, #T_31eae_row3_col16, #T_31eae_row3_col17, #T_31eae_row3_col18, #T_31eae_row3_col19, #T_31eae_row4_col0, #T_31eae_row4_col1, #T_31eae_row4_col2, #T_31eae_row4_col3, #T_31eae_row4_col4, #T_31eae_row4_col5, #T_31eae_row4_col6, #T_31eae_row4_col7, #T_31eae_row4_col8, #T_31eae_row4_col9, #T_31eae_row4_col10, #T_31eae_row4_col11, #T_31eae_row4_col12, #T_31eae_row4_col13, #T_31eae_row4_col14, #T_31eae_row4_col15, #T_31eae_row4_col16, #T_31eae_row4_col17, #T_31eae_row4_col18, #T_31eae_row4_col19, #T_31eae_row5_col0, #T_31eae_row5_col1, #T_31eae_row5_col2, #T_31eae_row5_col16, #T_31eae_row5_col17, #T_31eae_row5_col18, #T_31eae_row5_col19, #T_31eae_row6_col0, #T_31eae_row6_col1, #T_31eae_row6_col2, #T_31eae_row6_col19, #T_31eae_row7_col0, #T_31eae_row7_col1, #T_31eae_row7_col2, #T_31eae_row7_col19, #T_31eae_row8_col0, #T_31eae_row8_col1, #T_31eae_row8_col2, #T_31eae_row8_col8, #T_31eae_row8_col9, #T_31eae_row8_col10, #T_31eae_row8_col11, #T_31eae_row8_col12, #T_31eae_row8_col13, #T_31eae_row8_col19, #T_31eae_row9_col0, #T_31eae_row9_col1, #T_31eae_row9_col2, #T_31eae_row9_col3, #T_31eae_row9_col4, #T_31eae_row9_col5, #T_31eae_row9_col6, #T_31eae_row9_col7, #T_31eae_row9_col8, #T_31eae_row9_col9, #T_31eae_row9_col10, #T_31eae_row9_col11, #T_31eae_row9_col12, #T_31eae_row9_col13, #T_31eae_row9_col19 {\n",
       "  font-size: 6pt;\n",
       "  background-color: #ffffff;\n",
       "  color: #000000;\n",
       "}\n",
       "#T_31eae_row5_col3, #T_31eae_row8_col14 {\n",
       "  font-size: 6pt;\n",
       "  background-color: #f9f9f9;\n",
       "  color: #000000;\n",
       "}\n",
       "#T_31eae_row5_col4 {\n",
       "  font-size: 6pt;\n",
       "  background-color: #b9b9b9;\n",
       "  color: #000000;\n",
       "}\n",
       "#T_31eae_row5_col5 {\n",
       "  font-size: 6pt;\n",
       "  background-color: #c1c1c1;\n",
       "  color: #000000;\n",
       "}\n",
       "#T_31eae_row5_col6 {\n",
       "  font-size: 6pt;\n",
       "  background-color: #858585;\n",
       "  color: #f1f1f1;\n",
       "}\n",
       "#T_31eae_row5_col7, #T_31eae_row5_col10, #T_31eae_row5_col11, #T_31eae_row5_col12, #T_31eae_row5_col13 {\n",
       "  font-size: 6pt;\n",
       "  background-color: #777777;\n",
       "  color: #f1f1f1;\n",
       "}\n",
       "#T_31eae_row5_col8 {\n",
       "  font-size: 6pt;\n",
       "  background-color: #090909;\n",
       "  color: #f1f1f1;\n",
       "}\n",
       "#T_31eae_row5_col9 {\n",
       "  font-size: 6pt;\n",
       "  background-color: #5b5b5b;\n",
       "  color: #f1f1f1;\n",
       "}\n",
       "#T_31eae_row5_col14 {\n",
       "  font-size: 6pt;\n",
       "  background-color: #919191;\n",
       "  color: #f1f1f1;\n",
       "}\n",
       "#T_31eae_row5_col15 {\n",
       "  font-size: 6pt;\n",
       "  background-color: #e1e1e1;\n",
       "  color: #000000;\n",
       "}\n",
       "#T_31eae_row6_col3 {\n",
       "  font-size: 6pt;\n",
       "  background-color: #727272;\n",
       "  color: #f1f1f1;\n",
       "}\n",
       "#T_31eae_row6_col4, #T_31eae_row6_col5, #T_31eae_row6_col6, #T_31eae_row6_col7, #T_31eae_row6_col8, #T_31eae_row6_col9, #T_31eae_row6_col10, #T_31eae_row6_col11, #T_31eae_row6_col12, #T_31eae_row6_col13, #T_31eae_row6_col14, #T_31eae_row7_col3, #T_31eae_row7_col4, #T_31eae_row7_col5, #T_31eae_row7_col6, #T_31eae_row7_col15, #T_31eae_row7_col16, #T_31eae_row7_col17, #T_31eae_row8_col16, #T_31eae_row8_col17, #T_31eae_row8_col18, #T_31eae_row9_col15, #T_31eae_row9_col16 {\n",
       "  font-size: 6pt;\n",
       "  background-color: #000000;\n",
       "  color: #f1f1f1;\n",
       "}\n",
       "#T_31eae_row6_col15 {\n",
       "  font-size: 6pt;\n",
       "  background-color: #020202;\n",
       "  color: #f1f1f1;\n",
       "}\n",
       "#T_31eae_row6_col16 {\n",
       "  font-size: 6pt;\n",
       "  background-color: #363636;\n",
       "  color: #f1f1f1;\n",
       "}\n",
       "#T_31eae_row6_col17 {\n",
       "  font-size: 6pt;\n",
       "  background-color: #9d9d9d;\n",
       "  color: #f1f1f1;\n",
       "}\n",
       "#T_31eae_row6_col18 {\n",
       "  font-size: 6pt;\n",
       "  background-color: #dfdfdf;\n",
       "  color: #000000;\n",
       "}\n",
       "#T_31eae_row7_col7 {\n",
       "  font-size: 6pt;\n",
       "  background-color: #161616;\n",
       "  color: #f1f1f1;\n",
       "}\n",
       "#T_31eae_row7_col8, #T_31eae_row7_col9, #T_31eae_row7_col10, #T_31eae_row7_col11, #T_31eae_row7_col13 {\n",
       "  font-size: 6pt;\n",
       "  background-color: #535353;\n",
       "  color: #f1f1f1;\n",
       "}\n",
       "#T_31eae_row7_col12 {\n",
       "  font-size: 6pt;\n",
       "  background-color: #7c7c7c;\n",
       "  color: #f1f1f1;\n",
       "}\n",
       "#T_31eae_row7_col14 {\n",
       "  font-size: 6pt;\n",
       "  background-color: #3d3d3d;\n",
       "  color: #f1f1f1;\n",
       "}\n",
       "#T_31eae_row7_col18 {\n",
       "  font-size: 6pt;\n",
       "  background-color: #999999;\n",
       "  color: #f1f1f1;\n",
       "}\n",
       "#T_31eae_row8_col3 {\n",
       "  font-size: 6pt;\n",
       "  background-color: #eaeaea;\n",
       "  color: #000000;\n",
       "}\n",
       "#T_31eae_row8_col4 {\n",
       "  font-size: 6pt;\n",
       "  background-color: #d0d0d0;\n",
       "  color: #000000;\n",
       "}\n",
       "#T_31eae_row8_col5, #T_31eae_row8_col6 {\n",
       "  font-size: 6pt;\n",
       "  background-color: #eeeeee;\n",
       "  color: #000000;\n",
       "}\n",
       "#T_31eae_row8_col7 {\n",
       "  font-size: 6pt;\n",
       "  background-color: #f3f3f3;\n",
       "  color: #000000;\n",
       "}\n",
       "#T_31eae_row8_col15 {\n",
       "  font-size: 6pt;\n",
       "  background-color: #232323;\n",
       "  color: #f1f1f1;\n",
       "}\n",
       "#T_31eae_row9_col14 {\n",
       "  font-size: 6pt;\n",
       "  background-color: #c2c2c2;\n",
       "  color: #000000;\n",
       "}\n",
       "#T_31eae_row9_col17 {\n",
       "  font-size: 6pt;\n",
       "  background-color: #080808;\n",
       "  color: #f1f1f1;\n",
       "}\n",
       "#T_31eae_row9_col18 {\n",
       "  font-size: 6pt;\n",
       "  background-color: #c4c4c4;\n",
       "  color: #000000;\n",
       "}\n",
       "</style>\n",
       "<table id=\"T_31eae\">\n",
       "  <thead>\n",
       "    <tr>\n",
       "      <th class=\"blank level0\" >&nbsp;</th>\n",
       "      <th id=\"T_31eae_level0_col0\" class=\"col_heading level0 col0\" >0</th>\n",
       "      <th id=\"T_31eae_level0_col1\" class=\"col_heading level0 col1\" >1</th>\n",
       "      <th id=\"T_31eae_level0_col2\" class=\"col_heading level0 col2\" >2</th>\n",
       "      <th id=\"T_31eae_level0_col3\" class=\"col_heading level0 col3\" >3</th>\n",
       "      <th id=\"T_31eae_level0_col4\" class=\"col_heading level0 col4\" >4</th>\n",
       "      <th id=\"T_31eae_level0_col5\" class=\"col_heading level0 col5\" >5</th>\n",
       "      <th id=\"T_31eae_level0_col6\" class=\"col_heading level0 col6\" >6</th>\n",
       "      <th id=\"T_31eae_level0_col7\" class=\"col_heading level0 col7\" >7</th>\n",
       "      <th id=\"T_31eae_level0_col8\" class=\"col_heading level0 col8\" >8</th>\n",
       "      <th id=\"T_31eae_level0_col9\" class=\"col_heading level0 col9\" >9</th>\n",
       "      <th id=\"T_31eae_level0_col10\" class=\"col_heading level0 col10\" >10</th>\n",
       "      <th id=\"T_31eae_level0_col11\" class=\"col_heading level0 col11\" >11</th>\n",
       "      <th id=\"T_31eae_level0_col12\" class=\"col_heading level0 col12\" >12</th>\n",
       "      <th id=\"T_31eae_level0_col13\" class=\"col_heading level0 col13\" >13</th>\n",
       "      <th id=\"T_31eae_level0_col14\" class=\"col_heading level0 col14\" >14</th>\n",
       "      <th id=\"T_31eae_level0_col15\" class=\"col_heading level0 col15\" >15</th>\n",
       "      <th id=\"T_31eae_level0_col16\" class=\"col_heading level0 col16\" >16</th>\n",
       "      <th id=\"T_31eae_level0_col17\" class=\"col_heading level0 col17\" >17</th>\n",
       "      <th id=\"T_31eae_level0_col18\" class=\"col_heading level0 col18\" >18</th>\n",
       "      <th id=\"T_31eae_level0_col19\" class=\"col_heading level0 col19\" >19</th>\n",
       "    </tr>\n",
       "  </thead>\n",
       "  <tbody>\n",
       "    <tr>\n",
       "      <th id=\"T_31eae_level0_row0\" class=\"row_heading level0 row0\" >0</th>\n",
       "      <td id=\"T_31eae_row0_col0\" class=\"data row0 col0\" >0</td>\n",
       "      <td id=\"T_31eae_row0_col1\" class=\"data row0 col1\" >0</td>\n",
       "      <td id=\"T_31eae_row0_col2\" class=\"data row0 col2\" >0</td>\n",
       "      <td id=\"T_31eae_row0_col3\" class=\"data row0 col3\" >0</td>\n",
       "      <td id=\"T_31eae_row0_col4\" class=\"data row0 col4\" >0</td>\n",
       "      <td id=\"T_31eae_row0_col5\" class=\"data row0 col5\" >0</td>\n",
       "      <td id=\"T_31eae_row0_col6\" class=\"data row0 col6\" >0</td>\n",
       "      <td id=\"T_31eae_row0_col7\" class=\"data row0 col7\" >0</td>\n",
       "      <td id=\"T_31eae_row0_col8\" class=\"data row0 col8\" >0</td>\n",
       "      <td id=\"T_31eae_row0_col9\" class=\"data row0 col9\" >0</td>\n",
       "      <td id=\"T_31eae_row0_col10\" class=\"data row0 col10\" >0</td>\n",
       "      <td id=\"T_31eae_row0_col11\" class=\"data row0 col11\" >0</td>\n",
       "      <td id=\"T_31eae_row0_col12\" class=\"data row0 col12\" >0</td>\n",
       "      <td id=\"T_31eae_row0_col13\" class=\"data row0 col13\" >0</td>\n",
       "      <td id=\"T_31eae_row0_col14\" class=\"data row0 col14\" >0</td>\n",
       "      <td id=\"T_31eae_row0_col15\" class=\"data row0 col15\" >0</td>\n",
       "      <td id=\"T_31eae_row0_col16\" class=\"data row0 col16\" >0</td>\n",
       "      <td id=\"T_31eae_row0_col17\" class=\"data row0 col17\" >0</td>\n",
       "      <td id=\"T_31eae_row0_col18\" class=\"data row0 col18\" >0</td>\n",
       "      <td id=\"T_31eae_row0_col19\" class=\"data row0 col19\" >0</td>\n",
       "    </tr>\n",
       "    <tr>\n",
       "      <th id=\"T_31eae_level0_row1\" class=\"row_heading level0 row1\" >1</th>\n",
       "      <td id=\"T_31eae_row1_col0\" class=\"data row1 col0\" >0</td>\n",
       "      <td id=\"T_31eae_row1_col1\" class=\"data row1 col1\" >0</td>\n",
       "      <td id=\"T_31eae_row1_col2\" class=\"data row1 col2\" >0</td>\n",
       "      <td id=\"T_31eae_row1_col3\" class=\"data row1 col3\" >0</td>\n",
       "      <td id=\"T_31eae_row1_col4\" class=\"data row1 col4\" >0</td>\n",
       "      <td id=\"T_31eae_row1_col5\" class=\"data row1 col5\" >0</td>\n",
       "      <td id=\"T_31eae_row1_col6\" class=\"data row1 col6\" >0</td>\n",
       "      <td id=\"T_31eae_row1_col7\" class=\"data row1 col7\" >0</td>\n",
       "      <td id=\"T_31eae_row1_col8\" class=\"data row1 col8\" >0</td>\n",
       "      <td id=\"T_31eae_row1_col9\" class=\"data row1 col9\" >0</td>\n",
       "      <td id=\"T_31eae_row1_col10\" class=\"data row1 col10\" >0</td>\n",
       "      <td id=\"T_31eae_row1_col11\" class=\"data row1 col11\" >0</td>\n",
       "      <td id=\"T_31eae_row1_col12\" class=\"data row1 col12\" >0</td>\n",
       "      <td id=\"T_31eae_row1_col13\" class=\"data row1 col13\" >0</td>\n",
       "      <td id=\"T_31eae_row1_col14\" class=\"data row1 col14\" >0</td>\n",
       "      <td id=\"T_31eae_row1_col15\" class=\"data row1 col15\" >0</td>\n",
       "      <td id=\"T_31eae_row1_col16\" class=\"data row1 col16\" >0</td>\n",
       "      <td id=\"T_31eae_row1_col17\" class=\"data row1 col17\" >0</td>\n",
       "      <td id=\"T_31eae_row1_col18\" class=\"data row1 col18\" >0</td>\n",
       "      <td id=\"T_31eae_row1_col19\" class=\"data row1 col19\" >0</td>\n",
       "    </tr>\n",
       "    <tr>\n",
       "      <th id=\"T_31eae_level0_row2\" class=\"row_heading level0 row2\" >2</th>\n",
       "      <td id=\"T_31eae_row2_col0\" class=\"data row2 col0\" >0</td>\n",
       "      <td id=\"T_31eae_row2_col1\" class=\"data row2 col1\" >0</td>\n",
       "      <td id=\"T_31eae_row2_col2\" class=\"data row2 col2\" >0</td>\n",
       "      <td id=\"T_31eae_row2_col3\" class=\"data row2 col3\" >0</td>\n",
       "      <td id=\"T_31eae_row2_col4\" class=\"data row2 col4\" >0</td>\n",
       "      <td id=\"T_31eae_row2_col5\" class=\"data row2 col5\" >0</td>\n",
       "      <td id=\"T_31eae_row2_col6\" class=\"data row2 col6\" >0</td>\n",
       "      <td id=\"T_31eae_row2_col7\" class=\"data row2 col7\" >0</td>\n",
       "      <td id=\"T_31eae_row2_col8\" class=\"data row2 col8\" >0</td>\n",
       "      <td id=\"T_31eae_row2_col9\" class=\"data row2 col9\" >0</td>\n",
       "      <td id=\"T_31eae_row2_col10\" class=\"data row2 col10\" >0</td>\n",
       "      <td id=\"T_31eae_row2_col11\" class=\"data row2 col11\" >0</td>\n",
       "      <td id=\"T_31eae_row2_col12\" class=\"data row2 col12\" >0</td>\n",
       "      <td id=\"T_31eae_row2_col13\" class=\"data row2 col13\" >0</td>\n",
       "      <td id=\"T_31eae_row2_col14\" class=\"data row2 col14\" >0</td>\n",
       "      <td id=\"T_31eae_row2_col15\" class=\"data row2 col15\" >0</td>\n",
       "      <td id=\"T_31eae_row2_col16\" class=\"data row2 col16\" >0</td>\n",
       "      <td id=\"T_31eae_row2_col17\" class=\"data row2 col17\" >0</td>\n",
       "      <td id=\"T_31eae_row2_col18\" class=\"data row2 col18\" >0</td>\n",
       "      <td id=\"T_31eae_row2_col19\" class=\"data row2 col19\" >0</td>\n",
       "    </tr>\n",
       "    <tr>\n",
       "      <th id=\"T_31eae_level0_row3\" class=\"row_heading level0 row3\" >3</th>\n",
       "      <td id=\"T_31eae_row3_col0\" class=\"data row3 col0\" >0</td>\n",
       "      <td id=\"T_31eae_row3_col1\" class=\"data row3 col1\" >0</td>\n",
       "      <td id=\"T_31eae_row3_col2\" class=\"data row3 col2\" >0</td>\n",
       "      <td id=\"T_31eae_row3_col3\" class=\"data row3 col3\" >0</td>\n",
       "      <td id=\"T_31eae_row3_col4\" class=\"data row3 col4\" >0</td>\n",
       "      <td id=\"T_31eae_row3_col5\" class=\"data row3 col5\" >0</td>\n",
       "      <td id=\"T_31eae_row3_col6\" class=\"data row3 col6\" >0</td>\n",
       "      <td id=\"T_31eae_row3_col7\" class=\"data row3 col7\" >0</td>\n",
       "      <td id=\"T_31eae_row3_col8\" class=\"data row3 col8\" >0</td>\n",
       "      <td id=\"T_31eae_row3_col9\" class=\"data row3 col9\" >0</td>\n",
       "      <td id=\"T_31eae_row3_col10\" class=\"data row3 col10\" >0</td>\n",
       "      <td id=\"T_31eae_row3_col11\" class=\"data row3 col11\" >0</td>\n",
       "      <td id=\"T_31eae_row3_col12\" class=\"data row3 col12\" >0</td>\n",
       "      <td id=\"T_31eae_row3_col13\" class=\"data row3 col13\" >0</td>\n",
       "      <td id=\"T_31eae_row3_col14\" class=\"data row3 col14\" >0</td>\n",
       "      <td id=\"T_31eae_row3_col15\" class=\"data row3 col15\" >0</td>\n",
       "      <td id=\"T_31eae_row3_col16\" class=\"data row3 col16\" >0</td>\n",
       "      <td id=\"T_31eae_row3_col17\" class=\"data row3 col17\" >0</td>\n",
       "      <td id=\"T_31eae_row3_col18\" class=\"data row3 col18\" >0</td>\n",
       "      <td id=\"T_31eae_row3_col19\" class=\"data row3 col19\" >0</td>\n",
       "    </tr>\n",
       "    <tr>\n",
       "      <th id=\"T_31eae_level0_row4\" class=\"row_heading level0 row4\" >4</th>\n",
       "      <td id=\"T_31eae_row4_col0\" class=\"data row4 col0\" >0</td>\n",
       "      <td id=\"T_31eae_row4_col1\" class=\"data row4 col1\" >0</td>\n",
       "      <td id=\"T_31eae_row4_col2\" class=\"data row4 col2\" >0</td>\n",
       "      <td id=\"T_31eae_row4_col3\" class=\"data row4 col3\" >0</td>\n",
       "      <td id=\"T_31eae_row4_col4\" class=\"data row4 col4\" >0</td>\n",
       "      <td id=\"T_31eae_row4_col5\" class=\"data row4 col5\" >0</td>\n",
       "      <td id=\"T_31eae_row4_col6\" class=\"data row4 col6\" >0</td>\n",
       "      <td id=\"T_31eae_row4_col7\" class=\"data row4 col7\" >0</td>\n",
       "      <td id=\"T_31eae_row4_col8\" class=\"data row4 col8\" >0</td>\n",
       "      <td id=\"T_31eae_row4_col9\" class=\"data row4 col9\" >0</td>\n",
       "      <td id=\"T_31eae_row4_col10\" class=\"data row4 col10\" >0</td>\n",
       "      <td id=\"T_31eae_row4_col11\" class=\"data row4 col11\" >0</td>\n",
       "      <td id=\"T_31eae_row4_col12\" class=\"data row4 col12\" >0</td>\n",
       "      <td id=\"T_31eae_row4_col13\" class=\"data row4 col13\" >0</td>\n",
       "      <td id=\"T_31eae_row4_col14\" class=\"data row4 col14\" >0</td>\n",
       "      <td id=\"T_31eae_row4_col15\" class=\"data row4 col15\" >0</td>\n",
       "      <td id=\"T_31eae_row4_col16\" class=\"data row4 col16\" >0</td>\n",
       "      <td id=\"T_31eae_row4_col17\" class=\"data row4 col17\" >0</td>\n",
       "      <td id=\"T_31eae_row4_col18\" class=\"data row4 col18\" >0</td>\n",
       "      <td id=\"T_31eae_row4_col19\" class=\"data row4 col19\" >0</td>\n",
       "    </tr>\n",
       "    <tr>\n",
       "      <th id=\"T_31eae_level0_row5\" class=\"row_heading level0 row5\" >5</th>\n",
       "      <td id=\"T_31eae_row5_col0\" class=\"data row5 col0\" >0</td>\n",
       "      <td id=\"T_31eae_row5_col1\" class=\"data row5 col1\" >0</td>\n",
       "      <td id=\"T_31eae_row5_col2\" class=\"data row5 col2\" >0</td>\n",
       "      <td id=\"T_31eae_row5_col3\" class=\"data row5 col3\" >12</td>\n",
       "      <td id=\"T_31eae_row5_col4\" class=\"data row5 col4\" >99</td>\n",
       "      <td id=\"T_31eae_row5_col5\" class=\"data row5 col5\" >91</td>\n",
       "      <td id=\"T_31eae_row5_col6\" class=\"data row5 col6\" >142</td>\n",
       "      <td id=\"T_31eae_row5_col7\" class=\"data row5 col7\" >155</td>\n",
       "      <td id=\"T_31eae_row5_col8\" class=\"data row5 col8\" >246</td>\n",
       "      <td id=\"T_31eae_row5_col9\" class=\"data row5 col9\" >182</td>\n",
       "      <td id=\"T_31eae_row5_col10\" class=\"data row5 col10\" >155</td>\n",
       "      <td id=\"T_31eae_row5_col11\" class=\"data row5 col11\" >155</td>\n",
       "      <td id=\"T_31eae_row5_col12\" class=\"data row5 col12\" >155</td>\n",
       "      <td id=\"T_31eae_row5_col13\" class=\"data row5 col13\" >155</td>\n",
       "      <td id=\"T_31eae_row5_col14\" class=\"data row5 col14\" >131</td>\n",
       "      <td id=\"T_31eae_row5_col15\" class=\"data row5 col15\" >52</td>\n",
       "      <td id=\"T_31eae_row5_col16\" class=\"data row5 col16\" >0</td>\n",
       "      <td id=\"T_31eae_row5_col17\" class=\"data row5 col17\" >0</td>\n",
       "      <td id=\"T_31eae_row5_col18\" class=\"data row5 col18\" >0</td>\n",
       "      <td id=\"T_31eae_row5_col19\" class=\"data row5 col19\" >0</td>\n",
       "    </tr>\n",
       "    <tr>\n",
       "      <th id=\"T_31eae_level0_row6\" class=\"row_heading level0 row6\" >6</th>\n",
       "      <td id=\"T_31eae_row6_col0\" class=\"data row6 col0\" >0</td>\n",
       "      <td id=\"T_31eae_row6_col1\" class=\"data row6 col1\" >0</td>\n",
       "      <td id=\"T_31eae_row6_col2\" class=\"data row6 col2\" >0</td>\n",
       "      <td id=\"T_31eae_row6_col3\" class=\"data row6 col3\" >138</td>\n",
       "      <td id=\"T_31eae_row6_col4\" class=\"data row6 col4\" >254</td>\n",
       "      <td id=\"T_31eae_row6_col5\" class=\"data row6 col5\" >254</td>\n",
       "      <td id=\"T_31eae_row6_col6\" class=\"data row6 col6\" >254</td>\n",
       "      <td id=\"T_31eae_row6_col7\" class=\"data row6 col7\" >254</td>\n",
       "      <td id=\"T_31eae_row6_col8\" class=\"data row6 col8\" >254</td>\n",
       "      <td id=\"T_31eae_row6_col9\" class=\"data row6 col9\" >254</td>\n",
       "      <td id=\"T_31eae_row6_col10\" class=\"data row6 col10\" >254</td>\n",
       "      <td id=\"T_31eae_row6_col11\" class=\"data row6 col11\" >254</td>\n",
       "      <td id=\"T_31eae_row6_col12\" class=\"data row6 col12\" >254</td>\n",
       "      <td id=\"T_31eae_row6_col13\" class=\"data row6 col13\" >254</td>\n",
       "      <td id=\"T_31eae_row6_col14\" class=\"data row6 col14\" >254</td>\n",
       "      <td id=\"T_31eae_row6_col15\" class=\"data row6 col15\" >252</td>\n",
       "      <td id=\"T_31eae_row6_col16\" class=\"data row6 col16\" >210</td>\n",
       "      <td id=\"T_31eae_row6_col17\" class=\"data row6 col17\" >122</td>\n",
       "      <td id=\"T_31eae_row6_col18\" class=\"data row6 col18\" >33</td>\n",
       "      <td id=\"T_31eae_row6_col19\" class=\"data row6 col19\" >0</td>\n",
       "    </tr>\n",
       "    <tr>\n",
       "      <th id=\"T_31eae_level0_row7\" class=\"row_heading level0 row7\" >7</th>\n",
       "      <td id=\"T_31eae_row7_col0\" class=\"data row7 col0\" >0</td>\n",
       "      <td id=\"T_31eae_row7_col1\" class=\"data row7 col1\" >0</td>\n",
       "      <td id=\"T_31eae_row7_col2\" class=\"data row7 col2\" >0</td>\n",
       "      <td id=\"T_31eae_row7_col3\" class=\"data row7 col3\" >220</td>\n",
       "      <td id=\"T_31eae_row7_col4\" class=\"data row7 col4\" >254</td>\n",
       "      <td id=\"T_31eae_row7_col5\" class=\"data row7 col5\" >254</td>\n",
       "      <td id=\"T_31eae_row7_col6\" class=\"data row7 col6\" >254</td>\n",
       "      <td id=\"T_31eae_row7_col7\" class=\"data row7 col7\" >235</td>\n",
       "      <td id=\"T_31eae_row7_col8\" class=\"data row7 col8\" >189</td>\n",
       "      <td id=\"T_31eae_row7_col9\" class=\"data row7 col9\" >189</td>\n",
       "      <td id=\"T_31eae_row7_col10\" class=\"data row7 col10\" >189</td>\n",
       "      <td id=\"T_31eae_row7_col11\" class=\"data row7 col11\" >189</td>\n",
       "      <td id=\"T_31eae_row7_col12\" class=\"data row7 col12\" >150</td>\n",
       "      <td id=\"T_31eae_row7_col13\" class=\"data row7 col13\" >189</td>\n",
       "      <td id=\"T_31eae_row7_col14\" class=\"data row7 col14\" >205</td>\n",
       "      <td id=\"T_31eae_row7_col15\" class=\"data row7 col15\" >254</td>\n",
       "      <td id=\"T_31eae_row7_col16\" class=\"data row7 col16\" >254</td>\n",
       "      <td id=\"T_31eae_row7_col17\" class=\"data row7 col17\" >254</td>\n",
       "      <td id=\"T_31eae_row7_col18\" class=\"data row7 col18\" >75</td>\n",
       "      <td id=\"T_31eae_row7_col19\" class=\"data row7 col19\" >0</td>\n",
       "    </tr>\n",
       "    <tr>\n",
       "      <th id=\"T_31eae_level0_row8\" class=\"row_heading level0 row8\" >8</th>\n",
       "      <td id=\"T_31eae_row8_col0\" class=\"data row8 col0\" >0</td>\n",
       "      <td id=\"T_31eae_row8_col1\" class=\"data row8 col1\" >0</td>\n",
       "      <td id=\"T_31eae_row8_col2\" class=\"data row8 col2\" >0</td>\n",
       "      <td id=\"T_31eae_row8_col3\" class=\"data row8 col3\" >35</td>\n",
       "      <td id=\"T_31eae_row8_col4\" class=\"data row8 col4\" >74</td>\n",
       "      <td id=\"T_31eae_row8_col5\" class=\"data row8 col5\" >35</td>\n",
       "      <td id=\"T_31eae_row8_col6\" class=\"data row8 col6\" >35</td>\n",
       "      <td id=\"T_31eae_row8_col7\" class=\"data row8 col7\" >25</td>\n",
       "      <td id=\"T_31eae_row8_col8\" class=\"data row8 col8\" >0</td>\n",
       "      <td id=\"T_31eae_row8_col9\" class=\"data row8 col9\" >0</td>\n",
       "      <td id=\"T_31eae_row8_col10\" class=\"data row8 col10\" >0</td>\n",
       "      <td id=\"T_31eae_row8_col11\" class=\"data row8 col11\" >0</td>\n",
       "      <td id=\"T_31eae_row8_col12\" class=\"data row8 col12\" >0</td>\n",
       "      <td id=\"T_31eae_row8_col13\" class=\"data row8 col13\" >0</td>\n",
       "      <td id=\"T_31eae_row8_col14\" class=\"data row8 col14\" >13</td>\n",
       "      <td id=\"T_31eae_row8_col15\" class=\"data row8 col15\" >224</td>\n",
       "      <td id=\"T_31eae_row8_col16\" class=\"data row8 col16\" >254</td>\n",
       "      <td id=\"T_31eae_row8_col17\" class=\"data row8 col17\" >254</td>\n",
       "      <td id=\"T_31eae_row8_col18\" class=\"data row8 col18\" >153</td>\n",
       "      <td id=\"T_31eae_row8_col19\" class=\"data row8 col19\" >0</td>\n",
       "    </tr>\n",
       "    <tr>\n",
       "      <th id=\"T_31eae_level0_row9\" class=\"row_heading level0 row9\" >9</th>\n",
       "      <td id=\"T_31eae_row9_col0\" class=\"data row9 col0\" >0</td>\n",
       "      <td id=\"T_31eae_row9_col1\" class=\"data row9 col1\" >0</td>\n",
       "      <td id=\"T_31eae_row9_col2\" class=\"data row9 col2\" >0</td>\n",
       "      <td id=\"T_31eae_row9_col3\" class=\"data row9 col3\" >0</td>\n",
       "      <td id=\"T_31eae_row9_col4\" class=\"data row9 col4\" >0</td>\n",
       "      <td id=\"T_31eae_row9_col5\" class=\"data row9 col5\" >0</td>\n",
       "      <td id=\"T_31eae_row9_col6\" class=\"data row9 col6\" >0</td>\n",
       "      <td id=\"T_31eae_row9_col7\" class=\"data row9 col7\" >0</td>\n",
       "      <td id=\"T_31eae_row9_col8\" class=\"data row9 col8\" >0</td>\n",
       "      <td id=\"T_31eae_row9_col9\" class=\"data row9 col9\" >0</td>\n",
       "      <td id=\"T_31eae_row9_col10\" class=\"data row9 col10\" >0</td>\n",
       "      <td id=\"T_31eae_row9_col11\" class=\"data row9 col11\" >0</td>\n",
       "      <td id=\"T_31eae_row9_col12\" class=\"data row9 col12\" >0</td>\n",
       "      <td id=\"T_31eae_row9_col13\" class=\"data row9 col13\" >0</td>\n",
       "      <td id=\"T_31eae_row9_col14\" class=\"data row9 col14\" >90</td>\n",
       "      <td id=\"T_31eae_row9_col15\" class=\"data row9 col15\" >254</td>\n",
       "      <td id=\"T_31eae_row9_col16\" class=\"data row9 col16\" >254</td>\n",
       "      <td id=\"T_31eae_row9_col17\" class=\"data row9 col17\" >247</td>\n",
       "      <td id=\"T_31eae_row9_col18\" class=\"data row9 col18\" >53</td>\n",
       "      <td id=\"T_31eae_row9_col19\" class=\"data row9 col19\" >0</td>\n",
       "    </tr>\n",
       "  </tbody>\n",
       "</table>\n"
      ],
      "text/plain": [
       "<pandas.io.formats.style.Styler at 0x7f0cf8dce7c0>"
      ]
     },
     "execution_count": 9,
     "metadata": {},
     "output_type": "execute_result"
    }
   ],
   "source": [
    "df.style.set_properties(**{'font-size':'6pt'}).background_gradient('Greys')"
   ]
  },
  {
   "cell_type": "code",
   "execution_count": 10,
   "id": "b9f47915-cac1-4f6a-a313-19250f255948",
   "metadata": {},
   "outputs": [
    {
     "data": {
      "text/plain": [
       "tensor(762.)"
      ]
     },
     "execution_count": 10,
     "metadata": {},
     "output_type": "execute_result"
    }
   ],
   "source": [
    "(im3_t[4:7,6:9]*top_edge).sum()"
   ]
  },
  {
   "cell_type": "code",
   "execution_count": 11,
   "id": "8f65d4c2-0745-45d8-b80a-ac91608c72d4",
   "metadata": {},
   "outputs": [
    {
     "data": {
      "text/plain": [
       "tensor(135.)"
      ]
     },
     "execution_count": 11,
     "metadata": {},
     "output_type": "execute_result"
    }
   ],
   "source": [
    "(im3_t[5:8,6:9]*top_edge).sum()"
   ]
  },
  {
   "cell_type": "code",
   "execution_count": 12,
   "id": "e41d0df0-a4b8-434d-a75c-52cd72a3e298",
   "metadata": {},
   "outputs": [
    {
     "data": {
      "text/plain": [
       "tensor(-29.)"
      ]
     },
     "execution_count": 12,
     "metadata": {},
     "output_type": "execute_result"
    }
   ],
   "source": [
    "(im3_t[7:10,17:20]*top_edge).sum()"
   ]
  },
  {
   "cell_type": "code",
   "execution_count": 13,
   "id": "7a1ecfff-fc79-4de7-a5a3-e44def19e8d3",
   "metadata": {},
   "outputs": [],
   "source": [
    "def apply_kernel(row, col, kernel):\n",
    "    return (im3_t[row-1:row+2,col-1:col+2]*kernel).sum()"
   ]
  },
  {
   "cell_type": "code",
   "execution_count": 14,
   "id": "69983120-55fd-4ced-b940-7ad6157ae0a9",
   "metadata": {},
   "outputs": [
    {
     "data": {
      "text/plain": [
       "tensor(762.)"
      ]
     },
     "execution_count": 14,
     "metadata": {},
     "output_type": "execute_result"
    }
   ],
   "source": [
    "apply_kernel(5,7, top_edge)"
   ]
  },
  {
   "cell_type": "code",
   "execution_count": 15,
   "id": "104273eb-cf1b-4bda-a313-41f3b7c5c1bb",
   "metadata": {},
   "outputs": [
    {
     "data": {
      "text/plain": [
       "[[(1, 1), (1, 2), (1, 3), (1, 4)],\n",
       " [(2, 1), (2, 2), (2, 3), (2, 4)],\n",
       " [(3, 1), (3, 2), (3, 3), (3, 4)],\n",
       " [(4, 1), (4, 2), (4, 3), (4, 4)]]"
      ]
     },
     "execution_count": 15,
     "metadata": {},
     "output_type": "execute_result"
    }
   ],
   "source": [
    "tmp = []\n",
    "for i in range(1,5):\n",
    "    l = [(i,j) for j in range(1,5)]\n",
    "    tmp.append(l)\n",
    "tmp"
   ]
  },
  {
   "cell_type": "code",
   "execution_count": 16,
   "id": "2ddeff52-a079-489f-8e3f-8ac00ec6ab37",
   "metadata": {},
   "outputs": [
    {
     "data": {
      "text/plain": [
       "[[(1, 1), (1, 2), (1, 3), (1, 4)],\n",
       " [(2, 1), (2, 2), (2, 3), (2, 4)],\n",
       " [(3, 1), (3, 2), (3, 3), (3, 4)],\n",
       " [(4, 1), (4, 2), (4, 3), (4, 4)]]"
      ]
     },
     "execution_count": 16,
     "metadata": {},
     "output_type": "execute_result"
    }
   ],
   "source": [
    "[[(i,j) for j in range(1,5)] for i in range(1,5)]"
   ]
  },
  {
   "cell_type": "code",
   "execution_count": 17,
   "id": "4ef13ab7-045b-4fe2-a80e-b8b5aa3b93c0",
   "metadata": {},
   "outputs": [
    {
     "data": {
      "text/plain": [
       "<AxesSubplot:>"
      ]
     },
     "execution_count": 17,
     "metadata": {},
     "output_type": "execute_result"
    },
    {
     "data": {
      "image/png": "[encoded data removed]",
      "text/plain": [
       "<Figure size 72x72 with 1 Axes>"
      ]
     },
     "metadata": {
      "needs_background": "light"
     },
     "output_type": "display_data"
    }
   ],
   "source": [
    "def apply_kernel_(k):\n",
    "    ''''apply specified 'kernel' to all 28*28 dimention'''\n",
    "    return tensor([[apply_kernel(i,j,k) for j in range(1,27)] for i in range(1,27)])\n",
    "\n",
    "show_image(apply_kernel_(top_edge))"
   ]
  },
  {
   "cell_type": "code",
   "execution_count": 18,
   "id": "d74d52d8-57bd-4f9c-9917-ae5ca5f27c53",
   "metadata": {},
   "outputs": [
    {
     "data": {
      "text/plain": [
       "<AxesSubplot:>"
      ]
     },
     "execution_count": 18,
     "metadata": {},
     "output_type": "execute_result"
    },
    {
     "data": {
      "image/png": "[encoded data removed]",
      "text/plain": [
       "<Figure size 72x72 with 1 Axes>"
      ]
     },
     "metadata": {
      "needs_background": "light"
     },
     "output_type": "display_data"
    }
   ],
   "source": [
    "left_edge = tensor([[-1,1,0],\n",
    "                    [-1,1,0],\n",
    "                    [-1,1,0],]).float()\n",
    "show_image(apply_kernel_(left_edge))"
   ]
  },
  {
   "cell_type": "code",
   "execution_count": 19,
   "id": "973e69ca-95ee-43f1-b7f1-ec4079341bd0",
   "metadata": {},
   "outputs": [
    {
     "data": {
      "text/plain": [
       "tensor([[ 0., -1.,  1.],\n",
       "        [-1.,  1.,  0.],\n",
       "        [ 1.,  0.,  0.]])"
      ]
     },
     "execution_count": 19,
     "metadata": {},
     "output_type": "execute_result"
    }
   ],
   "source": [
    "diag1_edge = torch.eye(3).flip(0)\n",
    "diag1_edge[1,0] = -1.\n",
    "diag1_edge[0,1] = -1.\n",
    "diag1_edge"
   ]
  },
  {
   "cell_type": "code",
   "execution_count": 20,
   "id": "e7a56460-203c-4e01-98f8-23b21c274ad4",
   "metadata": {},
   "outputs": [
    {
     "data": {
      "text/plain": [
       "tensor([[ 1., -1.,  0.],\n",
       "        [ 0.,  1., -1.],\n",
       "        [ 0.,  0.,  1.]])"
      ]
     },
     "execution_count": 20,
     "metadata": {},
     "output_type": "execute_result"
    }
   ],
   "source": [
    "diag2_edge = diag1_edge.flip(1);diag2_edge"
   ]
  },
  {
   "cell_type": "code",
   "execution_count": 21,
   "id": "bfb7c6ee-ddf4-41fd-9249-7f5197992f17",
   "metadata": {},
   "outputs": [
    {
     "data": {
      "text/plain": [
       "torch.Size([4, 3, 3])"
      ]
     },
     "execution_count": 21,
     "metadata": {},
     "output_type": "execute_result"
    }
   ],
   "source": [
    "edge_kernels = torch.stack([\n",
    "    left_edge,\n",
    "    top_edge,\n",
    "    diag1_edge,\n",
    "    diag2_edge,\n",
    "])\n",
    "edge_kernels.shape"
   ]
  },
  {
   "cell_type": "code",
   "execution_count": 22,
   "id": "4cacb16b-67a2-4417-b3a2-01d6614f351f",
   "metadata": {},
   "outputs": [
    {
     "data": {
      "text/plain": [
       "(torch.Size([64, 1, 28, 28]), torch.Size([64]))"
      ]
     },
     "execution_count": 22,
     "metadata": {},
     "output_type": "execute_result"
    }
   ],
   "source": [
    "dls = DataBlock(\n",
    "    (ImageBlock(cls=PILImageBW), CategoryBlock),\n",
    "    get_items=get_image_files,\n",
    "    splitter=GrandparentSplitter(),\n",
    "    get_y=parent_label).dataloaders(path)\n",
    "xb, yb = first(dls.valid)\n",
    "xb.shape, yb.shape"
   ]
  },
  {
   "cell_type": "code",
   "execution_count": 23,
   "id": "c80cad06-af0b-446a-937b-af0df9b0e471",
   "metadata": {},
   "outputs": [],
   "source": [
    "xb, yb = to_cpu(xb), to_cpu(yb)"
   ]
  },
  {
   "cell_type": "markdown",
   "id": "a88f8197-7f75-4372-be63-3e85df59e1d3",
   "metadata": {},
   "source": [
    "kernel shpae is\n",
    "$ ({out\\_channels}, \\frac{{in\\_channels}}{{groups}}, kH , kW) $\n",
    ", where ${groups}$ could divide the ${in\\_channels}$ into # of the ${groups}$ to be masked by the # of ${out\\_channels}$ respectively."
   ]
  },
  {
   "cell_type": "code",
   "execution_count": 24,
   "id": "668f99bf-eef2-4024-b018-031f001227b7",
   "metadata": {},
   "outputs": [
    {
     "data": {
      "text/plain": [
       "(torch.Size([4, 3, 3]), torch.Size([4, 1, 3, 3]), torch.Size([4, 1, 3, 3]))"
      ]
     },
     "execution_count": 24,
     "metadata": {},
     "output_type": "execute_result"
    }
   ],
   "source": [
    "edge_kernels.shape,edge_kernels.unsqueeze(1).shape,edge_kernels[:,None,:,:].shape"
   ]
  },
  {
   "cell_type": "code",
   "execution_count": 25,
   "id": "2f0e9272-db28-4aac-93a2-895692600d18",
   "metadata": {},
   "outputs": [
    {
     "data": {
      "text/plain": [
       "torch.Size([64, 4, 26, 26])"
      ]
     },
     "execution_count": 25,
     "metadata": {},
     "output_type": "execute_result"
    }
   ],
   "source": [
    "edge_kernels = edge_kernels.unsqueeze(1)\n",
    "batch_features = F.conv2d(xb, edge_kernels)\n",
    "batch_features.shape"
   ]
  },
  {
   "cell_type": "code",
   "execution_count": 26,
   "id": "ab594d31-af42-44e2-9e17-5c3dc534394c",
   "metadata": {},
   "outputs": [
    {
     "data": {
      "text/plain": [
       "<AxesSubplot:>"
      ]
     },
     "execution_count": 26,
     "metadata": {},
     "output_type": "execute_result"
    },
    {
     "data": {
      "image/png": "[encoded data removed]",
      "text/plain": [
       "<Figure size 72x72 with 1 Axes>"
      ]
     },
     "metadata": {
      "needs_background": "light"
     },
     "output_type": "display_data"
    },
    {
     "data": {
      "image/png": "[encoded data removed]",
      "text/plain": [
       "<Figure size 72x72 with 1 Axes>"
      ]
     },
     "metadata": {
      "needs_background": "light"
     },
     "output_type": "display_data"
    },
    {
     "data": {
      "image/png": "[encoded data removed]",
      "text/plain": [
       "<Figure size 72x72 with 1 Axes>"
      ]
     },
     "metadata": {
      "needs_background": "light"
     },
     "output_type": "display_data"
    },
    {
     "data": {
      "image/png": "[encoded data removed]",
      "text/plain": [
       "<Figure size 72x72 with 1 Axes>"
      ]
     },
     "metadata": {
      "needs_background": "light"
     },
     "output_type": "display_data"
    }
   ],
   "source": [
    "show_image(batch_features[0,0])\n",
    "show_image(batch_features[0,1])\n",
    "show_image(batch_features[1,0])\n",
    "show_image(batch_features[1,1])"
   ]
  },
  {
   "cell_type": "code",
   "execution_count": 27,
   "id": "ed6e311d-58f5-4dfd-a74b-31502524cd9f",
   "metadata": {},
   "outputs": [
    {
     "data": {
      "text/plain": [
       "28"
      ]
     },
     "execution_count": 27,
     "metadata": {},
     "output_type": "execute_result"
    }
   ],
   "source": [
    "def new_len(n, ks, stride): return (n + 2*(ks//2) - ks) // stride + 1 # After Conv2d\n",
    "new_len(28, 3, 1)"
   ]
  },
  {
   "cell_type": "code",
   "execution_count": 28,
   "id": "b7b70df3-cd6c-431d-9e54-85cb3c3c4e60",
   "metadata": {},
   "outputs": [
    {
     "data": {
      "text/plain": [
       "Sequential(\n",
       "  (0): Linear(in_features=784, out_features=30, bias=True)\n",
       "  (1): ReLU()\n",
       "  (2): Linear(in_features=30, out_features=1, bias=True)\n",
       ")"
      ]
     },
     "execution_count": 28,
     "metadata": {},
     "output_type": "execute_result"
    }
   ],
   "source": [
    "simple_net = nn.Sequential(\n",
    "    nn.Linear(28*28, 30),\n",
    "    nn.ReLU(),\n",
    "    nn.Linear(30, 1)\n",
    ")\n",
    "simple_net"
   ]
  },
  {
   "cell_type": "code",
   "execution_count": 29,
   "id": "9b219060-022d-4464-8249-8bc31ac708fa",
   "metadata": {},
   "outputs": [
    {
     "data": {
      "text/plain": [
       "Sequential(\n",
       "  (0): Conv2d(1, 30, kernel_size=(3, 3), stride=(1, 1), padding=(1, 1))\n",
       "  (1): ReLU()\n",
       "  (2): Conv2d(30, 1, kernel_size=(3, 3), stride=(1, 1), padding=(1, 1))\n",
       ")"
      ]
     },
     "execution_count": 29,
     "metadata": {},
     "output_type": "execute_result"
    }
   ],
   "source": [
    "broken_cnn = nn.Sequential(\n",
    "    nn.Conv2d(1, 30, 3, padding=1),\n",
    "    nn.ReLU(),\n",
    "    nn.Conv2d(30, 1, 3, padding=1)\n",
    ")\n",
    "broken_cnn"
   ]
  },
  {
   "cell_type": "code",
   "execution_count": 30,
   "id": "525ead19-0dcb-4fc9-99a3-7274d044357c",
   "metadata": {},
   "outputs": [
    {
     "data": {
      "text/plain": [
       "torch.Size([64, 1, 28, 28])"
      ]
     },
     "execution_count": 30,
     "metadata": {},
     "output_type": "execute_result"
    }
   ],
   "source": [
    "broken_cnn(xb).shape"
   ]
  },
  {
   "cell_type": "code",
   "execution_count": 31,
   "id": "36afd6bc-5e08-44c9-a42f-fabded5781f0",
   "metadata": {},
   "outputs": [],
   "source": [
    "def conv(ni, nf, ks=3, act=True):\n",
    "    res = nn.Conv2d(ni, nf, stride=2, kernel_size=ks, padding=ks//2)\n",
    "    if act: res = nn.Sequential(res, nn.ReLU())\n",
    "    return res"
   ]
  },
  {
   "cell_type": "code",
   "execution_count": 32,
   "id": "99ab9a16-aac8-4f9b-83fb-ea34679a2449",
   "metadata": {},
   "outputs": [
    {
     "data": {
      "text/html": [
       "\n",
       "<style>\n",
       "    /* Turns off some styling */\n",
       "    progress {\n",
       "        /* gets rid of default border in Firefox and Opera. */\n",
       "        border: none;\n",
       "        /* Needs to be in here for Safari polyfill so background images work as expected. */\n",
       "        background-size: auto;\n",
       "    }\n",
       "    .progress-bar-interrupted, .progress-bar-interrupted::-webkit-progress-bar {\n",
       "        background: #F44336;\n",
       "    }\n",
       "</style>\n"
      ],
      "text/plain": [
       "<IPython.core.display.HTML object>"
      ]
     },
     "metadata": {},
     "output_type": "display_data"
    },
    {
     "data": {
      "text/html": [],
      "text/plain": [
       "<IPython.core.display.HTML object>"
      ]
     },
     "metadata": {},
     "output_type": "display_data"
    },
    {
     "data": {
      "text/plain": [
       "Sequential (Input shape: 64 x 1 x 28 x 28)\n",
       "============================================================================\n",
       "Layer (type)         Output Shape         Param #    Trainable \n",
       "============================================================================\n",
       "                     64 x 4 x 14 x 14    \n",
       "Conv2d                                    40         True      \n",
       "ReLU                                                           \n",
       "____________________________________________________________________________\n",
       "                     64 x 8 x 7 x 7      \n",
       "Conv2d                                    296        True      \n",
       "ReLU                                                           \n",
       "____________________________________________________________________________\n",
       "                     64 x 16 x 4 x 4     \n",
       "Conv2d                                    1168       True      \n",
       "ReLU                                                           \n",
       "____________________________________________________________________________\n",
       "                     64 x 32 x 2 x 2     \n",
       "Conv2d                                    4640       True      \n",
       "ReLU                                                           \n",
       "____________________________________________________________________________\n",
       "                     64 x 2 x 1 x 1      \n",
       "Conv2d                                    578        True      \n",
       "____________________________________________________________________________\n",
       "                     64 x 2              \n",
       "Flatten                                                        \n",
       "____________________________________________________________________________\n",
       "\n",
       "Total params: 6,722\n",
       "Total trainable params: 6,722\n",
       "Total non-trainable params: 0\n",
       "\n",
       "Optimizer used: <function Adam at 0x7f0cfb9479d0>\n",
       "Loss function: FlattenedLoss of CrossEntropyLoss()\n",
       "\n",
       "Callbacks:\n",
       "  - TrainEvalCallback\n",
       "  - CastToTensor\n",
       "  - Recorder\n",
       "  - ProgressCallback"
      ]
     },
     "execution_count": 32,
     "metadata": {},
     "output_type": "execute_result"
    }
   ],
   "source": [
    "simple_cnn = nn.Sequential(\n",
    "    conv(1, 4),\n",
    "    conv(4, 8),\n",
    "    conv(8, 16),\n",
    "    conv(16,32),\n",
    "    conv(32, 2, act=False),\n",
    "    Flatten(),\n",
    ")\n",
    "Learner(dls, simple_cnn).summary()"
   ]
  },
  {
   "cell_type": "code",
   "execution_count": 33,
   "id": "00f10506-b726-460f-af99-7c611f67ef3d",
   "metadata": {},
   "outputs": [
    {
     "data": {
      "text/plain": [
       "torch.Size([64, 2])"
      ]
     },
     "execution_count": 33,
     "metadata": {},
     "output_type": "execute_result"
    }
   ],
   "source": [
    "xb, yb = xb.to('cuda'), yb.to('cuda')\n",
    "simple_cnn(xb).shape"
   ]
  },
  {
   "cell_type": "code",
   "execution_count": 34,
   "id": "fbcd10f7-544d-4635-bf90-5ed12e4075d7",
   "metadata": {},
   "outputs": [
    {
     "data": {
      "text/html": [
       "\n",
       "<style>\n",
       "    /* Turns off some styling */\n",
       "    progress {\n",
       "        /* gets rid of default border in Firefox and Opera. */\n",
       "        border: none;\n",
       "        /* Needs to be in here for Safari polyfill so background images work as expected. */\n",
       "        background-size: auto;\n",
       "    }\n",
       "    .progress-bar-interrupted, .progress-bar-interrupted::-webkit-progress-bar {\n",
       "        background: #F44336;\n",
       "    }\n",
       "</style>\n"
      ],
      "text/plain": [
       "<IPython.core.display.HTML object>"
      ]
     },
     "metadata": {},
     "output_type": "display_data"
    },
    {
     "data": {
      "text/html": [],
      "text/plain": [
       "<IPython.core.display.HTML object>"
      ]
     },
     "metadata": {},
     "output_type": "display_data"
    },
    {
     "data": {
      "text/plain": [
       "Sequential (Input shape: 64 x 1 x 28 x 28)\n",
       "============================================================================\n",
       "Layer (type)         Output Shape         Param #    Trainable \n",
       "============================================================================\n",
       "                     64 x 4 x 14 x 14    \n",
       "Conv2d                                    40         True      \n",
       "ReLU                                                           \n",
       "____________________________________________________________________________\n",
       "                     64 x 8 x 7 x 7      \n",
       "Conv2d                                    296        True      \n",
       "ReLU                                                           \n",
       "____________________________________________________________________________\n",
       "                     64 x 16 x 4 x 4     \n",
       "Conv2d                                    1168       True      \n",
       "ReLU                                                           \n",
       "____________________________________________________________________________\n",
       "                     64 x 32 x 2 x 2     \n",
       "Conv2d                                    4640       True      \n",
       "ReLU                                                           \n",
       "____________________________________________________________________________\n",
       "                     64 x 2 x 1 x 1      \n",
       "Conv2d                                    578        True      \n",
       "____________________________________________________________________________\n",
       "                     64 x 2              \n",
       "Flatten                                                        \n",
       "____________________________________________________________________________\n",
       "\n",
       "Total params: 6,722\n",
       "Total trainable params: 6,722\n",
       "Total non-trainable params: 0\n",
       "\n",
       "Optimizer used: <function Adam at 0x7f0cfb9479d0>\n",
       "Loss function: <function cross_entropy at 0x7f0d882f1670>\n",
       "\n",
       "Callbacks:\n",
       "  - TrainEvalCallback\n",
       "  - CastToTensor\n",
       "  - Recorder\n",
       "  - ProgressCallback"
      ]
     },
     "execution_count": 34,
     "metadata": {},
     "output_type": "execute_result"
    }
   ],
   "source": [
    "learn = Learner(dls, simple_cnn, loss_func=F.cross_entropy, metrics=accuracy)\n",
    "learn.summary()"
   ]
  },
  {
   "cell_type": "code",
   "execution_count": 35,
   "id": "20a6ebe6-a7e9-49c7-9995-26809268f326",
   "metadata": {},
   "outputs": [
    {
     "data": {
      "text/html": [
       "\n",
       "<style>\n",
       "    /* Turns off some styling */\n",
       "    progress {\n",
       "        /* gets rid of default border in Firefox and Opera. */\n",
       "        border: none;\n",
       "        /* Needs to be in here for Safari polyfill so background images work as expected. */\n",
       "        background-size: auto;\n",
       "    }\n",
       "    .progress-bar-interrupted, .progress-bar-interrupted::-webkit-progress-bar {\n",
       "        background: #F44336;\n",
       "    }\n",
       "</style>\n"
      ],
      "text/plain": [
       "<IPython.core.display.HTML object>"
      ]
     },
     "metadata": {},
     "output_type": "display_data"
    },
    {
     "data": {
      "text/html": [
       "<table border=\"1\" class=\"dataframe\">\n",
       "  <thead>\n",
       "    <tr style=\"text-align: left;\">\n",
       "      <th>epoch</th>\n",
       "      <th>train_loss</th>\n",
       "      <th>valid_loss</th>\n",
       "      <th>accuracy</th>\n",
       "      <th>time</th>\n",
       "    </tr>\n",
       "  </thead>\n",
       "  <tbody>\n",
       "    <tr>\n",
       "      <td>0</td>\n",
       "      <td>0.071222</td>\n",
       "      <td>0.050959</td>\n",
       "      <td>0.980373</td>\n",
       "      <td>00:07</td>\n",
       "    </tr>\n",
       "    <tr>\n",
       "      <td>1</td>\n",
       "      <td>0.024415</td>\n",
       "      <td>0.025981</td>\n",
       "      <td>0.991168</td>\n",
       "      <td>00:04</td>\n",
       "    </tr>\n",
       "  </tbody>\n",
       "</table>"
      ],
      "text/plain": [
       "<IPython.core.display.HTML object>"
      ]
     },
     "metadata": {},
     "output_type": "display_data"
    }
   ],
   "source": [
    "learn.fit_one_cycle(2, 0.01)"
   ]
  },
  {
   "cell_type": "code",
   "execution_count": 36,
   "id": "7b0a6be5-a9af-47f0-93e3-8878cf920854",
   "metadata": {},
   "outputs": [
    {
     "data": {
      "text/plain": [
       "Sequential(\n",
       "  (0): Conv2d(1, 4, kernel_size=(3, 3), stride=(2, 2), padding=(1, 1))\n",
       "  (1): ReLU()\n",
       ")"
      ]
     },
     "execution_count": 36,
     "metadata": {},
     "output_type": "execute_result"
    }
   ],
   "source": [
    "m = learn.model[0]\n",
    "m"
   ]
  },
  {
   "cell_type": "code",
   "execution_count": 37,
   "id": "9e823d9c-6ea2-4f1b-9166-9b6985bd93a6",
   "metadata": {},
   "outputs": [
    {
     "data": {
      "text/plain": [
       "(torch.Size([4, 1, 3, 3]), torch.Size([4]))"
      ]
     },
     "execution_count": 37,
     "metadata": {},
     "output_type": "execute_result"
    }
   ],
   "source": [
    "m[0].weight.shape, m[0].bias.shape, "
   ]
  },
  {
   "cell_type": "code",
   "execution_count": 38,
   "id": "90a95f94-3a29-4655-91e8-19bc4de48bfe",
   "metadata": {},
   "outputs": [
    {
     "data": {
      "text/plain": [
       "(#2) [Path('/root/.fastai/data/mnist_png/training'),Path('/root/.fastai/data/mnist_png/testing')]"
      ]
     },
     "execution_count": 38,
     "metadata": {},
     "output_type": "execute_result"
    }
   ],
   "source": [
    "path = untar_data(URLs.MNIST)\n",
    "path.ls()"
   ]
  },
  {
   "cell_type": "code",
   "execution_count": 39,
   "id": "74b78dbf-80ab-4c0c-8e55-caf8399244a8",
   "metadata": {},
   "outputs": [
    {
     "data": {
      "image/png": "[encoded data removed]",
      "text/plain": [
       "<Figure size 288x288 with 9 Axes>"
      ]
     },
     "metadata": {
      "needs_background": "light"
     },
     "output_type": "display_data"
    }
   ],
   "source": [
    "def get_dls(bs=64):\n",
    "    return DataBlock(\n",
    "        blocks=(ImageBlock(cls=PILImageBW), CategoryBlock),\n",
    "        get_items=get_image_files,\n",
    "        splitter=GrandparentSplitter('training', 'testing'),\n",
    "        get_y=parent_label,\n",
    "        batch_tfms=Normalize(),\n",
    "    ).dataloaders(path, bs=bs)\n",
    "dls = get_dls()\n",
    "dls.show_batch(figsize=(4,4))"
   ]
  },
  {
   "cell_type": "code",
   "execution_count": 40,
   "id": "374c3f8d-e0be-4cda-a69c-63467a39ca31",
   "metadata": {},
   "outputs": [
    {
     "data": {
      "text/html": [
       "\n",
       "<style>\n",
       "    /* Turns off some styling */\n",
       "    progress {\n",
       "        /* gets rid of default border in Firefox and Opera. */\n",
       "        border: none;\n",
       "        /* Needs to be in here for Safari polyfill so background images work as expected. */\n",
       "        background-size: auto;\n",
       "    }\n",
       "    .progress-bar-interrupted, .progress-bar-interrupted::-webkit-progress-bar {\n",
       "        background: #F44336;\n",
       "    }\n",
       "</style>\n"
      ],
      "text/plain": [
       "<IPython.core.display.HTML object>"
      ]
     },
     "metadata": {},
     "output_type": "display_data"
    },
    {
     "data": {
      "text/html": [],
      "text/plain": [
       "<IPython.core.display.HTML object>"
      ]
     },
     "metadata": {},
     "output_type": "display_data"
    },
    {
     "data": {
      "text/plain": [
       "Sequential (Input shape: 64 x 1 x 28 x 28)\n",
       "============================================================================\n",
       "Layer (type)         Output Shape         Param #    Trainable \n",
       "============================================================================\n",
       "                     64 x 8 x 14 x 14    \n",
       "Conv2d                                    208        True      \n",
       "ReLU                                                           \n",
       "____________________________________________________________________________\n",
       "                     64 x 16 x 7 x 7     \n",
       "Conv2d                                    1168       True      \n",
       "ReLU                                                           \n",
       "____________________________________________________________________________\n",
       "                     64 x 32 x 4 x 4     \n",
       "Conv2d                                    4640       True      \n",
       "ReLU                                                           \n",
       "____________________________________________________________________________\n",
       "                     64 x 64 x 2 x 2     \n",
       "Conv2d                                    18496      True      \n",
       "ReLU                                                           \n",
       "____________________________________________________________________________\n",
       "                     64 x 10 x 1 x 1     \n",
       "Conv2d                                    5770       True      \n",
       "____________________________________________________________________________\n",
       "                     64 x 10             \n",
       "Flatten                                                        \n",
       "____________________________________________________________________________\n",
       "\n",
       "Total params: 30,282\n",
       "Total trainable params: 30,282\n",
       "Total non-trainable params: 0\n",
       "\n",
       "Optimizer used: <function Adam at 0x7f0cfb9479d0>\n",
       "Loss function: FlattenedLoss of CrossEntropyLoss()\n",
       "\n",
       "Callbacks:\n",
       "  - TrainEvalCallback\n",
       "  - CastToTensor\n",
       "  - Recorder\n",
       "  - ProgressCallback"
      ]
     },
     "execution_count": 40,
     "metadata": {},
     "output_type": "execute_result"
    }
   ],
   "source": [
    "def simple_cnn():\n",
    "    return nn.Sequential(\n",
    "        conv(1, 8, ks=5),\n",
    "        conv(8, 16),\n",
    "        conv(16,32),\n",
    "        conv(32,64),\n",
    "        conv(64, 10, act=False),\n",
    "        Flatten(),\n",
    "    )\n",
    "Learner(dls, simple_cnn()).summary()"
   ]
  },
  {
   "cell_type": "code",
   "execution_count": 41,
   "id": "f94a578a-90ce-48d6-843f-82668a8c89e9",
   "metadata": {},
   "outputs": [
    {
     "name": "stderr",
     "output_type": "stream",
     "text": [
      "/root/mambaforge/lib/python3.9/site-packages/fastai/callback/core.py:72: UserWarning: You are shadowing an attribute (modules) that exists in the learner. Use `self.learn.modules` to avoid this\n",
      "  warn(f\"You are shadowing an attribute ({name}) that exists in the learner. Use `self.learn.{name}` to avoid this\")\n"
     ]
    },
    {
     "data": {
      "text/html": [
       "\n",
       "<style>\n",
       "    /* Turns off some styling */\n",
       "    progress {\n",
       "        /* gets rid of default border in Firefox and Opera. */\n",
       "        border: none;\n",
       "        /* Needs to be in here for Safari polyfill so background images work as expected. */\n",
       "        background-size: auto;\n",
       "    }\n",
       "    .progress-bar-interrupted, .progress-bar-interrupted::-webkit-progress-bar {\n",
       "        background: #F44336;\n",
       "    }\n",
       "</style>\n"
      ],
      "text/plain": [
       "<IPython.core.display.HTML object>"
      ]
     },
     "metadata": {},
     "output_type": "display_data"
    },
    {
     "data": {
      "text/html": [
       "<table border=\"1\" class=\"dataframe\">\n",
       "  <thead>\n",
       "    <tr style=\"text-align: left;\">\n",
       "      <th>epoch</th>\n",
       "      <th>train_loss</th>\n",
       "      <th>valid_loss</th>\n",
       "      <th>accuracy</th>\n",
       "      <th>time</th>\n",
       "    </tr>\n",
       "  </thead>\n",
       "  <tbody>\n",
       "    <tr>\n",
       "      <td>0</td>\n",
       "      <td>2.308644</td>\n",
       "      <td>2.303676</td>\n",
       "      <td>0.113500</td>\n",
       "      <td>00:59</td>\n",
       "    </tr>\n",
       "  </tbody>\n",
       "</table>"
      ],
      "text/plain": [
       "<IPython.core.display.HTML object>"
      ]
     },
     "metadata": {},
     "output_type": "display_data"
    }
   ],
   "source": [
    "from fastai.callback.hook import *\n",
    "\n",
    "def fit(epochs=1):\n",
    "    learn = Learner(dls, simple_cnn(), loss_func=F.cross_entropy,\n",
    "                    metrics=accuracy, cbs=ActivationStats(with_hist=True))\n",
    "    learn.fit(epochs, 0.06)\n",
    "    return learn\n",
    "\n",
    "learn = fit()"
   ]
  },
  {
   "cell_type": "code",
   "execution_count": 42,
   "id": "d4f0c775-2543-47a9-82e0-b1502fb58f7d",
   "metadata": {},
   "outputs": [
    {
     "data": {
      "image/png": "[encoded data removed]",
      "text/plain": [
       "<Figure size 864x216 with 3 Axes>"
      ]
     },
     "metadata": {
      "needs_background": "light"
     },
     "output_type": "display_data"
    }
   ],
   "source": [
    "learn.activation_stats.plot_layer_stats(0)"
   ]
  },
  {
   "cell_type": "code",
   "execution_count": 45,
   "id": "5f921854-01b4-41b2-932b-fff8eef41a3c",
   "metadata": {},
   "outputs": [
    {
     "data": {
      "image/png": "[encoded data removed]",
      "text/plain": [
       "<Figure size 864x216 with 3 Axes>"
      ]
     },
     "metadata": {
      "needs_background": "light"
     },
     "output_type": "display_data"
    }
   ],
   "source": [
    "learn.activation_stats.plot_layer_stats(-2)"
   ]
  },
  {
   "cell_type": "code",
   "execution_count": 46,
   "id": "ed26f717-1745-4d1e-a2e2-608d2ccf2802",
   "metadata": {},
   "outputs": [
    {
     "data": {
      "text/html": [
       "\n",
       "<style>\n",
       "    /* Turns off some styling */\n",
       "    progress {\n",
       "        /* gets rid of default border in Firefox and Opera. */\n",
       "        border: none;\n",
       "        /* Needs to be in here for Safari polyfill so background images work as expected. */\n",
       "        background-size: auto;\n",
       "    }\n",
       "    .progress-bar-interrupted, .progress-bar-interrupted::-webkit-progress-bar {\n",
       "        background: #F44336;\n",
       "    }\n",
       "</style>\n"
      ],
      "text/plain": [
       "<IPython.core.display.HTML object>"
      ]
     },
     "metadata": {},
     "output_type": "display_data"
    },
    {
     "data": {
      "text/html": [
       "<table border=\"1\" class=\"dataframe\">\n",
       "  <thead>\n",
       "    <tr style=\"text-align: left;\">\n",
       "      <th>epoch</th>\n",
       "      <th>train_loss</th>\n",
       "      <th>valid_loss</th>\n",
       "      <th>accuracy</th>\n",
       "      <th>time</th>\n",
       "    </tr>\n",
       "  </thead>\n",
       "  <tbody>\n",
       "    <tr>\n",
       "      <td>0</td>\n",
       "      <td>0.378445</td>\n",
       "      <td>0.206369</td>\n",
       "      <td>0.935300</td>\n",
       "      <td>01:11</td>\n",
       "    </tr>\n",
       "  </tbody>\n",
       "</table>"
      ],
      "text/plain": [
       "<IPython.core.display.HTML object>"
      ]
     },
     "metadata": {},
     "output_type": "display_data"
    }
   ],
   "source": [
    "dls = get_dls(512)\n",
    "learn = fit()"
   ]
  },
  {
   "cell_type": "code",
   "execution_count": 47,
   "id": "c3ea33d7-5a2f-4928-8964-9119bf79befe",
   "metadata": {},
   "outputs": [
    {
     "data": {
      "image/png": "[encoded data removed]",
      "text/plain": [
       "<Figure size 864x216 with 3 Axes>"
      ]
     },
     "metadata": {
      "needs_background": "light"
     },
     "output_type": "display_data"
    }
   ],
   "source": [
    "learn.activation_stats.plot_layer_stats(-2)"
   ]
  },
  {
   "cell_type": "code",
   "execution_count": 48,
   "id": "954b6620-3613-4220-8207-70f09b0be860",
   "metadata": {},
   "outputs": [
    {
     "data": {
      "text/html": [
       "\n",
       "<style>\n",
       "    /* Turns off some styling */\n",
       "    progress {\n",
       "        /* gets rid of default border in Firefox and Opera. */\n",
       "        border: none;\n",
       "        /* Needs to be in here for Safari polyfill so background images work as expected. */\n",
       "        background-size: auto;\n",
       "    }\n",
       "    .progress-bar-interrupted, .progress-bar-interrupted::-webkit-progress-bar {\n",
       "        background: #F44336;\n",
       "    }\n",
       "</style>\n"
      ],
      "text/plain": [
       "<IPython.core.display.HTML object>"
      ]
     },
     "metadata": {},
     "output_type": "display_data"
    },
    {
     "data": {
      "text/html": [
       "<table border=\"1\" class=\"dataframe\">\n",
       "  <thead>\n",
       "    <tr style=\"text-align: left;\">\n",
       "      <th>epoch</th>\n",
       "      <th>train_loss</th>\n",
       "      <th>valid_loss</th>\n",
       "      <th>accuracy</th>\n",
       "      <th>time</th>\n",
       "    </tr>\n",
       "  </thead>\n",
       "  <tbody>\n",
       "    <tr>\n",
       "      <td>0</td>\n",
       "      <td>0.221753</td>\n",
       "      <td>0.077879</td>\n",
       "      <td>0.976000</td>\n",
       "      <td>00:55</td>\n",
       "    </tr>\n",
       "  </tbody>\n",
       "</table>"
      ],
      "text/plain": [
       "<IPython.core.display.HTML object>"
      ]
     },
     "metadata": {},
     "output_type": "display_data"
    }
   ],
   "source": [
    "from fastai.callback.hook import *\n",
    "\n",
    "def fit(epochs=1):\n",
    "    learn = Learner(dls, simple_cnn(), loss_func=F.cross_entropy,\n",
    "                    metrics=accuracy, cbs=ActivationStats(with_hist=True))\n",
    "    learn.fit_one_cycle(epochs, 0.06)\n",
    "    return learn\n",
    "\n",
    "learn = fit()"
   ]
  },
  {
   "cell_type": "code",
   "execution_count": 49,
   "id": "9ea2b0ae-fdd9-4b46-95f8-156e15faf5b4",
   "metadata": {},
   "outputs": [
    {
     "data": {
      "image/png": "[encoded data removed]",
      "text/plain": [
       "<Figure size 864x288 with 2 Axes>"
      ]
     },
     "metadata": {
      "needs_background": "light"
     },
     "output_type": "display_data"
    }
   ],
   "source": [
    "learn.recorderr.plot_sched()"
   ]
  },
  {
   "cell_type": "code",
   "execution_count": 50,
   "id": "0882bc5b-9354-41a3-ae19-6761f026429a",
   "metadata": {},
   "outputs": [
    {
     "data": {
      "image/png": "[encoded data removed]",
      "text/plain": [
       "<Figure size 864x216 with 3 Axes>"
      ]
     },
     "metadata": {
      "needs_background": "light"
     },
     "output_type": "display_data"
    }
   ],
   "source": [
    "learn.activation_stats.plot_layer_stats(-2)"
   ]
  },
  {
   "cell_type": "code",
   "execution_count": 51,
   "id": "5e725938-f236-427c-a4f5-8fcebaceb6db",
   "metadata": {},
   "outputs": [
    {
     "data": {
      "image/png": "[encoded data removed]",
      "text/plain": [
       "<Figure size 720x360 with 1 Axes>"
      ]
     },
     "metadata": {
      "needs_background": "light"
     },
     "output_type": "display_data"
    }
   ],
   "source": [
    "learn.activation_stats.color_dim(-2)"
   ]
  },
  {
   "cell_type": "code",
   "execution_count": 53,
   "id": "d6fdc918-0280-4b2e-ad18-5087efee3732",
   "metadata": {},
   "outputs": [
    {
     "name": "stderr",
     "output_type": "stream",
     "text": [
      "/root/mambaforge/lib/python3.9/site-packages/fastai/callback/core.py:72: UserWarning: You are shadowing an attribute (modules) that exists in the learner. Use `self.learn.modules` to avoid this\n",
      "  warn(f\"You are shadowing an attribute ({name}) that exists in the learner. Use `self.learn.{name}` to avoid this\")\n"
     ]
    },
    {
     "data": {
      "text/html": [
       "\n",
       "<style>\n",
       "    /* Turns off some styling */\n",
       "    progress {\n",
       "        /* gets rid of default border in Firefox and Opera. */\n",
       "        border: none;\n",
       "        /* Needs to be in here for Safari polyfill so background images work as expected. */\n",
       "        background-size: auto;\n",
       "    }\n",
       "    .progress-bar-interrupted, .progress-bar-interrupted::-webkit-progress-bar {\n",
       "        background: #F44336;\n",
       "    }\n",
       "</style>\n"
      ],
      "text/plain": [
       "<IPython.core.display.HTML object>"
      ]
     },
     "metadata": {},
     "output_type": "display_data"
    },
    {
     "data": {
      "text/html": [
       "<table border=\"1\" class=\"dataframe\">\n",
       "  <thead>\n",
       "    <tr style=\"text-align: left;\">\n",
       "      <th>epoch</th>\n",
       "      <th>train_loss</th>\n",
       "      <th>valid_loss</th>\n",
       "      <th>accuracy</th>\n",
       "      <th>time</th>\n",
       "    </tr>\n",
       "  </thead>\n",
       "  <tbody>\n",
       "    <tr>\n",
       "      <td>0</td>\n",
       "      <td>0.133346</td>\n",
       "      <td>0.056620</td>\n",
       "      <td>0.985500</td>\n",
       "      <td>00:53</td>\n",
       "    </tr>\n",
       "  </tbody>\n",
       "</table>"
      ],
      "text/plain": [
       "<IPython.core.display.HTML object>"
      ]
     },
     "metadata": {},
     "output_type": "display_data"
    }
   ],
   "source": [
    "def conv(ni, nf, ks=3, act=True):\n",
    "    res = nn.Conv2d(ni, nf, stride=2, kernel_size=ks, padding=ks//2)\n",
    "    res = nn.Sequential(res, nn.BatchNorm2d(nf))\n",
    "    if act: res = nn.Sequential(res, nn.ReLU())\n",
    "    return res\n",
    "\n",
    "learn = fit()"
   ]
  },
  {
   "cell_type": "code",
   "execution_count": 54,
   "id": "4468c57b-4756-4bf5-8cff-61dd91189d6b",
   "metadata": {},
   "outputs": [
    {
     "data": {
      "image/png": "[encoded data removed]",
      "text/plain": [
       "<Figure size 720x360 with 1 Axes>"
      ]
     },
     "metadata": {
      "needs_background": "light"
     },
     "output_type": "display_data"
    }
   ],
   "source": [
    "learn.activation_stats.color_dim(-2)"
   ]
  },
  {
   "cell_type": "code",
   "execution_count": 56,
   "id": "7ab5eff2-0a54-477b-aed2-0c510cff6263",
   "metadata": {},
   "outputs": [
    {
     "data": {
      "text/html": [
       "\n",
       "<style>\n",
       "    /* Turns off some styling */\n",
       "    progress {\n",
       "        /* gets rid of default border in Firefox and Opera. */\n",
       "        border: none;\n",
       "        /* Needs to be in here for Safari polyfill so background images work as expected. */\n",
       "        background-size: auto;\n",
       "    }\n",
       "    .progress-bar-interrupted, .progress-bar-interrupted::-webkit-progress-bar {\n",
       "        background: #F44336;\n",
       "    }\n",
       "</style>\n"
      ],
      "text/plain": [
       "<IPython.core.display.HTML object>"
      ]
     },
     "metadata": {},
     "output_type": "display_data"
    },
    {
     "data": {
      "text/html": [
       "<table border=\"1\" class=\"dataframe\">\n",
       "  <thead>\n",
       "    <tr style=\"text-align: left;\">\n",
       "      <th>epoch</th>\n",
       "      <th>train_loss</th>\n",
       "      <th>valid_loss</th>\n",
       "      <th>accuracy</th>\n",
       "      <th>time</th>\n",
       "    </tr>\n",
       "  </thead>\n",
       "  <tbody>\n",
       "    <tr>\n",
       "      <td>0</td>\n",
       "      <td>0.212073</td>\n",
       "      <td>0.116812</td>\n",
       "      <td>0.964700</td>\n",
       "      <td>01:09</td>\n",
       "    </tr>\n",
       "    <tr>\n",
       "      <td>1</td>\n",
       "      <td>0.082356</td>\n",
       "      <td>0.093984</td>\n",
       "      <td>0.970900</td>\n",
       "      <td>01:00</td>\n",
       "    </tr>\n",
       "    <tr>\n",
       "      <td>2</td>\n",
       "      <td>0.048300</td>\n",
       "      <td>0.032620</td>\n",
       "      <td>0.989900</td>\n",
       "      <td>00:53</td>\n",
       "    </tr>\n",
       "    <tr>\n",
       "      <td>3</td>\n",
       "      <td>0.029639</td>\n",
       "      <td>0.034675</td>\n",
       "      <td>0.989700</td>\n",
       "      <td>00:55</td>\n",
       "    </tr>\n",
       "    <tr>\n",
       "      <td>4</td>\n",
       "      <td>0.016229</td>\n",
       "      <td>0.021613</td>\n",
       "      <td>0.992700</td>\n",
       "      <td>00:50</td>\n",
       "    </tr>\n",
       "  </tbody>\n",
       "</table>"
      ],
      "text/plain": [
       "<IPython.core.display.HTML object>"
      ]
     },
     "metadata": {},
     "output_type": "display_data"
    },
    {
     "data": {
      "text/html": [
       "\n",
       "<style>\n",
       "    /* Turns off some styling */\n",
       "    progress {\n",
       "        /* gets rid of default border in Firefox and Opera. */\n",
       "        border: none;\n",
       "        /* Needs to be in here for Safari polyfill so background images work as expected. */\n",
       "        background-size: auto;\n",
       "    }\n",
       "    .progress-bar-interrupted, .progress-bar-interrupted::-webkit-progress-bar {\n",
       "        background: #F44336;\n",
       "    }\n",
       "</style>\n"
      ],
      "text/plain": [
       "<IPython.core.display.HTML object>"
      ]
     },
     "metadata": {},
     "output_type": "display_data"
    },
    {
     "data": {
      "text/html": [
       "\n",
       "    <div>\n",
       "      <progress value='3' class='' max='5' style='width:300px; height:20px; vertical-align: middle;'></progress>\n",
       "      60.00% [3/5 02:49<01:53]\n",
       "    </div>\n",
       "    \n",
       "<table border=\"1\" class=\"dataframe\">\n",
       "  <thead>\n",
       "    <tr style=\"text-align: left;\">\n",
       "      <th>epoch</th>\n",
       "      <th>train_loss</th>\n",
       "      <th>valid_loss</th>\n",
       "      <th>accuracy</th>\n",
       "      <th>time</th>\n",
       "    </tr>\n",
       "  </thead>\n",
       "  <tbody>\n",
       "    <tr>\n",
       "      <td>0</td>\n",
       "      <td>0.221145</td>\n",
       "      <td>0.103979</td>\n",
       "      <td>0.969600</td>\n",
       "      <td>00:53</td>\n",
       "    </tr>\n",
       "    <tr>\n",
       "      <td>1</td>\n",
       "      <td>0.083494</td>\n",
       "      <td>0.053522</td>\n",
       "      <td>0.983800</td>\n",
       "      <td>00:51</td>\n",
       "    </tr>\n",
       "    <tr>\n",
       "      <td>2</td>\n",
       "      <td>0.052213</td>\n",
       "      <td>0.045990</td>\n",
       "      <td>0.986000</td>\n",
       "      <td>01:04</td>\n",
       "    </tr>\n",
       "  </tbody>\n",
       "</table><p>\n",
       "\n",
       "    <div>\n",
       "      <progress value='10' class='' max='117' style='width:300px; height:20px; vertical-align: middle;'></progress>\n",
       "      8.55% [10/117 00:04<00:45 0.0488]\n",
       "    </div>\n",
       "    "
      ],
      "text/plain": [
       "<IPython.core.display.HTML object>"
      ]
     },
     "metadata": {},
     "output_type": "display_data"
    },
    {
     "ename": "KeyboardInterrupt",
     "evalue": "",
     "output_type": "error",
     "traceback": [
      "\u001b[0;31m---------------------------------------------------------------------------\u001b[0m",
      "\u001b[0;31mKeyboardInterrupt\u001b[0m                         Traceback (most recent call last)",
      "Input \u001b[0;32mIn [56]\u001b[0m, in \u001b[0;36m<cell line: 8>\u001b[0;34m()\u001b[0m\n\u001b[1;32m      5\u001b[0m     \u001b[38;5;28;01mreturn\u001b[39;00m learn\n\u001b[1;32m      7\u001b[0m learn \u001b[38;5;241m=\u001b[39m fit(\u001b[38;5;241m5\u001b[39m, lr\u001b[38;5;241m=\u001b[39m\u001b[38;5;241m0.1\u001b[39m)\n\u001b[0;32m----> 8\u001b[0m learn \u001b[38;5;241m=\u001b[39m \u001b[43mfit\u001b[49m\u001b[43m(\u001b[49m\u001b[38;5;241;43m5\u001b[39;49m\u001b[43m,\u001b[49m\u001b[43m \u001b[49m\u001b[43mlr\u001b[49m\u001b[38;5;241;43m=\u001b[39;49m\u001b[38;5;241;43m0.1\u001b[39;49m\u001b[43m)\u001b[49m\n",
      "Input \u001b[0;32mIn [56]\u001b[0m, in \u001b[0;36mfit\u001b[0;34m(epochs, lr)\u001b[0m\n\u001b[1;32m      1\u001b[0m \u001b[38;5;28;01mdef\u001b[39;00m \u001b[38;5;21mfit\u001b[39m(epochs\u001b[38;5;241m=\u001b[39m\u001b[38;5;241m1\u001b[39m, lr\u001b[38;5;241m=\u001b[39m\u001b[38;5;241m0.06\u001b[39m):\n\u001b[1;32m      2\u001b[0m     learn \u001b[38;5;241m=\u001b[39m Learner(dls, simple_cnn(), loss_func\u001b[38;5;241m=\u001b[39mF\u001b[38;5;241m.\u001b[39mcross_entropy,\n\u001b[1;32m      3\u001b[0m                     metrics\u001b[38;5;241m=\u001b[39maccuracy, cbs\u001b[38;5;241m=\u001b[39mActivationStats(with_hist\u001b[38;5;241m=\u001b[39m\u001b[38;5;28;01mTrue\u001b[39;00m))\n\u001b[0;32m----> 4\u001b[0m     \u001b[43mlearn\u001b[49m\u001b[38;5;241;43m.\u001b[39;49m\u001b[43mfit_one_cycle\u001b[49m\u001b[43m(\u001b[49m\u001b[43mepochs\u001b[49m\u001b[43m,\u001b[49m\u001b[43m \u001b[49m\u001b[38;5;241;43m0.06\u001b[39;49m\u001b[43m)\u001b[49m\n\u001b[1;32m      5\u001b[0m     \u001b[38;5;28;01mreturn\u001b[39;00m learn\n",
      "File \u001b[0;32m~/mambaforge/lib/python3.9/site-packages/fastai/callback/schedule.py:122\u001b[0m, in \u001b[0;36mfit_one_cycle\u001b[0;34m(self, n_epoch, lr_max, div, div_final, pct_start, wd, moms, cbs, reset_opt, start_epoch)\u001b[0m\n\u001b[1;32m    119\u001b[0m lr_max \u001b[38;5;241m=\u001b[39m np\u001b[38;5;241m.\u001b[39marray([h[\u001b[38;5;124m'\u001b[39m\u001b[38;5;124mlr\u001b[39m\u001b[38;5;124m'\u001b[39m] \u001b[38;5;28;01mfor\u001b[39;00m h \u001b[38;5;129;01min\u001b[39;00m \u001b[38;5;28mself\u001b[39m\u001b[38;5;241m.\u001b[39mopt\u001b[38;5;241m.\u001b[39mhypers])\n\u001b[1;32m    120\u001b[0m scheds \u001b[38;5;241m=\u001b[39m {\u001b[38;5;124m'\u001b[39m\u001b[38;5;124mlr\u001b[39m\u001b[38;5;124m'\u001b[39m: combined_cos(pct_start, lr_max\u001b[38;5;241m/\u001b[39mdiv, lr_max, lr_max\u001b[38;5;241m/\u001b[39mdiv_final),\n\u001b[1;32m    121\u001b[0m           \u001b[38;5;124m'\u001b[39m\u001b[38;5;124mmom\u001b[39m\u001b[38;5;124m'\u001b[39m: combined_cos(pct_start, \u001b[38;5;241m*\u001b[39m(\u001b[38;5;28mself\u001b[39m\u001b[38;5;241m.\u001b[39mmoms \u001b[38;5;28;01mif\u001b[39;00m moms \u001b[38;5;129;01mis\u001b[39;00m \u001b[38;5;28;01mNone\u001b[39;00m \u001b[38;5;28;01melse\u001b[39;00m moms))}\n\u001b[0;32m--> 122\u001b[0m \u001b[38;5;28;43mself\u001b[39;49m\u001b[38;5;241;43m.\u001b[39;49m\u001b[43mfit\u001b[49m\u001b[43m(\u001b[49m\u001b[43mn_epoch\u001b[49m\u001b[43m,\u001b[49m\u001b[43m \u001b[49m\u001b[43mcbs\u001b[49m\u001b[38;5;241;43m=\u001b[39;49m\u001b[43mParamScheduler\u001b[49m\u001b[43m(\u001b[49m\u001b[43mscheds\u001b[49m\u001b[43m)\u001b[49m\u001b[38;5;241;43m+\u001b[39;49m\u001b[43mL\u001b[49m\u001b[43m(\u001b[49m\u001b[43mcbs\u001b[49m\u001b[43m)\u001b[49m\u001b[43m,\u001b[49m\u001b[43m \u001b[49m\u001b[43mreset_opt\u001b[49m\u001b[38;5;241;43m=\u001b[39;49m\u001b[43mreset_opt\u001b[49m\u001b[43m,\u001b[49m\u001b[43m \u001b[49m\u001b[43mwd\u001b[49m\u001b[38;5;241;43m=\u001b[39;49m\u001b[43mwd\u001b[49m\u001b[43m,\u001b[49m\u001b[43m \u001b[49m\u001b[43mstart_epoch\u001b[49m\u001b[38;5;241;43m=\u001b[39;49m\u001b[43mstart_epoch\u001b[49m\u001b[43m)\u001b[49m\n",
      "File \u001b[0;32m~/mambaforge/lib/python3.9/site-packages/fastai/learner.py:241\u001b[0m, in \u001b[0;36mLearner.fit\u001b[0;34m(self, n_epoch, lr, wd, cbs, reset_opt, start_epoch)\u001b[0m\n\u001b[1;32m    239\u001b[0m \u001b[38;5;28mself\u001b[39m\u001b[38;5;241m.\u001b[39mopt\u001b[38;5;241m.\u001b[39mset_hypers(lr\u001b[38;5;241m=\u001b[39m\u001b[38;5;28mself\u001b[39m\u001b[38;5;241m.\u001b[39mlr \u001b[38;5;28;01mif\u001b[39;00m lr \u001b[38;5;129;01mis\u001b[39;00m \u001b[38;5;28;01mNone\u001b[39;00m \u001b[38;5;28;01melse\u001b[39;00m lr)\n\u001b[1;32m    240\u001b[0m \u001b[38;5;28mself\u001b[39m\u001b[38;5;241m.\u001b[39mn_epoch \u001b[38;5;241m=\u001b[39m n_epoch\n\u001b[0;32m--> 241\u001b[0m \u001b[38;5;28;43mself\u001b[39;49m\u001b[38;5;241;43m.\u001b[39;49m\u001b[43m_with_events\u001b[49m\u001b[43m(\u001b[49m\u001b[38;5;28;43mself\u001b[39;49m\u001b[38;5;241;43m.\u001b[39;49m\u001b[43m_do_fit\u001b[49m\u001b[43m,\u001b[49m\u001b[43m \u001b[49m\u001b[38;5;124;43m'\u001b[39;49m\u001b[38;5;124;43mfit\u001b[39;49m\u001b[38;5;124;43m'\u001b[39;49m\u001b[43m,\u001b[49m\u001b[43m \u001b[49m\u001b[43mCancelFitException\u001b[49m\u001b[43m,\u001b[49m\u001b[43m \u001b[49m\u001b[38;5;28;43mself\u001b[39;49m\u001b[38;5;241;43m.\u001b[39;49m\u001b[43m_end_cleanup\u001b[49m\u001b[43m)\u001b[49m\n",
      "File \u001b[0;32m~/mambaforge/lib/python3.9/site-packages/fastai/learner.py:179\u001b[0m, in \u001b[0;36mLearner._with_events\u001b[0;34m(self, f, event_type, ex, final)\u001b[0m\n\u001b[1;32m    178\u001b[0m \u001b[38;5;28;01mdef\u001b[39;00m \u001b[38;5;21m_with_events\u001b[39m(\u001b[38;5;28mself\u001b[39m, f, event_type, ex, final\u001b[38;5;241m=\u001b[39mnoop):\n\u001b[0;32m--> 179\u001b[0m     \u001b[38;5;28;01mtry\u001b[39;00m: \u001b[38;5;28mself\u001b[39m(\u001b[38;5;124mf\u001b[39m\u001b[38;5;124m'\u001b[39m\u001b[38;5;124mbefore_\u001b[39m\u001b[38;5;132;01m{\u001b[39;00mevent_type\u001b[38;5;132;01m}\u001b[39;00m\u001b[38;5;124m'\u001b[39m);  \u001b[43mf\u001b[49m\u001b[43m(\u001b[49m\u001b[43m)\u001b[49m\n\u001b[1;32m    180\u001b[0m     \u001b[38;5;28;01mexcept\u001b[39;00m ex: \u001b[38;5;28mself\u001b[39m(\u001b[38;5;124mf\u001b[39m\u001b[38;5;124m'\u001b[39m\u001b[38;5;124mafter_cancel_\u001b[39m\u001b[38;5;132;01m{\u001b[39;00mevent_type\u001b[38;5;132;01m}\u001b[39;00m\u001b[38;5;124m'\u001b[39m)\n\u001b[1;32m    181\u001b[0m     \u001b[38;5;28mself\u001b[39m(\u001b[38;5;124mf\u001b[39m\u001b[38;5;124m'\u001b[39m\u001b[38;5;124mafter_\u001b[39m\u001b[38;5;132;01m{\u001b[39;00mevent_type\u001b[38;5;132;01m}\u001b[39;00m\u001b[38;5;124m'\u001b[39m);  final()\n",
      "File \u001b[0;32m~/mambaforge/lib/python3.9/site-packages/fastai/learner.py:230\u001b[0m, in \u001b[0;36mLearner._do_fit\u001b[0;34m(self)\u001b[0m\n\u001b[1;32m    228\u001b[0m \u001b[38;5;28;01mfor\u001b[39;00m epoch \u001b[38;5;129;01min\u001b[39;00m \u001b[38;5;28mrange\u001b[39m(\u001b[38;5;28mself\u001b[39m\u001b[38;5;241m.\u001b[39mn_epoch):\n\u001b[1;32m    229\u001b[0m     \u001b[38;5;28mself\u001b[39m\u001b[38;5;241m.\u001b[39mepoch\u001b[38;5;241m=\u001b[39mepoch\n\u001b[0;32m--> 230\u001b[0m     \u001b[38;5;28;43mself\u001b[39;49m\u001b[38;5;241;43m.\u001b[39;49m\u001b[43m_with_events\u001b[49m\u001b[43m(\u001b[49m\u001b[38;5;28;43mself\u001b[39;49m\u001b[38;5;241;43m.\u001b[39;49m\u001b[43m_do_epoch\u001b[49m\u001b[43m,\u001b[49m\u001b[43m \u001b[49m\u001b[38;5;124;43m'\u001b[39;49m\u001b[38;5;124;43mepoch\u001b[39;49m\u001b[38;5;124;43m'\u001b[39;49m\u001b[43m,\u001b[49m\u001b[43m \u001b[49m\u001b[43mCancelEpochException\u001b[49m\u001b[43m)\u001b[49m\n",
      "File \u001b[0;32m~/mambaforge/lib/python3.9/site-packages/fastai/learner.py:179\u001b[0m, in \u001b[0;36mLearner._with_events\u001b[0;34m(self, f, event_type, ex, final)\u001b[0m\n\u001b[1;32m    178\u001b[0m \u001b[38;5;28;01mdef\u001b[39;00m \u001b[38;5;21m_with_events\u001b[39m(\u001b[38;5;28mself\u001b[39m, f, event_type, ex, final\u001b[38;5;241m=\u001b[39mnoop):\n\u001b[0;32m--> 179\u001b[0m     \u001b[38;5;28;01mtry\u001b[39;00m: \u001b[38;5;28mself\u001b[39m(\u001b[38;5;124mf\u001b[39m\u001b[38;5;124m'\u001b[39m\u001b[38;5;124mbefore_\u001b[39m\u001b[38;5;132;01m{\u001b[39;00mevent_type\u001b[38;5;132;01m}\u001b[39;00m\u001b[38;5;124m'\u001b[39m);  \u001b[43mf\u001b[49m\u001b[43m(\u001b[49m\u001b[43m)\u001b[49m\n\u001b[1;32m    180\u001b[0m     \u001b[38;5;28;01mexcept\u001b[39;00m ex: \u001b[38;5;28mself\u001b[39m(\u001b[38;5;124mf\u001b[39m\u001b[38;5;124m'\u001b[39m\u001b[38;5;124mafter_cancel_\u001b[39m\u001b[38;5;132;01m{\u001b[39;00mevent_type\u001b[38;5;132;01m}\u001b[39;00m\u001b[38;5;124m'\u001b[39m)\n\u001b[1;32m    181\u001b[0m     \u001b[38;5;28mself\u001b[39m(\u001b[38;5;124mf\u001b[39m\u001b[38;5;124m'\u001b[39m\u001b[38;5;124mafter_\u001b[39m\u001b[38;5;132;01m{\u001b[39;00mevent_type\u001b[38;5;132;01m}\u001b[39;00m\u001b[38;5;124m'\u001b[39m);  final()\n",
      "File \u001b[0;32m~/mambaforge/lib/python3.9/site-packages/fastai/learner.py:224\u001b[0m, in \u001b[0;36mLearner._do_epoch\u001b[0;34m(self)\u001b[0m\n\u001b[1;32m    223\u001b[0m \u001b[38;5;28;01mdef\u001b[39;00m \u001b[38;5;21m_do_epoch\u001b[39m(\u001b[38;5;28mself\u001b[39m):\n\u001b[0;32m--> 224\u001b[0m     \u001b[38;5;28;43mself\u001b[39;49m\u001b[38;5;241;43m.\u001b[39;49m\u001b[43m_do_epoch_train\u001b[49m\u001b[43m(\u001b[49m\u001b[43m)\u001b[49m\n\u001b[1;32m    225\u001b[0m     \u001b[38;5;28mself\u001b[39m\u001b[38;5;241m.\u001b[39m_do_epoch_validate()\n",
      "File \u001b[0;32m~/mambaforge/lib/python3.9/site-packages/fastai/learner.py:216\u001b[0m, in \u001b[0;36mLearner._do_epoch_train\u001b[0;34m(self)\u001b[0m\n\u001b[1;32m    214\u001b[0m \u001b[38;5;28;01mdef\u001b[39;00m \u001b[38;5;21m_do_epoch_train\u001b[39m(\u001b[38;5;28mself\u001b[39m):\n\u001b[1;32m    215\u001b[0m     \u001b[38;5;28mself\u001b[39m\u001b[38;5;241m.\u001b[39mdl \u001b[38;5;241m=\u001b[39m \u001b[38;5;28mself\u001b[39m\u001b[38;5;241m.\u001b[39mdls\u001b[38;5;241m.\u001b[39mtrain\n\u001b[0;32m--> 216\u001b[0m     \u001b[38;5;28;43mself\u001b[39;49m\u001b[38;5;241;43m.\u001b[39;49m\u001b[43m_with_events\u001b[49m\u001b[43m(\u001b[49m\u001b[38;5;28;43mself\u001b[39;49m\u001b[38;5;241;43m.\u001b[39;49m\u001b[43mall_batches\u001b[49m\u001b[43m,\u001b[49m\u001b[43m \u001b[49m\u001b[38;5;124;43m'\u001b[39;49m\u001b[38;5;124;43mtrain\u001b[39;49m\u001b[38;5;124;43m'\u001b[39;49m\u001b[43m,\u001b[49m\u001b[43m \u001b[49m\u001b[43mCancelTrainException\u001b[49m\u001b[43m)\u001b[49m\n",
      "File \u001b[0;32m~/mambaforge/lib/python3.9/site-packages/fastai/learner.py:179\u001b[0m, in \u001b[0;36mLearner._with_events\u001b[0;34m(self, f, event_type, ex, final)\u001b[0m\n\u001b[1;32m    178\u001b[0m \u001b[38;5;28;01mdef\u001b[39;00m \u001b[38;5;21m_with_events\u001b[39m(\u001b[38;5;28mself\u001b[39m, f, event_type, ex, final\u001b[38;5;241m=\u001b[39mnoop):\n\u001b[0;32m--> 179\u001b[0m     \u001b[38;5;28;01mtry\u001b[39;00m: \u001b[38;5;28mself\u001b[39m(\u001b[38;5;124mf\u001b[39m\u001b[38;5;124m'\u001b[39m\u001b[38;5;124mbefore_\u001b[39m\u001b[38;5;132;01m{\u001b[39;00mevent_type\u001b[38;5;132;01m}\u001b[39;00m\u001b[38;5;124m'\u001b[39m);  \u001b[43mf\u001b[49m\u001b[43m(\u001b[49m\u001b[43m)\u001b[49m\n\u001b[1;32m    180\u001b[0m     \u001b[38;5;28;01mexcept\u001b[39;00m ex: \u001b[38;5;28mself\u001b[39m(\u001b[38;5;124mf\u001b[39m\u001b[38;5;124m'\u001b[39m\u001b[38;5;124mafter_cancel_\u001b[39m\u001b[38;5;132;01m{\u001b[39;00mevent_type\u001b[38;5;132;01m}\u001b[39;00m\u001b[38;5;124m'\u001b[39m)\n\u001b[1;32m    181\u001b[0m     \u001b[38;5;28mself\u001b[39m(\u001b[38;5;124mf\u001b[39m\u001b[38;5;124m'\u001b[39m\u001b[38;5;124mafter_\u001b[39m\u001b[38;5;132;01m{\u001b[39;00mevent_type\u001b[38;5;132;01m}\u001b[39;00m\u001b[38;5;124m'\u001b[39m);  final()\n",
      "File \u001b[0;32m~/mambaforge/lib/python3.9/site-packages/fastai/learner.py:185\u001b[0m, in \u001b[0;36mLearner.all_batches\u001b[0;34m(self)\u001b[0m\n\u001b[1;32m    183\u001b[0m \u001b[38;5;28;01mdef\u001b[39;00m \u001b[38;5;21mall_batches\u001b[39m(\u001b[38;5;28mself\u001b[39m):\n\u001b[1;32m    184\u001b[0m     \u001b[38;5;28mself\u001b[39m\u001b[38;5;241m.\u001b[39mn_iter \u001b[38;5;241m=\u001b[39m \u001b[38;5;28mlen\u001b[39m(\u001b[38;5;28mself\u001b[39m\u001b[38;5;241m.\u001b[39mdl)\n\u001b[0;32m--> 185\u001b[0m     \u001b[38;5;28;01mfor\u001b[39;00m o \u001b[38;5;129;01min\u001b[39;00m \u001b[38;5;28menumerate\u001b[39m(\u001b[38;5;28mself\u001b[39m\u001b[38;5;241m.\u001b[39mdl): \u001b[38;5;28;43mself\u001b[39;49m\u001b[38;5;241;43m.\u001b[39;49m\u001b[43mone_batch\u001b[49m\u001b[43m(\u001b[49m\u001b[38;5;241;43m*\u001b[39;49m\u001b[43mo\u001b[49m\u001b[43m)\u001b[49m\n",
      "File \u001b[0;32m~/mambaforge/lib/python3.9/site-packages/fastai/learner.py:212\u001b[0m, in \u001b[0;36mLearner.one_batch\u001b[0;34m(self, i, b)\u001b[0m\n\u001b[1;32m    210\u001b[0m b \u001b[38;5;241m=\u001b[39m \u001b[38;5;28mself\u001b[39m\u001b[38;5;241m.\u001b[39m_set_device(b)\n\u001b[1;32m    211\u001b[0m \u001b[38;5;28mself\u001b[39m\u001b[38;5;241m.\u001b[39m_split(b)\n\u001b[0;32m--> 212\u001b[0m \u001b[38;5;28;43mself\u001b[39;49m\u001b[38;5;241;43m.\u001b[39;49m\u001b[43m_with_events\u001b[49m\u001b[43m(\u001b[49m\u001b[38;5;28;43mself\u001b[39;49m\u001b[38;5;241;43m.\u001b[39;49m\u001b[43m_do_one_batch\u001b[49m\u001b[43m,\u001b[49m\u001b[43m \u001b[49m\u001b[38;5;124;43m'\u001b[39;49m\u001b[38;5;124;43mbatch\u001b[39;49m\u001b[38;5;124;43m'\u001b[39;49m\u001b[43m,\u001b[49m\u001b[43m \u001b[49m\u001b[43mCancelBatchException\u001b[49m\u001b[43m)\u001b[49m\n",
      "File \u001b[0;32m~/mambaforge/lib/python3.9/site-packages/fastai/learner.py:179\u001b[0m, in \u001b[0;36mLearner._with_events\u001b[0;34m(self, f, event_type, ex, final)\u001b[0m\n\u001b[1;32m    178\u001b[0m \u001b[38;5;28;01mdef\u001b[39;00m \u001b[38;5;21m_with_events\u001b[39m(\u001b[38;5;28mself\u001b[39m, f, event_type, ex, final\u001b[38;5;241m=\u001b[39mnoop):\n\u001b[0;32m--> 179\u001b[0m     \u001b[38;5;28;01mtry\u001b[39;00m: \u001b[38;5;28mself\u001b[39m(\u001b[38;5;124mf\u001b[39m\u001b[38;5;124m'\u001b[39m\u001b[38;5;124mbefore_\u001b[39m\u001b[38;5;132;01m{\u001b[39;00mevent_type\u001b[38;5;132;01m}\u001b[39;00m\u001b[38;5;124m'\u001b[39m);  \u001b[43mf\u001b[49m\u001b[43m(\u001b[49m\u001b[43m)\u001b[49m\n\u001b[1;32m    180\u001b[0m     \u001b[38;5;28;01mexcept\u001b[39;00m ex: \u001b[38;5;28mself\u001b[39m(\u001b[38;5;124mf\u001b[39m\u001b[38;5;124m'\u001b[39m\u001b[38;5;124mafter_cancel_\u001b[39m\u001b[38;5;132;01m{\u001b[39;00mevent_type\u001b[38;5;132;01m}\u001b[39;00m\u001b[38;5;124m'\u001b[39m)\n\u001b[1;32m    181\u001b[0m     \u001b[38;5;28mself\u001b[39m(\u001b[38;5;124mf\u001b[39m\u001b[38;5;124m'\u001b[39m\u001b[38;5;124mafter_\u001b[39m\u001b[38;5;132;01m{\u001b[39;00mevent_type\u001b[38;5;132;01m}\u001b[39;00m\u001b[38;5;124m'\u001b[39m);  final()\n",
      "File \u001b[0;32m~/mambaforge/lib/python3.9/site-packages/fastai/learner.py:191\u001b[0m, in \u001b[0;36mLearner._do_one_batch\u001b[0;34m(self)\u001b[0m\n\u001b[1;32m    190\u001b[0m \u001b[38;5;28;01mdef\u001b[39;00m \u001b[38;5;21m_do_one_batch\u001b[39m(\u001b[38;5;28mself\u001b[39m):\n\u001b[0;32m--> 191\u001b[0m     \u001b[38;5;28mself\u001b[39m\u001b[38;5;241m.\u001b[39mpred \u001b[38;5;241m=\u001b[39m \u001b[38;5;28;43mself\u001b[39;49m\u001b[38;5;241;43m.\u001b[39;49m\u001b[43mmodel\u001b[49m\u001b[43m(\u001b[49m\u001b[38;5;241;43m*\u001b[39;49m\u001b[38;5;28;43mself\u001b[39;49m\u001b[38;5;241;43m.\u001b[39;49m\u001b[43mxb\u001b[49m\u001b[43m)\u001b[49m\n\u001b[1;32m    192\u001b[0m     \u001b[38;5;28mself\u001b[39m(\u001b[38;5;124m'\u001b[39m\u001b[38;5;124mafter_pred\u001b[39m\u001b[38;5;124m'\u001b[39m)\n\u001b[1;32m    193\u001b[0m     \u001b[38;5;28;01mif\u001b[39;00m \u001b[38;5;28mlen\u001b[39m(\u001b[38;5;28mself\u001b[39m\u001b[38;5;241m.\u001b[39myb):\n",
      "File \u001b[0;32m~/mambaforge/lib/python3.9/site-packages/torch/nn/modules/module.py:1110\u001b[0m, in \u001b[0;36mModule._call_impl\u001b[0;34m(self, *input, **kwargs)\u001b[0m\n\u001b[1;32m   1106\u001b[0m \u001b[38;5;66;03m# If we don't have any hooks, we want to skip the rest of the logic in\u001b[39;00m\n\u001b[1;32m   1107\u001b[0m \u001b[38;5;66;03m# this function, and just call forward.\u001b[39;00m\n\u001b[1;32m   1108\u001b[0m \u001b[38;5;28;01mif\u001b[39;00m \u001b[38;5;129;01mnot\u001b[39;00m (\u001b[38;5;28mself\u001b[39m\u001b[38;5;241m.\u001b[39m_backward_hooks \u001b[38;5;129;01mor\u001b[39;00m \u001b[38;5;28mself\u001b[39m\u001b[38;5;241m.\u001b[39m_forward_hooks \u001b[38;5;129;01mor\u001b[39;00m \u001b[38;5;28mself\u001b[39m\u001b[38;5;241m.\u001b[39m_forward_pre_hooks \u001b[38;5;129;01mor\u001b[39;00m _global_backward_hooks\n\u001b[1;32m   1109\u001b[0m         \u001b[38;5;129;01mor\u001b[39;00m _global_forward_hooks \u001b[38;5;129;01mor\u001b[39;00m _global_forward_pre_hooks):\n\u001b[0;32m-> 1110\u001b[0m     \u001b[38;5;28;01mreturn\u001b[39;00m \u001b[43mforward_call\u001b[49m\u001b[43m(\u001b[49m\u001b[38;5;241;43m*\u001b[39;49m\u001b[38;5;28;43minput\u001b[39;49m\u001b[43m,\u001b[49m\u001b[43m \u001b[49m\u001b[38;5;241;43m*\u001b[39;49m\u001b[38;5;241;43m*\u001b[39;49m\u001b[43mkwargs\u001b[49m\u001b[43m)\u001b[49m\n\u001b[1;32m   1111\u001b[0m \u001b[38;5;66;03m# Do not call functions when jit is used\u001b[39;00m\n\u001b[1;32m   1112\u001b[0m full_backward_hooks, non_full_backward_hooks \u001b[38;5;241m=\u001b[39m [], []\n",
      "File \u001b[0;32m~/mambaforge/lib/python3.9/site-packages/torch/nn/modules/container.py:141\u001b[0m, in \u001b[0;36mSequential.forward\u001b[0;34m(self, input)\u001b[0m\n\u001b[1;32m    139\u001b[0m \u001b[38;5;28;01mdef\u001b[39;00m \u001b[38;5;21mforward\u001b[39m(\u001b[38;5;28mself\u001b[39m, \u001b[38;5;28minput\u001b[39m):\n\u001b[1;32m    140\u001b[0m     \u001b[38;5;28;01mfor\u001b[39;00m module \u001b[38;5;129;01min\u001b[39;00m \u001b[38;5;28mself\u001b[39m:\n\u001b[0;32m--> 141\u001b[0m         \u001b[38;5;28minput\u001b[39m \u001b[38;5;241m=\u001b[39m \u001b[43mmodule\u001b[49m\u001b[43m(\u001b[49m\u001b[38;5;28;43minput\u001b[39;49m\u001b[43m)\u001b[49m\n\u001b[1;32m    142\u001b[0m     \u001b[38;5;28;01mreturn\u001b[39;00m \u001b[38;5;28minput\u001b[39m\n",
      "File \u001b[0;32m~/mambaforge/lib/python3.9/site-packages/torch/nn/modules/module.py:1110\u001b[0m, in \u001b[0;36mModule._call_impl\u001b[0;34m(self, *input, **kwargs)\u001b[0m\n\u001b[1;32m   1106\u001b[0m \u001b[38;5;66;03m# If we don't have any hooks, we want to skip the rest of the logic in\u001b[39;00m\n\u001b[1;32m   1107\u001b[0m \u001b[38;5;66;03m# this function, and just call forward.\u001b[39;00m\n\u001b[1;32m   1108\u001b[0m \u001b[38;5;28;01mif\u001b[39;00m \u001b[38;5;129;01mnot\u001b[39;00m (\u001b[38;5;28mself\u001b[39m\u001b[38;5;241m.\u001b[39m_backward_hooks \u001b[38;5;129;01mor\u001b[39;00m \u001b[38;5;28mself\u001b[39m\u001b[38;5;241m.\u001b[39m_forward_hooks \u001b[38;5;129;01mor\u001b[39;00m \u001b[38;5;28mself\u001b[39m\u001b[38;5;241m.\u001b[39m_forward_pre_hooks \u001b[38;5;129;01mor\u001b[39;00m _global_backward_hooks\n\u001b[1;32m   1109\u001b[0m         \u001b[38;5;129;01mor\u001b[39;00m _global_forward_hooks \u001b[38;5;129;01mor\u001b[39;00m _global_forward_pre_hooks):\n\u001b[0;32m-> 1110\u001b[0m     \u001b[38;5;28;01mreturn\u001b[39;00m \u001b[43mforward_call\u001b[49m\u001b[43m(\u001b[49m\u001b[38;5;241;43m*\u001b[39;49m\u001b[38;5;28;43minput\u001b[39;49m\u001b[43m,\u001b[49m\u001b[43m \u001b[49m\u001b[38;5;241;43m*\u001b[39;49m\u001b[38;5;241;43m*\u001b[39;49m\u001b[43mkwargs\u001b[49m\u001b[43m)\u001b[49m\n\u001b[1;32m   1111\u001b[0m \u001b[38;5;66;03m# Do not call functions when jit is used\u001b[39;00m\n\u001b[1;32m   1112\u001b[0m full_backward_hooks, non_full_backward_hooks \u001b[38;5;241m=\u001b[39m [], []\n",
      "File \u001b[0;32m~/mambaforge/lib/python3.9/site-packages/torch/nn/modules/container.py:141\u001b[0m, in \u001b[0;36mSequential.forward\u001b[0;34m(self, input)\u001b[0m\n\u001b[1;32m    139\u001b[0m \u001b[38;5;28;01mdef\u001b[39;00m \u001b[38;5;21mforward\u001b[39m(\u001b[38;5;28mself\u001b[39m, \u001b[38;5;28minput\u001b[39m):\n\u001b[1;32m    140\u001b[0m     \u001b[38;5;28;01mfor\u001b[39;00m module \u001b[38;5;129;01min\u001b[39;00m \u001b[38;5;28mself\u001b[39m:\n\u001b[0;32m--> 141\u001b[0m         \u001b[38;5;28minput\u001b[39m \u001b[38;5;241m=\u001b[39m \u001b[43mmodule\u001b[49m\u001b[43m(\u001b[49m\u001b[38;5;28;43minput\u001b[39;49m\u001b[43m)\u001b[49m\n\u001b[1;32m    142\u001b[0m     \u001b[38;5;28;01mreturn\u001b[39;00m \u001b[38;5;28minput\u001b[39m\n",
      "File \u001b[0;32m~/mambaforge/lib/python3.9/site-packages/torch/nn/modules/module.py:1110\u001b[0m, in \u001b[0;36mModule._call_impl\u001b[0;34m(self, *input, **kwargs)\u001b[0m\n\u001b[1;32m   1106\u001b[0m \u001b[38;5;66;03m# If we don't have any hooks, we want to skip the rest of the logic in\u001b[39;00m\n\u001b[1;32m   1107\u001b[0m \u001b[38;5;66;03m# this function, and just call forward.\u001b[39;00m\n\u001b[1;32m   1108\u001b[0m \u001b[38;5;28;01mif\u001b[39;00m \u001b[38;5;129;01mnot\u001b[39;00m (\u001b[38;5;28mself\u001b[39m\u001b[38;5;241m.\u001b[39m_backward_hooks \u001b[38;5;129;01mor\u001b[39;00m \u001b[38;5;28mself\u001b[39m\u001b[38;5;241m.\u001b[39m_forward_hooks \u001b[38;5;129;01mor\u001b[39;00m \u001b[38;5;28mself\u001b[39m\u001b[38;5;241m.\u001b[39m_forward_pre_hooks \u001b[38;5;129;01mor\u001b[39;00m _global_backward_hooks\n\u001b[1;32m   1109\u001b[0m         \u001b[38;5;129;01mor\u001b[39;00m _global_forward_hooks \u001b[38;5;129;01mor\u001b[39;00m _global_forward_pre_hooks):\n\u001b[0;32m-> 1110\u001b[0m     \u001b[38;5;28;01mreturn\u001b[39;00m \u001b[43mforward_call\u001b[49m\u001b[43m(\u001b[49m\u001b[38;5;241;43m*\u001b[39;49m\u001b[38;5;28;43minput\u001b[39;49m\u001b[43m,\u001b[49m\u001b[43m \u001b[49m\u001b[38;5;241;43m*\u001b[39;49m\u001b[38;5;241;43m*\u001b[39;49m\u001b[43mkwargs\u001b[49m\u001b[43m)\u001b[49m\n\u001b[1;32m   1111\u001b[0m \u001b[38;5;66;03m# Do not call functions when jit is used\u001b[39;00m\n\u001b[1;32m   1112\u001b[0m full_backward_hooks, non_full_backward_hooks \u001b[38;5;241m=\u001b[39m [], []\n",
      "File \u001b[0;32m~/mambaforge/lib/python3.9/site-packages/torch/nn/modules/container.py:141\u001b[0m, in \u001b[0;36mSequential.forward\u001b[0;34m(self, input)\u001b[0m\n\u001b[1;32m    139\u001b[0m \u001b[38;5;28;01mdef\u001b[39;00m \u001b[38;5;21mforward\u001b[39m(\u001b[38;5;28mself\u001b[39m, \u001b[38;5;28minput\u001b[39m):\n\u001b[1;32m    140\u001b[0m     \u001b[38;5;28;01mfor\u001b[39;00m module \u001b[38;5;129;01min\u001b[39;00m \u001b[38;5;28mself\u001b[39m:\n\u001b[0;32m--> 141\u001b[0m         \u001b[38;5;28minput\u001b[39m \u001b[38;5;241m=\u001b[39m \u001b[43mmodule\u001b[49m\u001b[43m(\u001b[49m\u001b[38;5;28;43minput\u001b[39;49m\u001b[43m)\u001b[49m\n\u001b[1;32m    142\u001b[0m     \u001b[38;5;28;01mreturn\u001b[39;00m \u001b[38;5;28minput\u001b[39m\n",
      "File \u001b[0;32m~/mambaforge/lib/python3.9/site-packages/torch/nn/modules/module.py:1131\u001b[0m, in \u001b[0;36mModule._call_impl\u001b[0;34m(self, *input, **kwargs)\u001b[0m\n\u001b[1;32m   1129\u001b[0m \u001b[38;5;28;01mif\u001b[39;00m _global_forward_hooks \u001b[38;5;129;01mor\u001b[39;00m \u001b[38;5;28mself\u001b[39m\u001b[38;5;241m.\u001b[39m_forward_hooks:\n\u001b[1;32m   1130\u001b[0m     \u001b[38;5;28;01mfor\u001b[39;00m hook \u001b[38;5;129;01min\u001b[39;00m (\u001b[38;5;241m*\u001b[39m_global_forward_hooks\u001b[38;5;241m.\u001b[39mvalues(), \u001b[38;5;241m*\u001b[39m\u001b[38;5;28mself\u001b[39m\u001b[38;5;241m.\u001b[39m_forward_hooks\u001b[38;5;241m.\u001b[39mvalues()):\n\u001b[0;32m-> 1131\u001b[0m         hook_result \u001b[38;5;241m=\u001b[39m \u001b[43mhook\u001b[49m\u001b[43m(\u001b[49m\u001b[38;5;28;43mself\u001b[39;49m\u001b[43m,\u001b[49m\u001b[43m \u001b[49m\u001b[38;5;28;43minput\u001b[39;49m\u001b[43m,\u001b[49m\u001b[43m \u001b[49m\u001b[43mresult\u001b[49m\u001b[43m)\u001b[49m\n\u001b[1;32m   1132\u001b[0m         \u001b[38;5;28;01mif\u001b[39;00m hook_result \u001b[38;5;129;01mis\u001b[39;00m \u001b[38;5;129;01mnot\u001b[39;00m \u001b[38;5;28;01mNone\u001b[39;00m:\n\u001b[1;32m   1133\u001b[0m             result \u001b[38;5;241m=\u001b[39m hook_result\n",
      "File \u001b[0;32m~/mambaforge/lib/python3.9/site-packages/fastai/callback/hook.py:28\u001b[0m, in \u001b[0;36mHook.hook_fn\u001b[0;34m(self, module, input, output)\u001b[0m\n\u001b[1;32m     26\u001b[0m \u001b[38;5;28;01mif\u001b[39;00m \u001b[38;5;28mself\u001b[39m\u001b[38;5;241m.\u001b[39mdetach:\n\u001b[1;32m     27\u001b[0m     \u001b[38;5;28minput\u001b[39m,output \u001b[38;5;241m=\u001b[39m to_detach(\u001b[38;5;28minput\u001b[39m, cpu\u001b[38;5;241m=\u001b[39m\u001b[38;5;28mself\u001b[39m\u001b[38;5;241m.\u001b[39mcpu, gather\u001b[38;5;241m=\u001b[39m\u001b[38;5;28mself\u001b[39m\u001b[38;5;241m.\u001b[39mgather),to_detach(output, cpu\u001b[38;5;241m=\u001b[39m\u001b[38;5;28mself\u001b[39m\u001b[38;5;241m.\u001b[39mcpu, gather\u001b[38;5;241m=\u001b[39m\u001b[38;5;28mself\u001b[39m\u001b[38;5;241m.\u001b[39mgather)\n\u001b[0;32m---> 28\u001b[0m \u001b[38;5;28mself\u001b[39m\u001b[38;5;241m.\u001b[39mstored \u001b[38;5;241m=\u001b[39m \u001b[38;5;28;43mself\u001b[39;49m\u001b[38;5;241;43m.\u001b[39;49m\u001b[43mhook_func\u001b[49m\u001b[43m(\u001b[49m\u001b[43mmodule\u001b[49m\u001b[43m,\u001b[49m\u001b[43m \u001b[49m\u001b[38;5;28;43minput\u001b[39;49m\u001b[43m,\u001b[49m\u001b[43m \u001b[49m\u001b[43moutput\u001b[49m\u001b[43m)\u001b[49m\n",
      "File \u001b[0;32m~/mambaforge/lib/python3.9/site-packages/fastai/callback/hook.py:240\u001b[0m, in \u001b[0;36mActivationStats.hook\u001b[0;34m(self, m, i, o)\u001b[0m\n\u001b[1;32m    237\u001b[0m \u001b[38;5;28;01mif\u001b[39;00m \u001b[38;5;28misinstance\u001b[39m(o, \u001b[38;5;28mtuple\u001b[39m): \u001b[38;5;28;01mreturn\u001b[39;00m \u001b[38;5;28mself\u001b[39m\u001b[38;5;241m.\u001b[39mhook_multi_ouput(o)\n\u001b[1;32m    238\u001b[0m o \u001b[38;5;241m=\u001b[39m o\u001b[38;5;241m.\u001b[39mfloat()\n\u001b[1;32m    239\u001b[0m res \u001b[38;5;241m=\u001b[39m {\u001b[38;5;124m'\u001b[39m\u001b[38;5;124mmean\u001b[39m\u001b[38;5;124m'\u001b[39m: o\u001b[38;5;241m.\u001b[39mmean()\u001b[38;5;241m.\u001b[39mitem(), \u001b[38;5;124m'\u001b[39m\u001b[38;5;124mstd\u001b[39m\u001b[38;5;124m'\u001b[39m: o\u001b[38;5;241m.\u001b[39mstd()\u001b[38;5;241m.\u001b[39mitem(),\n\u001b[0;32m--> 240\u001b[0m        \u001b[38;5;124m'\u001b[39m\u001b[38;5;124mnear_zero\u001b[39m\u001b[38;5;124m'\u001b[39m: \u001b[43m(\u001b[49m\u001b[43mo\u001b[49m\u001b[38;5;241;43m<\u001b[39;49m\u001b[38;5;241;43m=\u001b[39;49m\u001b[38;5;241;43m0.05\u001b[39;49m\u001b[43m)\u001b[49m\u001b[38;5;241;43m.\u001b[39;49m\u001b[43mlong\u001b[49m\u001b[43m(\u001b[49m\u001b[43m)\u001b[49m\u001b[38;5;241m.\u001b[39msum()\u001b[38;5;241m.\u001b[39mitem()\u001b[38;5;241m/\u001b[39mo\u001b[38;5;241m.\u001b[39mnumel()}\n\u001b[1;32m    241\u001b[0m \u001b[38;5;28;01mif\u001b[39;00m \u001b[38;5;28mself\u001b[39m\u001b[38;5;241m.\u001b[39mwith_hist: res[\u001b[38;5;124m'\u001b[39m\u001b[38;5;124mhist\u001b[39m\u001b[38;5;124m'\u001b[39m] \u001b[38;5;241m=\u001b[39m o\u001b[38;5;241m.\u001b[39mhistc(\u001b[38;5;241m40\u001b[39m,\u001b[38;5;241m0\u001b[39m,\u001b[38;5;241m10\u001b[39m)\n\u001b[1;32m    242\u001b[0m \u001b[38;5;28;01mreturn\u001b[39;00m res\n",
      "\u001b[0;31mKeyboardInterrupt\u001b[0m: "
     ]
    }
   ],
   "source": [
    "def fit(epochs=1, lr=0.06):\n",
    "    learn = Learner(dls, simple_cnn(), loss_func=F.cross_entropy,\n",
    "                    metrics=accuracy, cbs=ActivationStats(with_hist=True))\n",
    "    learn.fit_one_cycle(epochs, 0.06)\n",
    "    return learn\n",
    "\n",
    "learn = fit(5, lr=0.1)\n",
    "learn = fit(5, lr=0.1)"
   ]
  }
 ],
 "metadata": {
  "kernelspec": {
   "display_name": "Python 3 (ipykernel)",
   "language": "python",
   "name": "python3"
  },
  "language_info": {
   "codemirror_mode": {
    "name": "ipython",
    "version": 3
   },
   "file_extension": ".py",
   "mimetype": "text/x-python",
   "name": "python",
   "nbconvert_exporter": "python",
   "pygments_lexer": "ipython3",
   "version": "3.9.13"
  }
 },
 "nbformat": 4,
 "nbformat_minor": 5
}
